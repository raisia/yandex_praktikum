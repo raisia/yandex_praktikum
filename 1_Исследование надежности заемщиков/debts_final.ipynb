{
 "cells": [
  {
   "cell_type": "markdown",
   "id": "fa2d1bc5",
   "metadata": {
    "deletable": false,
    "editable": false,
    "id": "c81daeeb"
   },
   "source": [
    "# Исследование надежности заемщиков\n"
   ]
  },
  {
   "cell_type": "markdown",
   "id": "7b6a7648",
   "metadata": {},
   "source": [
    "**Описание проекта:**\\\n",
    "Заказчик — кредитный отдел банка.\\\n",
    "Нужно разобраться, влияет ли семейное положение и количество детей клиента на факт погашения кредита в срок. Входные данные от банка — статистика о платёжеспособности клиентов.\\\n",
    "Результаты исследования будут учтены при построении модели кредитного скоринга — специальной системы, которая оценивает способность потенциального заёмщика вернуть кредит банку."
   ]
  },
  {
   "cell_type": "markdown",
   "id": "95c3285f",
   "metadata": {},
   "source": [
    "**Описание данных:**\\\n",
    "`children` — количество детей в семье,\\\n",
    "`days_employed` — общий трудовой стаж в днях,\\\n",
    "`dob_years` — возраст клиента в годах,\\\n",
    "`education` — уровень образования клиента,\\\n",
    "`education_id` — идентификатор уровня образования,\\\n",
    "`family_status` — семейное положение,\\\n",
    "`family_status_id` — идентификатор семейного положения,\\\n",
    "`gender` — пол клиента,\\\n",
    "`income_type` — тип занятости,\\\n",
    "`debt` — имел ли задолженность по возврату кредитов,\\\n",
    "`total_income` — ежемесячный доход,\\\n",
    "`purpose` — цель получения кредита."
   ]
  },
  {
   "cell_type": "markdown",
   "id": "82c2865c",
   "metadata": {
    "deletable": false,
    "editable": false,
    "id": "744d7639"
   },
   "source": [
    "## Откройте таблицу и изучите общую информацию о данных"
   ]
  },
  {
   "cell_type": "markdown",
   "id": "26b27c70",
   "metadata": {
    "deletable": false,
    "editable": false,
    "id": "e7a14c31"
   },
   "source": [
    "**Задание 1. Импортируйте библиотеку pandas. Считайте данные из csv-файла в датафрейм и сохраните в переменную `data`. Путь к файлу:**\n",
    "\n",
    "`/datasets/data.csv`"
   ]
  },
  {
   "cell_type": "code",
   "execution_count": 1,
   "id": "93827204",
   "metadata": {
    "deletable": false,
    "id": "7bcf75c9"
   },
   "outputs": [],
   "source": [
    "import pandas as pd\n",
    "\n",
    "try:\n",
    "    data = pd.read_csv('/datasets/data.csv')\n",
    "except:\n",
    "    data = pd.read_csv('https://code.s3.yandex.net/datasets/data.csv')"
   ]
  },
  {
   "cell_type": "markdown",
   "id": "58615226",
   "metadata": {
    "deletable": false,
    "editable": false,
    "id": "b8038fe3"
   },
   "source": [
    "**Задание 2. Выведите первые 20 строчек датафрейма `data` на экран.**"
   ]
  },
  {
   "cell_type": "code",
   "execution_count": 2,
   "id": "2647f228",
   "metadata": {
    "deletable": false,
    "id": "2a7cab99",
    "outputId": "1a8f3ef2-d323-4ec2-ddf7-89670b5944c4"
   },
   "outputs": [
    {
     "data": {
      "text/html": [
       "<div>\n",
       "<style scoped>\n",
       "    .dataframe tbody tr th:only-of-type {\n",
       "        vertical-align: middle;\n",
       "    }\n",
       "\n",
       "    .dataframe tbody tr th {\n",
       "        vertical-align: top;\n",
       "    }\n",
       "\n",
       "    .dataframe thead th {\n",
       "        text-align: right;\n",
       "    }\n",
       "</style>\n",
       "<table border=\"1\" class=\"dataframe\">\n",
       "  <thead>\n",
       "    <tr style=\"text-align: right;\">\n",
       "      <th></th>\n",
       "      <th>children</th>\n",
       "      <th>days_employed</th>\n",
       "      <th>dob_years</th>\n",
       "      <th>education</th>\n",
       "      <th>education_id</th>\n",
       "      <th>family_status</th>\n",
       "      <th>family_status_id</th>\n",
       "      <th>gender</th>\n",
       "      <th>income_type</th>\n",
       "      <th>debt</th>\n",
       "      <th>total_income</th>\n",
       "      <th>purpose</th>\n",
       "    </tr>\n",
       "  </thead>\n",
       "  <tbody>\n",
       "    <tr>\n",
       "      <th>0</th>\n",
       "      <td>1</td>\n",
       "      <td>-8437.673028</td>\n",
       "      <td>42</td>\n",
       "      <td>высшее</td>\n",
       "      <td>0</td>\n",
       "      <td>женат / замужем</td>\n",
       "      <td>0</td>\n",
       "      <td>F</td>\n",
       "      <td>сотрудник</td>\n",
       "      <td>0</td>\n",
       "      <td>253875.639453</td>\n",
       "      <td>покупка жилья</td>\n",
       "    </tr>\n",
       "    <tr>\n",
       "      <th>1</th>\n",
       "      <td>1</td>\n",
       "      <td>-4024.803754</td>\n",
       "      <td>36</td>\n",
       "      <td>среднее</td>\n",
       "      <td>1</td>\n",
       "      <td>женат / замужем</td>\n",
       "      <td>0</td>\n",
       "      <td>F</td>\n",
       "      <td>сотрудник</td>\n",
       "      <td>0</td>\n",
       "      <td>112080.014102</td>\n",
       "      <td>приобретение автомобиля</td>\n",
       "    </tr>\n",
       "    <tr>\n",
       "      <th>2</th>\n",
       "      <td>0</td>\n",
       "      <td>-5623.422610</td>\n",
       "      <td>33</td>\n",
       "      <td>Среднее</td>\n",
       "      <td>1</td>\n",
       "      <td>женат / замужем</td>\n",
       "      <td>0</td>\n",
       "      <td>M</td>\n",
       "      <td>сотрудник</td>\n",
       "      <td>0</td>\n",
       "      <td>145885.952297</td>\n",
       "      <td>покупка жилья</td>\n",
       "    </tr>\n",
       "    <tr>\n",
       "      <th>3</th>\n",
       "      <td>3</td>\n",
       "      <td>-4124.747207</td>\n",
       "      <td>32</td>\n",
       "      <td>среднее</td>\n",
       "      <td>1</td>\n",
       "      <td>женат / замужем</td>\n",
       "      <td>0</td>\n",
       "      <td>M</td>\n",
       "      <td>сотрудник</td>\n",
       "      <td>0</td>\n",
       "      <td>267628.550329</td>\n",
       "      <td>дополнительное образование</td>\n",
       "    </tr>\n",
       "    <tr>\n",
       "      <th>4</th>\n",
       "      <td>0</td>\n",
       "      <td>340266.072047</td>\n",
       "      <td>53</td>\n",
       "      <td>среднее</td>\n",
       "      <td>1</td>\n",
       "      <td>гражданский брак</td>\n",
       "      <td>1</td>\n",
       "      <td>F</td>\n",
       "      <td>пенсионер</td>\n",
       "      <td>0</td>\n",
       "      <td>158616.077870</td>\n",
       "      <td>сыграть свадьбу</td>\n",
       "    </tr>\n",
       "    <tr>\n",
       "      <th>5</th>\n",
       "      <td>0</td>\n",
       "      <td>-926.185831</td>\n",
       "      <td>27</td>\n",
       "      <td>высшее</td>\n",
       "      <td>0</td>\n",
       "      <td>гражданский брак</td>\n",
       "      <td>1</td>\n",
       "      <td>M</td>\n",
       "      <td>компаньон</td>\n",
       "      <td>0</td>\n",
       "      <td>255763.565419</td>\n",
       "      <td>покупка жилья</td>\n",
       "    </tr>\n",
       "    <tr>\n",
       "      <th>6</th>\n",
       "      <td>0</td>\n",
       "      <td>-2879.202052</td>\n",
       "      <td>43</td>\n",
       "      <td>высшее</td>\n",
       "      <td>0</td>\n",
       "      <td>женат / замужем</td>\n",
       "      <td>0</td>\n",
       "      <td>F</td>\n",
       "      <td>компаньон</td>\n",
       "      <td>0</td>\n",
       "      <td>240525.971920</td>\n",
       "      <td>операции с жильем</td>\n",
       "    </tr>\n",
       "    <tr>\n",
       "      <th>7</th>\n",
       "      <td>0</td>\n",
       "      <td>-152.779569</td>\n",
       "      <td>50</td>\n",
       "      <td>СРЕДНЕЕ</td>\n",
       "      <td>1</td>\n",
       "      <td>женат / замужем</td>\n",
       "      <td>0</td>\n",
       "      <td>M</td>\n",
       "      <td>сотрудник</td>\n",
       "      <td>0</td>\n",
       "      <td>135823.934197</td>\n",
       "      <td>образование</td>\n",
       "    </tr>\n",
       "    <tr>\n",
       "      <th>8</th>\n",
       "      <td>2</td>\n",
       "      <td>-6929.865299</td>\n",
       "      <td>35</td>\n",
       "      <td>ВЫСШЕЕ</td>\n",
       "      <td>0</td>\n",
       "      <td>гражданский брак</td>\n",
       "      <td>1</td>\n",
       "      <td>F</td>\n",
       "      <td>сотрудник</td>\n",
       "      <td>0</td>\n",
       "      <td>95856.832424</td>\n",
       "      <td>на проведение свадьбы</td>\n",
       "    </tr>\n",
       "    <tr>\n",
       "      <th>9</th>\n",
       "      <td>0</td>\n",
       "      <td>-2188.756445</td>\n",
       "      <td>41</td>\n",
       "      <td>среднее</td>\n",
       "      <td>1</td>\n",
       "      <td>женат / замужем</td>\n",
       "      <td>0</td>\n",
       "      <td>M</td>\n",
       "      <td>сотрудник</td>\n",
       "      <td>0</td>\n",
       "      <td>144425.938277</td>\n",
       "      <td>покупка жилья для семьи</td>\n",
       "    </tr>\n",
       "    <tr>\n",
       "      <th>10</th>\n",
       "      <td>2</td>\n",
       "      <td>-4171.483647</td>\n",
       "      <td>36</td>\n",
       "      <td>высшее</td>\n",
       "      <td>0</td>\n",
       "      <td>женат / замужем</td>\n",
       "      <td>0</td>\n",
       "      <td>M</td>\n",
       "      <td>компаньон</td>\n",
       "      <td>0</td>\n",
       "      <td>113943.491460</td>\n",
       "      <td>покупка недвижимости</td>\n",
       "    </tr>\n",
       "    <tr>\n",
       "      <th>11</th>\n",
       "      <td>0</td>\n",
       "      <td>-792.701887</td>\n",
       "      <td>40</td>\n",
       "      <td>среднее</td>\n",
       "      <td>1</td>\n",
       "      <td>женат / замужем</td>\n",
       "      <td>0</td>\n",
       "      <td>F</td>\n",
       "      <td>сотрудник</td>\n",
       "      <td>0</td>\n",
       "      <td>77069.234271</td>\n",
       "      <td>покупка коммерческой недвижимости</td>\n",
       "    </tr>\n",
       "    <tr>\n",
       "      <th>12</th>\n",
       "      <td>0</td>\n",
       "      <td>NaN</td>\n",
       "      <td>65</td>\n",
       "      <td>среднее</td>\n",
       "      <td>1</td>\n",
       "      <td>гражданский брак</td>\n",
       "      <td>1</td>\n",
       "      <td>M</td>\n",
       "      <td>пенсионер</td>\n",
       "      <td>0</td>\n",
       "      <td>NaN</td>\n",
       "      <td>сыграть свадьбу</td>\n",
       "    </tr>\n",
       "    <tr>\n",
       "      <th>13</th>\n",
       "      <td>0</td>\n",
       "      <td>-1846.641941</td>\n",
       "      <td>54</td>\n",
       "      <td>неоконченное высшее</td>\n",
       "      <td>2</td>\n",
       "      <td>женат / замужем</td>\n",
       "      <td>0</td>\n",
       "      <td>F</td>\n",
       "      <td>сотрудник</td>\n",
       "      <td>0</td>\n",
       "      <td>130458.228857</td>\n",
       "      <td>приобретение автомобиля</td>\n",
       "    </tr>\n",
       "    <tr>\n",
       "      <th>14</th>\n",
       "      <td>0</td>\n",
       "      <td>-1844.956182</td>\n",
       "      <td>56</td>\n",
       "      <td>высшее</td>\n",
       "      <td>0</td>\n",
       "      <td>гражданский брак</td>\n",
       "      <td>1</td>\n",
       "      <td>F</td>\n",
       "      <td>компаньон</td>\n",
       "      <td>1</td>\n",
       "      <td>165127.911772</td>\n",
       "      <td>покупка жилой недвижимости</td>\n",
       "    </tr>\n",
       "    <tr>\n",
       "      <th>15</th>\n",
       "      <td>1</td>\n",
       "      <td>-972.364419</td>\n",
       "      <td>26</td>\n",
       "      <td>среднее</td>\n",
       "      <td>1</td>\n",
       "      <td>женат / замужем</td>\n",
       "      <td>0</td>\n",
       "      <td>F</td>\n",
       "      <td>сотрудник</td>\n",
       "      <td>0</td>\n",
       "      <td>116820.904450</td>\n",
       "      <td>строительство собственной недвижимости</td>\n",
       "    </tr>\n",
       "    <tr>\n",
       "      <th>16</th>\n",
       "      <td>0</td>\n",
       "      <td>-1719.934226</td>\n",
       "      <td>35</td>\n",
       "      <td>среднее</td>\n",
       "      <td>1</td>\n",
       "      <td>женат / замужем</td>\n",
       "      <td>0</td>\n",
       "      <td>F</td>\n",
       "      <td>сотрудник</td>\n",
       "      <td>0</td>\n",
       "      <td>289202.704229</td>\n",
       "      <td>недвижимость</td>\n",
       "    </tr>\n",
       "    <tr>\n",
       "      <th>17</th>\n",
       "      <td>0</td>\n",
       "      <td>-2369.999720</td>\n",
       "      <td>33</td>\n",
       "      <td>высшее</td>\n",
       "      <td>0</td>\n",
       "      <td>гражданский брак</td>\n",
       "      <td>1</td>\n",
       "      <td>M</td>\n",
       "      <td>сотрудник</td>\n",
       "      <td>0</td>\n",
       "      <td>90410.586745</td>\n",
       "      <td>строительство недвижимости</td>\n",
       "    </tr>\n",
       "    <tr>\n",
       "      <th>18</th>\n",
       "      <td>0</td>\n",
       "      <td>400281.136913</td>\n",
       "      <td>53</td>\n",
       "      <td>среднее</td>\n",
       "      <td>1</td>\n",
       "      <td>вдовец / вдова</td>\n",
       "      <td>2</td>\n",
       "      <td>F</td>\n",
       "      <td>пенсионер</td>\n",
       "      <td>0</td>\n",
       "      <td>56823.777243</td>\n",
       "      <td>на покупку подержанного автомобиля</td>\n",
       "    </tr>\n",
       "    <tr>\n",
       "      <th>19</th>\n",
       "      <td>0</td>\n",
       "      <td>-10038.818549</td>\n",
       "      <td>48</td>\n",
       "      <td>СРЕДНЕЕ</td>\n",
       "      <td>1</td>\n",
       "      <td>в разводе</td>\n",
       "      <td>3</td>\n",
       "      <td>F</td>\n",
       "      <td>сотрудник</td>\n",
       "      <td>0</td>\n",
       "      <td>242831.107982</td>\n",
       "      <td>на покупку своего автомобиля</td>\n",
       "    </tr>\n",
       "  </tbody>\n",
       "</table>\n",
       "</div>"
      ],
      "text/plain": [
       "    children  days_employed  dob_years            education  education_id  \\\n",
       "0          1   -8437.673028         42               высшее             0   \n",
       "1          1   -4024.803754         36              среднее             1   \n",
       "2          0   -5623.422610         33              Среднее             1   \n",
       "3          3   -4124.747207         32              среднее             1   \n",
       "4          0  340266.072047         53              среднее             1   \n",
       "5          0    -926.185831         27               высшее             0   \n",
       "6          0   -2879.202052         43               высшее             0   \n",
       "7          0    -152.779569         50              СРЕДНЕЕ             1   \n",
       "8          2   -6929.865299         35               ВЫСШЕЕ             0   \n",
       "9          0   -2188.756445         41              среднее             1   \n",
       "10         2   -4171.483647         36               высшее             0   \n",
       "11         0    -792.701887         40              среднее             1   \n",
       "12         0            NaN         65              среднее             1   \n",
       "13         0   -1846.641941         54  неоконченное высшее             2   \n",
       "14         0   -1844.956182         56               высшее             0   \n",
       "15         1    -972.364419         26              среднее             1   \n",
       "16         0   -1719.934226         35              среднее             1   \n",
       "17         0   -2369.999720         33               высшее             0   \n",
       "18         0  400281.136913         53              среднее             1   \n",
       "19         0  -10038.818549         48              СРЕДНЕЕ             1   \n",
       "\n",
       "       family_status  family_status_id gender income_type  debt  \\\n",
       "0    женат / замужем                 0      F   сотрудник     0   \n",
       "1    женат / замужем                 0      F   сотрудник     0   \n",
       "2    женат / замужем                 0      M   сотрудник     0   \n",
       "3    женат / замужем                 0      M   сотрудник     0   \n",
       "4   гражданский брак                 1      F   пенсионер     0   \n",
       "5   гражданский брак                 1      M   компаньон     0   \n",
       "6    женат / замужем                 0      F   компаньон     0   \n",
       "7    женат / замужем                 0      M   сотрудник     0   \n",
       "8   гражданский брак                 1      F   сотрудник     0   \n",
       "9    женат / замужем                 0      M   сотрудник     0   \n",
       "10   женат / замужем                 0      M   компаньон     0   \n",
       "11   женат / замужем                 0      F   сотрудник     0   \n",
       "12  гражданский брак                 1      M   пенсионер     0   \n",
       "13   женат / замужем                 0      F   сотрудник     0   \n",
       "14  гражданский брак                 1      F   компаньон     1   \n",
       "15   женат / замужем                 0      F   сотрудник     0   \n",
       "16   женат / замужем                 0      F   сотрудник     0   \n",
       "17  гражданский брак                 1      M   сотрудник     0   \n",
       "18    вдовец / вдова                 2      F   пенсионер     0   \n",
       "19         в разводе                 3      F   сотрудник     0   \n",
       "\n",
       "     total_income                                 purpose  \n",
       "0   253875.639453                           покупка жилья  \n",
       "1   112080.014102                 приобретение автомобиля  \n",
       "2   145885.952297                           покупка жилья  \n",
       "3   267628.550329              дополнительное образование  \n",
       "4   158616.077870                         сыграть свадьбу  \n",
       "5   255763.565419                           покупка жилья  \n",
       "6   240525.971920                       операции с жильем  \n",
       "7   135823.934197                             образование  \n",
       "8    95856.832424                   на проведение свадьбы  \n",
       "9   144425.938277                 покупка жилья для семьи  \n",
       "10  113943.491460                    покупка недвижимости  \n",
       "11   77069.234271       покупка коммерческой недвижимости  \n",
       "12            NaN                         сыграть свадьбу  \n",
       "13  130458.228857                 приобретение автомобиля  \n",
       "14  165127.911772              покупка жилой недвижимости  \n",
       "15  116820.904450  строительство собственной недвижимости  \n",
       "16  289202.704229                            недвижимость  \n",
       "17   90410.586745              строительство недвижимости  \n",
       "18   56823.777243      на покупку подержанного автомобиля  \n",
       "19  242831.107982            на покупку своего автомобиля  "
      ]
     },
     "execution_count": 2,
     "metadata": {},
     "output_type": "execute_result"
    }
   ],
   "source": [
    "data.head(20)"
   ]
  },
  {
   "cell_type": "markdown",
   "id": "91acee18",
   "metadata": {
    "deletable": false,
    "editable": false,
    "id": "1c12e233"
   },
   "source": [
    "**Задание 3. Выведите основную информацию о датафрейме с помощью метода `info()`.**"
   ]
  },
  {
   "cell_type": "code",
   "execution_count": 3,
   "id": "a478a8e9",
   "metadata": {
    "deletable": false,
    "id": "2b757bca",
    "outputId": "15376089-8dad-46c9-b520-c05248d43158"
   },
   "outputs": [
    {
     "name": "stdout",
     "output_type": "stream",
     "text": [
      "<class 'pandas.core.frame.DataFrame'>\n",
      "RangeIndex: 21525 entries, 0 to 21524\n",
      "Data columns (total 12 columns):\n",
      " #   Column            Non-Null Count  Dtype  \n",
      "---  ------            --------------  -----  \n",
      " 0   children          21525 non-null  int64  \n",
      " 1   days_employed     19351 non-null  float64\n",
      " 2   dob_years         21525 non-null  int64  \n",
      " 3   education         21525 non-null  object \n",
      " 4   education_id      21525 non-null  int64  \n",
      " 5   family_status     21525 non-null  object \n",
      " 6   family_status_id  21525 non-null  int64  \n",
      " 7   gender            21525 non-null  object \n",
      " 8   income_type       21525 non-null  object \n",
      " 9   debt              21525 non-null  int64  \n",
      " 10  total_income      19351 non-null  float64\n",
      " 11  purpose           21525 non-null  object \n",
      "dtypes: float64(2), int64(5), object(5)\n",
      "memory usage: 2.0+ MB\n"
     ]
    }
   ],
   "source": [
    "data.info()"
   ]
  },
  {
   "cell_type": "markdown",
   "id": "2328187d",
   "metadata": {
    "deletable": false,
    "editable": false,
    "id": "333ec665"
   },
   "source": [
    "## Предобработка данных"
   ]
  },
  {
   "cell_type": "markdown",
   "id": "1ab0ba55",
   "metadata": {
    "deletable": false,
    "editable": false,
    "id": "02d92d53"
   },
   "source": [
    "### Удаление пропусков"
   ]
  },
  {
   "cell_type": "markdown",
   "id": "597c7b26",
   "metadata": {
    "deletable": false,
    "editable": false,
    "id": "cd84967c"
   },
   "source": [
    "**Задание 4. Выведите количество пропущенных значений для каждого столбца. Используйте комбинацию двух методов.**"
   ]
  },
  {
   "cell_type": "code",
   "execution_count": 4,
   "id": "eeb6d037",
   "metadata": {
    "deletable": false,
    "id": "7f9b2309",
    "outputId": "81f4d817-781c-465c-ed15-91ce4446810d"
   },
   "outputs": [
    {
     "data": {
      "text/plain": [
       "children               0\n",
       "days_employed       2174\n",
       "dob_years              0\n",
       "education              0\n",
       "education_id           0\n",
       "family_status          0\n",
       "family_status_id       0\n",
       "gender                 0\n",
       "income_type            0\n",
       "debt                   0\n",
       "total_income        2174\n",
       "purpose                0\n",
       "dtype: int64"
      ]
     },
     "execution_count": 4,
     "metadata": {},
     "output_type": "execute_result"
    }
   ],
   "source": [
    "data.isna().sum()"
   ]
  },
  {
   "cell_type": "markdown",
   "id": "c7219c5b",
   "metadata": {
    "deletable": false,
    "editable": false,
    "id": "db86e27b"
   },
   "source": [
    "**Задание 5. В двух столбцах есть пропущенные значения. Один из них — `days_employed`. Пропуски в этом столбце вы обработаете на следующем этапе. Другой столбец с пропущенными значениями — `total_income` — хранит данные о доходах. На сумму дохода сильнее всего влияет тип занятости, поэтому заполнить пропуски в этом столбце нужно медианным значением по каждому типу из столбца `income_type`. Например, у человека с типом занятости `сотрудник` пропуск в столбце `total_income` должен быть заполнен медианным доходом среди всех записей с тем же типом.**"
   ]
  },
  {
   "cell_type": "code",
   "execution_count": 5,
   "id": "35bdf432",
   "metadata": {
    "deletable": false,
    "id": "42006a93"
   },
   "outputs": [],
   "source": [
    "for t in data['income_type'].unique():\n",
    "    data.loc[(data['income_type'] == t) & (data['total_income'].isna()), 'total_income'] = \\\n",
    "    data.loc[(data['income_type'] == t), 'total_income'].median()"
   ]
  },
  {
   "cell_type": "markdown",
   "id": "905c9860",
   "metadata": {
    "deletable": false,
    "editable": false,
    "id": "89da5ece"
   },
   "source": [
    "### Обработка аномальных значений"
   ]
  },
  {
   "cell_type": "markdown",
   "id": "f917131b",
   "metadata": {
    "deletable": false,
    "editable": false,
    "id": "57964554"
   },
   "source": [
    "**Задание 6. В данных могут встречаться артефакты (аномалии) — значения, которые не отражают действительность и появились по какой-то ошибке. таким артефактом будет отрицательное количество дней трудового стажа в столбце `days_employed`. Для реальных данных это нормально. Обработайте значения в этом столбце: замените все отрицательные значения положительными с помощью метода `abs()`.**"
   ]
  },
  {
   "cell_type": "code",
   "execution_count": 6,
   "id": "b3d61eb1",
   "metadata": {
    "deletable": false,
    "id": "f6f055bf"
   },
   "outputs": [],
   "source": [
    "data['days_employed'] = data['days_employed'].abs()"
   ]
  },
  {
   "cell_type": "markdown",
   "id": "6937e7cc",
   "metadata": {
    "deletable": false,
    "editable": false,
    "id": "6107dd2f"
   },
   "source": [
    "**Задание 7. Для каждого типа занятости выведите медианное значение трудового стажа `days_employed` в днях.**"
   ]
  },
  {
   "cell_type": "code",
   "execution_count": 7,
   "id": "fdeb5dc4",
   "metadata": {
    "deletable": false,
    "id": "85a5faf6",
    "outputId": "801ef80e-522b-4668-f34e-565af7432bcf"
   },
   "outputs": [
    {
     "data": {
      "text/plain": [
       "income_type\n",
       "безработный        366413.652744\n",
       "в декрете            3296.759962\n",
       "госслужащий          2689.368353\n",
       "компаньон            1547.382223\n",
       "пенсионер          365213.306266\n",
       "предприниматель       520.848083\n",
       "сотрудник            1574.202821\n",
       "студент               578.751554\n",
       "Name: days_employed, dtype: float64"
      ]
     },
     "execution_count": 7,
     "metadata": {},
     "output_type": "execute_result"
    }
   ],
   "source": [
    "data.groupby('income_type')['days_employed'].agg('median')"
   ]
  },
  {
   "cell_type": "markdown",
   "id": "ca074420",
   "metadata": {
    "deletable": false,
    "editable": false,
    "id": "38d1a030"
   },
   "source": [
    "У двух типов (безработные и пенсионеры) получатся аномально большие значения. Исправить такие значения сложно, поэтому оставьте их как есть. Тем более этот столбец не понадобится вам для исследования."
   ]
  },
  {
   "cell_type": "markdown",
   "id": "797f9bbd",
   "metadata": {
    "deletable": false,
    "editable": false,
    "id": "d8a9f147"
   },
   "source": [
    "**Задание 8. Выведите перечень уникальных значений столбца `children`.**"
   ]
  },
  {
   "cell_type": "code",
   "execution_count": 8,
   "id": "030060d2",
   "metadata": {
    "deletable": false,
    "id": "ef5056eb",
    "outputId": "6975b15c-7f95-4697-d16d-a0c79b657b03"
   },
   "outputs": [
    {
     "data": {
      "text/plain": [
       "array([ 1,  0,  3,  2, -1,  4, 20,  5])"
      ]
     },
     "execution_count": 8,
     "metadata": {},
     "output_type": "execute_result"
    }
   ],
   "source": [
    "data['children'].unique()"
   ]
  },
  {
   "cell_type": "markdown",
   "id": "ffbd783f",
   "metadata": {
    "deletable": false,
    "editable": false,
    "id": "40b9ebf2"
   },
   "source": [
    "**Задание 9. В столбце `children` есть два аномальных значения. Удалите строки, в которых встречаются такие аномальные значения из датафрейма `data`.**"
   ]
  },
  {
   "cell_type": "code",
   "execution_count": 9,
   "id": "7f4375a3",
   "metadata": {
    "deletable": false,
    "id": "3ff9801d"
   },
   "outputs": [],
   "source": [
    "data = data[(data['children'] != -1) & (data['children'] != 20)]"
   ]
  },
  {
   "cell_type": "markdown",
   "id": "7a73940a",
   "metadata": {
    "deletable": false,
    "editable": false,
    "id": "bbc4d0ce"
   },
   "source": [
    "**Задание 10. Ещё раз выведите перечень уникальных значений столбца `children`, чтобы убедиться, что артефакты удалены.**"
   ]
  },
  {
   "cell_type": "code",
   "execution_count": 10,
   "id": "c7d27be3",
   "metadata": {
    "deletable": false,
    "id": "ad4fa8b7",
    "outputId": "b2097101-d49d-44d9-901b-32a65c9463d1"
   },
   "outputs": [
    {
     "data": {
      "text/plain": [
       "array([1, 0, 3, 2, 4, 5])"
      ]
     },
     "execution_count": 10,
     "metadata": {},
     "output_type": "execute_result"
    }
   ],
   "source": [
    "data['children'].unique()"
   ]
  },
  {
   "cell_type": "markdown",
   "id": "8865496e",
   "metadata": {
    "deletable": false,
    "editable": false,
    "id": "75440b63"
   },
   "source": [
    "### Удаление пропусков (продолжение)"
   ]
  },
  {
   "cell_type": "markdown",
   "id": "1de3240b",
   "metadata": {
    "deletable": false,
    "editable": false,
    "id": "f4ea573f"
   },
   "source": [
    "**Задание 11. Заполните пропуски в столбце `days_employed` медианными значениями по каждого типа занятости `income_type`.**"
   ]
  },
  {
   "cell_type": "code",
   "execution_count": 11,
   "id": "cf680883",
   "metadata": {
    "deletable": false,
    "id": "af6b1a7e"
   },
   "outputs": [],
   "source": [
    "for t in data['income_type'].unique():\n",
    "    data.loc[(data['income_type'] == t) & (data['days_employed'].isna()), 'days_employed'] = \\\n",
    "    data.loc[(data['income_type'] == t), 'days_employed'].median()"
   ]
  },
  {
   "cell_type": "markdown",
   "id": "f269f908",
   "metadata": {
    "deletable": false,
    "editable": false,
    "id": "2753f40d"
   },
   "source": [
    "**Задание 12. Убедитесь, что все пропуски заполнены. Проверьте себя и ещё раз выведите количество пропущенных значений для каждого столбца с помощью двух методов.**"
   ]
  },
  {
   "cell_type": "code",
   "execution_count": 12,
   "id": "8439828d",
   "metadata": {
    "deletable": false,
    "id": "55f78bc2",
    "outputId": "8da1e4e1-358e-4e87-98c9-f261bce0a7b2"
   },
   "outputs": [
    {
     "data": {
      "text/plain": [
       "children            0\n",
       "days_employed       0\n",
       "dob_years           0\n",
       "education           0\n",
       "education_id        0\n",
       "family_status       0\n",
       "family_status_id    0\n",
       "gender              0\n",
       "income_type         0\n",
       "debt                0\n",
       "total_income        0\n",
       "purpose             0\n",
       "dtype: int64"
      ]
     },
     "execution_count": 12,
     "metadata": {},
     "output_type": "execute_result"
    }
   ],
   "source": [
    "data.isna().sum()"
   ]
  },
  {
   "cell_type": "markdown",
   "id": "a3f641bb",
   "metadata": {
    "deletable": false,
    "editable": false,
    "id": "ddc81e43"
   },
   "source": [
    "### Изменение типов данных"
   ]
  },
  {
   "cell_type": "markdown",
   "id": "ba012a09",
   "metadata": {
    "deletable": false,
    "editable": false,
    "id": "42d19d24"
   },
   "source": [
    "**Задание 13. Замените вещественный тип данных в столбце `total_income` на целочисленный с помощью метода `astype()`.**"
   ]
  },
  {
   "cell_type": "code",
   "execution_count": 13,
   "id": "b7b8e9c8",
   "metadata": {
    "deletable": false,
    "id": "920b65ad"
   },
   "outputs": [],
   "source": [
    "data['total_income'] = data['total_income'].astype(int)"
   ]
  },
  {
   "cell_type": "markdown",
   "id": "bf0baca4",
   "metadata": {
    "deletable": false,
    "editable": false,
    "id": "80c420ba"
   },
   "source": [
    "### Обработка дубликатов"
   ]
  },
  {
   "cell_type": "markdown",
   "id": "04acd096",
   "metadata": {
    "deletable": false,
    "editable": false
   },
   "source": [
    "**Задание 14. Обработайте неявные дубликаты в столбце `education`. В этом столбце есть одни и те же значения, но записанные по-разному: с использованием заглавных и строчных букв. Приведите их к нижнему регистру. Проверьте остальные столбцы.**"
   ]
  },
  {
   "cell_type": "code",
   "execution_count": 14,
   "id": "9ca62c71",
   "metadata": {
    "deletable": false
   },
   "outputs": [],
   "source": [
    "data['education'] = data['education'].str.lower()"
   ]
  },
  {
   "cell_type": "markdown",
   "id": "c9d5527d",
   "metadata": {
    "deletable": false,
    "editable": false,
    "id": "dc587695"
   },
   "source": [
    "**Задание 15. Выведите на экран количество строк-дубликатов в данных. Если такие строки присутствуют, удалите их.**"
   ]
  },
  {
   "cell_type": "code",
   "execution_count": 15,
   "id": "94974d8e",
   "metadata": {
    "deletable": false,
    "id": "3ee445e4",
    "outputId": "9684deba-1934-42d1-99e1-cda61740f822"
   },
   "outputs": [
    {
     "data": {
      "text/plain": [
       "71"
      ]
     },
     "execution_count": 15,
     "metadata": {},
     "output_type": "execute_result"
    }
   ],
   "source": [
    "data.duplicated().sum()"
   ]
  },
  {
   "cell_type": "code",
   "execution_count": 16,
   "id": "eb58f0bc",
   "metadata": {
    "deletable": false,
    "id": "8575fe05"
   },
   "outputs": [],
   "source": [
    "data = data.drop_duplicates()"
   ]
  },
  {
   "cell_type": "markdown",
   "id": "bbea38f1",
   "metadata": {
    "deletable": false,
    "editable": false,
    "id": "9904cf55"
   },
   "source": [
    "### Категоризация данных"
   ]
  },
  {
   "cell_type": "markdown",
   "id": "257a45fc",
   "metadata": {
    "deletable": false,
    "editable": false,
    "id": "72fcc8a2"
   },
   "source": [
    "**Задание 16. На основании диапазонов, указанных ниже, создайте в датафрейме `data` столбец `total_income_category` с категориями:**\n",
    "\n",
    "- 0–30000 — `'E'`;\n",
    "- 30001–50000 — `'D'`;\n",
    "- 50001–200000 — `'C'`;\n",
    "- 200001–1000000 — `'B'`;\n",
    "- 1000001 и выше — `'A'`.\n",
    "\n",
    "\n",
    "**Например, кредитополучателю с доходом 25000 нужно назначить категорию `'E'`, а клиенту, получающему 235000, — `'B'`. Используйте собственную функцию с именем `categorize_income()` и метод `apply()`.**"
   ]
  },
  {
   "cell_type": "code",
   "execution_count": 17,
   "id": "30c49f71",
   "metadata": {
    "deletable": false,
    "id": "e1771346"
   },
   "outputs": [],
   "source": [
    "def categorize_income(income):\n",
    "    try:\n",
    "        if 0 <= income <= 30000:\n",
    "            return 'E'\n",
    "        elif 30001 <= income <= 50000:\n",
    "            return 'D'\n",
    "        elif 50001 <= income <= 200000:\n",
    "            return 'C'\n",
    "        elif 200001 <= income <= 1000000:\n",
    "            return 'B'\n",
    "        elif income >= 1000001:\n",
    "            return 'A'\n",
    "    except:\n",
    "        pass"
   ]
  },
  {
   "cell_type": "code",
   "execution_count": 18,
   "id": "1e38447b",
   "metadata": {
    "deletable": false,
    "id": "d5f3586d"
   },
   "outputs": [],
   "source": [
    "data['total_income_category'] = data['total_income'].apply(categorize_income)"
   ]
  },
  {
   "cell_type": "markdown",
   "id": "7a1967f3",
   "metadata": {
    "deletable": false,
    "editable": false,
    "id": "dde49b5c"
   },
   "source": [
    "**Задание 17. Выведите на экран перечень уникальных целей взятия кредита из столбца `purpose`.**"
   ]
  },
  {
   "cell_type": "code",
   "execution_count": 19,
   "id": "9d9fd53c",
   "metadata": {
    "deletable": false,
    "id": "f67ce9b3",
    "outputId": "673c12d9-7d7e-4ae0-9812-c622c89dd244"
   },
   "outputs": [
    {
     "data": {
      "text/plain": [
       "array(['покупка жилья', 'приобретение автомобиля',\n",
       "       'дополнительное образование', 'сыграть свадьбу',\n",
       "       'операции с жильем', 'образование', 'на проведение свадьбы',\n",
       "       'покупка жилья для семьи', 'покупка недвижимости',\n",
       "       'покупка коммерческой недвижимости', 'покупка жилой недвижимости',\n",
       "       'строительство собственной недвижимости', 'недвижимость',\n",
       "       'строительство недвижимости', 'на покупку подержанного автомобиля',\n",
       "       'на покупку своего автомобиля',\n",
       "       'операции с коммерческой недвижимостью',\n",
       "       'строительство жилой недвижимости', 'жилье',\n",
       "       'операции со своей недвижимостью', 'автомобили',\n",
       "       'заняться образованием', 'сделка с подержанным автомобилем',\n",
       "       'получение образования', 'автомобиль', 'свадьба',\n",
       "       'получение дополнительного образования', 'покупка своего жилья',\n",
       "       'операции с недвижимостью', 'получение высшего образования',\n",
       "       'свой автомобиль', 'сделка с автомобилем',\n",
       "       'профильное образование', 'высшее образование',\n",
       "       'покупка жилья для сдачи', 'на покупку автомобиля', 'ремонт жилью',\n",
       "       'заняться высшим образованием'], dtype=object)"
      ]
     },
     "execution_count": 19,
     "metadata": {},
     "output_type": "execute_result"
    }
   ],
   "source": [
    "data['purpose'].unique()"
   ]
  },
  {
   "cell_type": "markdown",
   "id": "715b7169",
   "metadata": {
    "deletable": false,
    "editable": false,
    "id": "85d0aef0"
   },
   "source": [
    "**Задание 18. Создайте функцию, которая на основании данных из столбца `purpose` сформирует новый столбец `purpose_category`, в который войдут следующие категории:**\n",
    "\n",
    "- `'операции с автомобилем'`,\n",
    "- `'операции с недвижимостью'`,\n",
    "- `'проведение свадьбы'`,\n",
    "- `'получение образования'`.\n",
    "\n",
    "**Например, если в столбце `purpose` находится подстрока `'на покупку автомобиля'`, то в столбце `purpose_category` должна появиться строка `'операции с автомобилем'`.**\n",
    "\n",
    "**Используйте собственную функцию с именем `categorize_purpose()` и метод `apply()`. Изучите данные в столбце `purpose` и определите, какие подстроки помогут вам правильно определить категорию.**"
   ]
  },
  {
   "cell_type": "code",
   "execution_count": 20,
   "id": "3f41b25e",
   "metadata": {
    "deletable": false,
    "id": "e149fab4"
   },
   "outputs": [],
   "source": [
    "def categorize_purpose(row):\n",
    "    try:\n",
    "        if 'автом' in row:\n",
    "            return 'операции с автомобилем'\n",
    "        elif 'жил' in row or 'недвиж' in row:\n",
    "            return 'операции с недвижимостью'\n",
    "        elif 'свад' in row:\n",
    "            return 'проведение свадьбы'\n",
    "        elif 'образов' in row:\n",
    "            return 'получение образования'\n",
    "    except:\n",
    "        return 'нет категории'"
   ]
  },
  {
   "cell_type": "code",
   "execution_count": 21,
   "id": "695f9e60",
   "metadata": {
    "deletable": false,
    "id": "bf36e69b"
   },
   "outputs": [
    {
     "data": {
      "text/html": [
       "<div>\n",
       "<style scoped>\n",
       "    .dataframe tbody tr th:only-of-type {\n",
       "        vertical-align: middle;\n",
       "    }\n",
       "\n",
       "    .dataframe tbody tr th {\n",
       "        vertical-align: top;\n",
       "    }\n",
       "\n",
       "    .dataframe thead th {\n",
       "        text-align: right;\n",
       "    }\n",
       "</style>\n",
       "<table border=\"1\" class=\"dataframe\">\n",
       "  <thead>\n",
       "    <tr style=\"text-align: right;\">\n",
       "      <th></th>\n",
       "      <th>children</th>\n",
       "      <th>days_employed</th>\n",
       "      <th>dob_years</th>\n",
       "      <th>education</th>\n",
       "      <th>education_id</th>\n",
       "      <th>family_status</th>\n",
       "      <th>family_status_id</th>\n",
       "      <th>gender</th>\n",
       "      <th>income_type</th>\n",
       "      <th>debt</th>\n",
       "      <th>total_income</th>\n",
       "      <th>purpose</th>\n",
       "      <th>total_income_category</th>\n",
       "      <th>purpose_category</th>\n",
       "    </tr>\n",
       "  </thead>\n",
       "  <tbody>\n",
       "    <tr>\n",
       "      <th>0</th>\n",
       "      <td>1</td>\n",
       "      <td>8437.673028</td>\n",
       "      <td>42</td>\n",
       "      <td>высшее</td>\n",
       "      <td>0</td>\n",
       "      <td>женат / замужем</td>\n",
       "      <td>0</td>\n",
       "      <td>F</td>\n",
       "      <td>сотрудник</td>\n",
       "      <td>0</td>\n",
       "      <td>253875</td>\n",
       "      <td>покупка жилья</td>\n",
       "      <td>B</td>\n",
       "      <td>операции с недвижимостью</td>\n",
       "    </tr>\n",
       "    <tr>\n",
       "      <th>1</th>\n",
       "      <td>1</td>\n",
       "      <td>4024.803754</td>\n",
       "      <td>36</td>\n",
       "      <td>среднее</td>\n",
       "      <td>1</td>\n",
       "      <td>женат / замужем</td>\n",
       "      <td>0</td>\n",
       "      <td>F</td>\n",
       "      <td>сотрудник</td>\n",
       "      <td>0</td>\n",
       "      <td>112080</td>\n",
       "      <td>приобретение автомобиля</td>\n",
       "      <td>C</td>\n",
       "      <td>операции с автомобилем</td>\n",
       "    </tr>\n",
       "    <tr>\n",
       "      <th>2</th>\n",
       "      <td>0</td>\n",
       "      <td>5623.422610</td>\n",
       "      <td>33</td>\n",
       "      <td>среднее</td>\n",
       "      <td>1</td>\n",
       "      <td>женат / замужем</td>\n",
       "      <td>0</td>\n",
       "      <td>M</td>\n",
       "      <td>сотрудник</td>\n",
       "      <td>0</td>\n",
       "      <td>145885</td>\n",
       "      <td>покупка жилья</td>\n",
       "      <td>C</td>\n",
       "      <td>операции с недвижимостью</td>\n",
       "    </tr>\n",
       "    <tr>\n",
       "      <th>3</th>\n",
       "      <td>3</td>\n",
       "      <td>4124.747207</td>\n",
       "      <td>32</td>\n",
       "      <td>среднее</td>\n",
       "      <td>1</td>\n",
       "      <td>женат / замужем</td>\n",
       "      <td>0</td>\n",
       "      <td>M</td>\n",
       "      <td>сотрудник</td>\n",
       "      <td>0</td>\n",
       "      <td>267628</td>\n",
       "      <td>дополнительное образование</td>\n",
       "      <td>B</td>\n",
       "      <td>получение образования</td>\n",
       "    </tr>\n",
       "    <tr>\n",
       "      <th>4</th>\n",
       "      <td>0</td>\n",
       "      <td>340266.072047</td>\n",
       "      <td>53</td>\n",
       "      <td>среднее</td>\n",
       "      <td>1</td>\n",
       "      <td>гражданский брак</td>\n",
       "      <td>1</td>\n",
       "      <td>F</td>\n",
       "      <td>пенсионер</td>\n",
       "      <td>0</td>\n",
       "      <td>158616</td>\n",
       "      <td>сыграть свадьбу</td>\n",
       "      <td>C</td>\n",
       "      <td>проведение свадьбы</td>\n",
       "    </tr>\n",
       "    <tr>\n",
       "      <th>5</th>\n",
       "      <td>0</td>\n",
       "      <td>926.185831</td>\n",
       "      <td>27</td>\n",
       "      <td>высшее</td>\n",
       "      <td>0</td>\n",
       "      <td>гражданский брак</td>\n",
       "      <td>1</td>\n",
       "      <td>M</td>\n",
       "      <td>компаньон</td>\n",
       "      <td>0</td>\n",
       "      <td>255763</td>\n",
       "      <td>покупка жилья</td>\n",
       "      <td>B</td>\n",
       "      <td>операции с недвижимостью</td>\n",
       "    </tr>\n",
       "    <tr>\n",
       "      <th>6</th>\n",
       "      <td>0</td>\n",
       "      <td>2879.202052</td>\n",
       "      <td>43</td>\n",
       "      <td>высшее</td>\n",
       "      <td>0</td>\n",
       "      <td>женат / замужем</td>\n",
       "      <td>0</td>\n",
       "      <td>F</td>\n",
       "      <td>компаньон</td>\n",
       "      <td>0</td>\n",
       "      <td>240525</td>\n",
       "      <td>операции с жильем</td>\n",
       "      <td>B</td>\n",
       "      <td>операции с недвижимостью</td>\n",
       "    </tr>\n",
       "    <tr>\n",
       "      <th>7</th>\n",
       "      <td>0</td>\n",
       "      <td>152.779569</td>\n",
       "      <td>50</td>\n",
       "      <td>среднее</td>\n",
       "      <td>1</td>\n",
       "      <td>женат / замужем</td>\n",
       "      <td>0</td>\n",
       "      <td>M</td>\n",
       "      <td>сотрудник</td>\n",
       "      <td>0</td>\n",
       "      <td>135823</td>\n",
       "      <td>образование</td>\n",
       "      <td>C</td>\n",
       "      <td>получение образования</td>\n",
       "    </tr>\n",
       "    <tr>\n",
       "      <th>8</th>\n",
       "      <td>2</td>\n",
       "      <td>6929.865299</td>\n",
       "      <td>35</td>\n",
       "      <td>высшее</td>\n",
       "      <td>0</td>\n",
       "      <td>гражданский брак</td>\n",
       "      <td>1</td>\n",
       "      <td>F</td>\n",
       "      <td>сотрудник</td>\n",
       "      <td>0</td>\n",
       "      <td>95856</td>\n",
       "      <td>на проведение свадьбы</td>\n",
       "      <td>C</td>\n",
       "      <td>проведение свадьбы</td>\n",
       "    </tr>\n",
       "    <tr>\n",
       "      <th>9</th>\n",
       "      <td>0</td>\n",
       "      <td>2188.756445</td>\n",
       "      <td>41</td>\n",
       "      <td>среднее</td>\n",
       "      <td>1</td>\n",
       "      <td>женат / замужем</td>\n",
       "      <td>0</td>\n",
       "      <td>M</td>\n",
       "      <td>сотрудник</td>\n",
       "      <td>0</td>\n",
       "      <td>144425</td>\n",
       "      <td>покупка жилья для семьи</td>\n",
       "      <td>C</td>\n",
       "      <td>операции с недвижимостью</td>\n",
       "    </tr>\n",
       "  </tbody>\n",
       "</table>\n",
       "</div>"
      ],
      "text/plain": [
       "   children  days_employed  dob_years education  education_id  \\\n",
       "0         1    8437.673028         42    высшее             0   \n",
       "1         1    4024.803754         36   среднее             1   \n",
       "2         0    5623.422610         33   среднее             1   \n",
       "3         3    4124.747207         32   среднее             1   \n",
       "4         0  340266.072047         53   среднее             1   \n",
       "5         0     926.185831         27    высшее             0   \n",
       "6         0    2879.202052         43    высшее             0   \n",
       "7         0     152.779569         50   среднее             1   \n",
       "8         2    6929.865299         35    высшее             0   \n",
       "9         0    2188.756445         41   среднее             1   \n",
       "\n",
       "      family_status  family_status_id gender income_type  debt  total_income  \\\n",
       "0   женат / замужем                 0      F   сотрудник     0        253875   \n",
       "1   женат / замужем                 0      F   сотрудник     0        112080   \n",
       "2   женат / замужем                 0      M   сотрудник     0        145885   \n",
       "3   женат / замужем                 0      M   сотрудник     0        267628   \n",
       "4  гражданский брак                 1      F   пенсионер     0        158616   \n",
       "5  гражданский брак                 1      M   компаньон     0        255763   \n",
       "6   женат / замужем                 0      F   компаньон     0        240525   \n",
       "7   женат / замужем                 0      M   сотрудник     0        135823   \n",
       "8  гражданский брак                 1      F   сотрудник     0         95856   \n",
       "9   женат / замужем                 0      M   сотрудник     0        144425   \n",
       "\n",
       "                      purpose total_income_category          purpose_category  \n",
       "0               покупка жилья                     B  операции с недвижимостью  \n",
       "1     приобретение автомобиля                     C    операции с автомобилем  \n",
       "2               покупка жилья                     C  операции с недвижимостью  \n",
       "3  дополнительное образование                     B     получение образования  \n",
       "4             сыграть свадьбу                     C        проведение свадьбы  \n",
       "5               покупка жилья                     B  операции с недвижимостью  \n",
       "6           операции с жильем                     B  операции с недвижимостью  \n",
       "7                 образование                     C     получение образования  \n",
       "8       на проведение свадьбы                     C        проведение свадьбы  \n",
       "9     покупка жилья для семьи                     C  операции с недвижимостью  "
      ]
     },
     "execution_count": 21,
     "metadata": {},
     "output_type": "execute_result"
    }
   ],
   "source": [
    "data['purpose_category'] = data['purpose'].apply(categorize_purpose)\n",
    "data.head(10)"
   ]
  },
  {
   "cell_type": "markdown",
   "id": "c7fa3204",
   "metadata": {
    "deletable": false,
    "editable": false,
    "id": "09b242bf"
   },
   "source": [
    "### Шаг 3. Исследуйте данные и ответьте на вопросы"
   ]
  },
  {
   "cell_type": "markdown",
   "id": "7d9ad38b",
   "metadata": {
    "deletable": false,
    "editable": false,
    "id": "c5d66278"
   },
   "source": [
    "#### 3.1 Есть ли зависимость между количеством детей и возвратом кредита в срок?"
   ]
  },
  {
   "cell_type": "markdown",
   "id": "3ed53462",
   "metadata": {},
   "source": [
    "Создадим таблицу `children_debt` с данными о количестве детей у заемщиков в разрезе:\\\n",
    "-количества кредитов с просрочкой оплаты\\\n",
    "-общего количества кредитов"
   ]
  },
  {
   "cell_type": "code",
   "execution_count": 22,
   "id": "eaca219e",
   "metadata": {
    "deletable": false,
    "id": "2cacfc4a"
   },
   "outputs": [],
   "source": [
    "children_debt = pd.DataFrame({'debt_default' : []})"
   ]
  },
  {
   "cell_type": "markdown",
   "id": "a5149ef3",
   "metadata": {},
   "source": [
    "Рассчитаем количество просроченных кредитов:"
   ]
  },
  {
   "cell_type": "code",
   "execution_count": 23,
   "id": "7025ee03",
   "metadata": {},
   "outputs": [],
   "source": [
    "children_debt['debt_default'] = data.groupby('children')['debt'].sum()"
   ]
  },
  {
   "cell_type": "markdown",
   "id": "3e2e79e1",
   "metadata": {},
   "source": [
    "Рассчитаем общее количество кредитов:"
   ]
  },
  {
   "cell_type": "code",
   "execution_count": 24,
   "id": "6e51fc1a",
   "metadata": {},
   "outputs": [],
   "source": [
    "children_debt['debt_total'] = data.groupby('children')['debt'].count()"
   ]
  },
  {
   "cell_type": "markdown",
   "id": "4b3ae61f",
   "metadata": {},
   "source": [
    "Узнаем % кредитов, возвращенных не в срок.\\\n",
    "Для этого добавим столбец `percent_default` с расчетом в таблицу `children_debt`"
   ]
  },
  {
   "cell_type": "code",
   "execution_count": 25,
   "id": "291d5907",
   "metadata": {},
   "outputs": [],
   "source": [
    "children_debt['percent_default'] = children_debt['debt_default'] / children_debt['debt_total']"
   ]
  },
  {
   "cell_type": "markdown",
   "id": "d1dc45ac",
   "metadata": {},
   "source": [
    "Преобразуем столбец `percent_default` в формат %:"
   ]
  },
  {
   "cell_type": "code",
   "execution_count": 26,
   "id": "2c7abcff",
   "metadata": {},
   "outputs": [
    {
     "data": {
      "text/html": [
       "<div>\n",
       "<style scoped>\n",
       "    .dataframe tbody tr th:only-of-type {\n",
       "        vertical-align: middle;\n",
       "    }\n",
       "\n",
       "    .dataframe tbody tr th {\n",
       "        vertical-align: top;\n",
       "    }\n",
       "\n",
       "    .dataframe thead th {\n",
       "        text-align: right;\n",
       "    }\n",
       "</style>\n",
       "<table border=\"1\" class=\"dataframe\">\n",
       "  <thead>\n",
       "    <tr style=\"text-align: right;\">\n",
       "      <th></th>\n",
       "      <th>debt_default</th>\n",
       "      <th>debt_total</th>\n",
       "      <th>percent_default</th>\n",
       "    </tr>\n",
       "    <tr>\n",
       "      <th>children</th>\n",
       "      <th></th>\n",
       "      <th></th>\n",
       "      <th></th>\n",
       "    </tr>\n",
       "  </thead>\n",
       "  <tbody>\n",
       "    <tr>\n",
       "      <th>4</th>\n",
       "      <td>4</td>\n",
       "      <td>41</td>\n",
       "      <td>9.76%</td>\n",
       "    </tr>\n",
       "    <tr>\n",
       "      <th>2</th>\n",
       "      <td>194</td>\n",
       "      <td>2052</td>\n",
       "      <td>9.45%</td>\n",
       "    </tr>\n",
       "    <tr>\n",
       "      <th>1</th>\n",
       "      <td>444</td>\n",
       "      <td>4808</td>\n",
       "      <td>9.23%</td>\n",
       "    </tr>\n",
       "    <tr>\n",
       "      <th>3</th>\n",
       "      <td>27</td>\n",
       "      <td>330</td>\n",
       "      <td>8.18%</td>\n",
       "    </tr>\n",
       "    <tr>\n",
       "      <th>0</th>\n",
       "      <td>1063</td>\n",
       "      <td>14091</td>\n",
       "      <td>7.54%</td>\n",
       "    </tr>\n",
       "    <tr>\n",
       "      <th>5</th>\n",
       "      <td>0</td>\n",
       "      <td>9</td>\n",
       "      <td>0.00%</td>\n",
       "    </tr>\n",
       "  </tbody>\n",
       "</table>\n",
       "</div>"
      ],
      "text/plain": [
       "          debt_default  debt_total percent_default\n",
       "children                                          \n",
       "4                    4          41           9.76%\n",
       "2                  194        2052           9.45%\n",
       "1                  444        4808           9.23%\n",
       "3                   27         330           8.18%\n",
       "0                 1063       14091           7.54%\n",
       "5                    0           9           0.00%"
      ]
     },
     "execution_count": 26,
     "metadata": {},
     "output_type": "execute_result"
    }
   ],
   "source": [
    "children_debt['percent_default'] = [\"{:.2%}\".format(i) for i in children_debt['percent_default']]\n",
    "children_debt = children_debt.sort_values(by='percent_default', ascending=False)\n",
    "children_debt"
   ]
  },
  {
   "cell_type": "markdown",
   "id": "d1d94805",
   "metadata": {
    "deletable": false,
    "id": "3a6b99ec"
   },
   "source": [
    "**Вывод:**\n",
    "\\\n",
    "По итогам анализа прослеживается зависимость своевременности возврата кредитов от количества детей:\n",
    "> - заемщики без детей имеют наиболее высокий показатель своевременности возврата кредитов(7,54%),\n",
    "> - данная группа пользуется кредитами чаще, чем семьи с детьми => особенно заинтересованы в формировании хорошей кредитной истории => необходимо своевременно возвращать кредиты.\n",
    "\n",
    "Наибольшую долю просроченных кредитов имеют заемщики с 4-мя детьми (9,76%). Однако, данный вывод не применим к семьям с 5-ю детьми. По итогам проверки [первой гипотезы](#3.1-Есть-ли-зависимость-между-количеством-детей-и-возвратом-кредита-в-срок?) у кредиторов с 5-ю детьми отсутствует просрочка по кредитам.\n",
    "\n",
    "Таким образом, на основании одного показателя (`количество детей у заемщика`), невозможно сделать однозначный вывод о вероятности просрочки кредита. Необходимо продолждить анализ, учитывая другие факторы."
   ]
  },
  {
   "cell_type": "markdown",
   "id": "d6dce64c",
   "metadata": {
    "deletable": false,
    "editable": false,
    "id": "97be82ca"
   },
   "source": [
    "#### 3.2 Есть ли зависимость между семейным положением и возвратом кредита в срок?"
   ]
  },
  {
   "cell_type": "markdown",
   "id": "cf498f38",
   "metadata": {},
   "source": [
    "Создадим таблицу `family_debt` с данными о семейном положении заемщиков в разрезе:\n",
    "-количества кредитов с просрочкой оплаты,\n",
    "-общего количества кредитов"
   ]
  },
  {
   "cell_type": "code",
   "execution_count": 27,
   "id": "aa96747a",
   "metadata": {
    "deletable": false,
    "id": "dc3f7ee8"
   },
   "outputs": [],
   "source": [
    "family_debt = pd.DataFrame({'debt_default' : []})"
   ]
  },
  {
   "cell_type": "markdown",
   "id": "f7f8d053",
   "metadata": {},
   "source": [
    "Рассчитаем количество просроченных кредитов:"
   ]
  },
  {
   "cell_type": "code",
   "execution_count": 28,
   "id": "dcc8c24e",
   "metadata": {},
   "outputs": [],
   "source": [
    "family_debt['debt_default'] = data.groupby('family_status')['debt'].sum()"
   ]
  },
  {
   "cell_type": "markdown",
   "id": "1a4f62b7",
   "metadata": {},
   "source": [
    "Рассчитаем общее количество кредитов:"
   ]
  },
  {
   "cell_type": "code",
   "execution_count": 29,
   "id": "c2d1f6e8",
   "metadata": {},
   "outputs": [],
   "source": [
    "family_debt['debt_total'] = data.groupby('family_status')['debt'].count()"
   ]
  },
  {
   "cell_type": "markdown",
   "id": "23dbd4c1",
   "metadata": {},
   "source": [
    "Узнаем % кредитов, возвращенных не в срок.\\\n",
    "Для этого добавим столбец `percent_default` с расчетом в таблицу `family_debt`"
   ]
  },
  {
   "cell_type": "code",
   "execution_count": 30,
   "id": "0d78e8ba",
   "metadata": {},
   "outputs": [],
   "source": [
    "family_debt['percent_default'] = family_debt['debt_default'] / family_debt['debt_total']"
   ]
  },
  {
   "cell_type": "markdown",
   "id": "1dc73a88",
   "metadata": {},
   "source": [
    "Преобразуем столбец `percent_default` в формат % и выведем на экран итоговую таблицу:"
   ]
  },
  {
   "cell_type": "code",
   "execution_count": 31,
   "id": "387a5202",
   "metadata": {},
   "outputs": [
    {
     "data": {
      "text/html": [
       "<div>\n",
       "<style scoped>\n",
       "    .dataframe tbody tr th:only-of-type {\n",
       "        vertical-align: middle;\n",
       "    }\n",
       "\n",
       "    .dataframe tbody tr th {\n",
       "        vertical-align: top;\n",
       "    }\n",
       "\n",
       "    .dataframe thead th {\n",
       "        text-align: right;\n",
       "    }\n",
       "</style>\n",
       "<table border=\"1\" class=\"dataframe\">\n",
       "  <thead>\n",
       "    <tr style=\"text-align: right;\">\n",
       "      <th></th>\n",
       "      <th>debt_default</th>\n",
       "      <th>debt_total</th>\n",
       "      <th>percent_default</th>\n",
       "    </tr>\n",
       "    <tr>\n",
       "      <th>family_status</th>\n",
       "      <th></th>\n",
       "      <th></th>\n",
       "      <th></th>\n",
       "    </tr>\n",
       "  </thead>\n",
       "  <tbody>\n",
       "    <tr>\n",
       "      <th>Не женат / не замужем</th>\n",
       "      <td>273</td>\n",
       "      <td>2796</td>\n",
       "      <td>9.76%</td>\n",
       "    </tr>\n",
       "    <tr>\n",
       "      <th>гражданский брак</th>\n",
       "      <td>385</td>\n",
       "      <td>4134</td>\n",
       "      <td>9.31%</td>\n",
       "    </tr>\n",
       "    <tr>\n",
       "      <th>женат / замужем</th>\n",
       "      <td>927</td>\n",
       "      <td>12261</td>\n",
       "      <td>7.56%</td>\n",
       "    </tr>\n",
       "    <tr>\n",
       "      <th>в разводе</th>\n",
       "      <td>84</td>\n",
       "      <td>1189</td>\n",
       "      <td>7.06%</td>\n",
       "    </tr>\n",
       "    <tr>\n",
       "      <th>вдовец / вдова</th>\n",
       "      <td>63</td>\n",
       "      <td>951</td>\n",
       "      <td>6.62%</td>\n",
       "    </tr>\n",
       "  </tbody>\n",
       "</table>\n",
       "</div>"
      ],
      "text/plain": [
       "                       debt_default  debt_total percent_default\n",
       "family_status                                                  \n",
       "Не женат / не замужем           273        2796           9.76%\n",
       "гражданский брак                385        4134           9.31%\n",
       "женат / замужем                 927       12261           7.56%\n",
       "в разводе                        84        1189           7.06%\n",
       "вдовец / вдова                   63         951           6.62%"
      ]
     },
     "execution_count": 31,
     "metadata": {},
     "output_type": "execute_result"
    }
   ],
   "source": [
    "family_debt['percent_default'] = [\"{:.2%}\".format(i) for i in family_debt['percent_default']]\n",
    "family_debt = family_debt.sort_values(by='percent_default', ascending=False)\n",
    "family_debt"
   ]
  },
  {
   "cell_type": "markdown",
   "id": "bddeb154",
   "metadata": {
    "deletable": false,
    "id": "1cef7837"
   },
   "source": [
    "**Вывод:** \n",
    "\\\n",
    "По итогам проверки второй гипотезы наблюдается связь между семейным положением и оплатой кредитов в срок:\n",
    "> \n",
    "> * заемщики с семейным положением \"женат/замужем\" имеют наибольшее количество кредитов + достаточно высокий показатель возврата кредитов в срок (7,56%),\n",
    "> * заемщики категории \"в разводе\" и \"вдовец/вдова\" имеют наименьший % просроченных кредитов + наименьшее количество кредитов."
   ]
  },
  {
   "cell_type": "markdown",
   "id": "e4e69602",
   "metadata": {
    "deletable": false,
    "editable": false,
    "id": "1e8b2fca"
   },
   "source": [
    "#### 3.3 Есть ли зависимость между уровнем дохода и возвратом кредита в срок?"
   ]
  },
  {
   "cell_type": "markdown",
   "id": "892267f0",
   "metadata": {
    "deletable": false,
    "id": "cd7e3720"
   },
   "source": [
    "Создадим pivot table `income_debt` с данными об [уровне дохода заемщиков](#Категоризация-данных) в разрезе:\n",
    "- количества кредитов с просрочкой оплаты, \n",
    "- общего количества кредитов"
   ]
  },
  {
   "cell_type": "code",
   "execution_count": 32,
   "id": "6e84d51f",
   "metadata": {},
   "outputs": [],
   "source": [
    "income_debt = data.pivot_table(index=['total_income_category'], values='debt', aggfunc='sum')"
   ]
  },
  {
   "cell_type": "markdown",
   "id": "a350bb2e",
   "metadata": {},
   "source": [
    "Добавим в сводную таблицу столбец debt_total c общим количеством кредитов:"
   ]
  },
  {
   "cell_type": "code",
   "execution_count": 33,
   "id": "9d87f653",
   "metadata": {},
   "outputs": [],
   "source": [
    "income_debt['debt_total'] = data.pivot_table(index=['total_income_category'], values='debt', aggfunc='count')"
   ]
  },
  {
   "cell_type": "markdown",
   "id": "dd96e47c",
   "metadata": {},
   "source": [
    "Узнаем % кредитов, возвращенных не в срок.\n",
    "\\\n",
    "Для этого добавим столбец `percent_default` с расчетом в таблицу `income_debt`"
   ]
  },
  {
   "cell_type": "code",
   "execution_count": 34,
   "id": "9d461ae6",
   "metadata": {},
   "outputs": [],
   "source": [
    "income_debt['percent_default'] = income_debt['debt'] / income_debt['debt_total']"
   ]
  },
  {
   "cell_type": "markdown",
   "id": "a019784e",
   "metadata": {},
   "source": [
    "Преобразуем столбец `percent_defaul`t в формат % и выведем на экран итоговую таблицу:"
   ]
  },
  {
   "cell_type": "code",
   "execution_count": 35,
   "id": "43146c4d",
   "metadata": {},
   "outputs": [
    {
     "data": {
      "text/html": [
       "<div>\n",
       "<style scoped>\n",
       "    .dataframe tbody tr th:only-of-type {\n",
       "        vertical-align: middle;\n",
       "    }\n",
       "\n",
       "    .dataframe tbody tr th {\n",
       "        vertical-align: top;\n",
       "    }\n",
       "\n",
       "    .dataframe thead th {\n",
       "        text-align: right;\n",
       "    }\n",
       "</style>\n",
       "<table border=\"1\" class=\"dataframe\">\n",
       "  <thead>\n",
       "    <tr style=\"text-align: right;\">\n",
       "      <th></th>\n",
       "      <th>debt</th>\n",
       "      <th>debt_total</th>\n",
       "      <th>percent_default</th>\n",
       "    </tr>\n",
       "    <tr>\n",
       "      <th>total_income_category</th>\n",
       "      <th></th>\n",
       "      <th></th>\n",
       "      <th></th>\n",
       "    </tr>\n",
       "  </thead>\n",
       "  <tbody>\n",
       "    <tr>\n",
       "      <th>E</th>\n",
       "      <td>2</td>\n",
       "      <td>22</td>\n",
       "      <td>9.09%</td>\n",
       "    </tr>\n",
       "    <tr>\n",
       "      <th>C</th>\n",
       "      <td>1353</td>\n",
       "      <td>15921</td>\n",
       "      <td>8.50%</td>\n",
       "    </tr>\n",
       "    <tr>\n",
       "      <th>A</th>\n",
       "      <td>2</td>\n",
       "      <td>25</td>\n",
       "      <td>8.00%</td>\n",
       "    </tr>\n",
       "    <tr>\n",
       "      <th>B</th>\n",
       "      <td>354</td>\n",
       "      <td>5014</td>\n",
       "      <td>7.06%</td>\n",
       "    </tr>\n",
       "    <tr>\n",
       "      <th>D</th>\n",
       "      <td>21</td>\n",
       "      <td>349</td>\n",
       "      <td>6.02%</td>\n",
       "    </tr>\n",
       "  </tbody>\n",
       "</table>\n",
       "</div>"
      ],
      "text/plain": [
       "                       debt  debt_total percent_default\n",
       "total_income_category                                  \n",
       "E                         2          22           9.09%\n",
       "C                      1353       15921           8.50%\n",
       "A                         2          25           8.00%\n",
       "B                       354        5014           7.06%\n",
       "D                        21         349           6.02%"
      ]
     },
     "execution_count": 35,
     "metadata": {},
     "output_type": "execute_result"
    }
   ],
   "source": [
    "income_debt['percent_default'] = [\"{:.2%}\".format(i) for i in income_debt['percent_default']]\n",
    "income_debt = income_debt.sort_values(by='percent_default', ascending=False)\n",
    "income_debt"
   ]
  },
  {
   "cell_type": "markdown",
   "id": "db61cd07",
   "metadata": {},
   "source": [
    "Создадим словарь `category_income` категории - диапазон доходов для расшифровки категорий доходов в таблице `income_debt`:"
   ]
  },
  {
   "cell_type": "code",
   "execution_count": 36,
   "id": "ce10d1c1",
   "metadata": {},
   "outputs": [],
   "source": [
    "category_income = {\n",
    "    'E' : '0–30000',\n",
    "    'D' : '30001–50000',\n",
    "    'C' : '50001–200000',\n",
    "    'B' : '200001–1000000',\n",
    "    'A' : '1000001 и выше'\n",
    "}"
   ]
  },
  {
   "cell_type": "markdown",
   "id": "94d80f6c",
   "metadata": {},
   "source": [
    "Добавимв таблицу `income_debt` диапазон доходов соответствующий каждой категории `category_income`:"
   ]
  },
  {
   "cell_type": "code",
   "execution_count": 37,
   "id": "4cdbb4aa",
   "metadata": {
    "scrolled": true
   },
   "outputs": [
    {
     "data": {
      "text/html": [
       "<div>\n",
       "<style scoped>\n",
       "    .dataframe tbody tr th:only-of-type {\n",
       "        vertical-align: middle;\n",
       "    }\n",
       "\n",
       "    .dataframe tbody tr th {\n",
       "        vertical-align: top;\n",
       "    }\n",
       "\n",
       "    .dataframe thead th {\n",
       "        text-align: right;\n",
       "    }\n",
       "</style>\n",
       "<table border=\"1\" class=\"dataframe\">\n",
       "  <thead>\n",
       "    <tr style=\"text-align: right;\">\n",
       "      <th></th>\n",
       "      <th>debt</th>\n",
       "      <th>debt_total</th>\n",
       "      <th>percent_default</th>\n",
       "      <th>income_category_range</th>\n",
       "    </tr>\n",
       "    <tr>\n",
       "      <th>total_income_category</th>\n",
       "      <th></th>\n",
       "      <th></th>\n",
       "      <th></th>\n",
       "      <th></th>\n",
       "    </tr>\n",
       "  </thead>\n",
       "  <tbody>\n",
       "    <tr>\n",
       "      <th>E</th>\n",
       "      <td>2</td>\n",
       "      <td>22</td>\n",
       "      <td>9.09%</td>\n",
       "      <td>0–30000</td>\n",
       "    </tr>\n",
       "    <tr>\n",
       "      <th>C</th>\n",
       "      <td>1353</td>\n",
       "      <td>15921</td>\n",
       "      <td>8.50%</td>\n",
       "      <td>50001–200000</td>\n",
       "    </tr>\n",
       "    <tr>\n",
       "      <th>A</th>\n",
       "      <td>2</td>\n",
       "      <td>25</td>\n",
       "      <td>8.00%</td>\n",
       "      <td>1000001 и выше</td>\n",
       "    </tr>\n",
       "    <tr>\n",
       "      <th>B</th>\n",
       "      <td>354</td>\n",
       "      <td>5014</td>\n",
       "      <td>7.06%</td>\n",
       "      <td>200001–1000000</td>\n",
       "    </tr>\n",
       "    <tr>\n",
       "      <th>D</th>\n",
       "      <td>21</td>\n",
       "      <td>349</td>\n",
       "      <td>6.02%</td>\n",
       "      <td>30001–50000</td>\n",
       "    </tr>\n",
       "  </tbody>\n",
       "</table>\n",
       "</div>"
      ],
      "text/plain": [
       "                       debt  debt_total percent_default income_category_range\n",
       "total_income_category                                                        \n",
       "E                         2          22           9.09%               0–30000\n",
       "C                      1353       15921           8.50%          50001–200000\n",
       "A                         2          25           8.00%        1000001 и выше\n",
       "B                       354        5014           7.06%        200001–1000000\n",
       "D                        21         349           6.02%           30001–50000"
      ]
     },
     "metadata": {},
     "output_type": "display_data"
    }
   ],
   "source": [
    "new_column = []\n",
    "\n",
    "for key, row in income_debt.iterrows():\n",
    "    income = category_income[key]\n",
    "    new_column.append(income)\n",
    "    \n",
    "income_debt['income_category_range'] = new_column\n",
    "display(income_debt)"
   ]
  },
  {
   "cell_type": "markdown",
   "id": "db02915c",
   "metadata": {
    "deletable": false,
    "id": "e8593def"
   },
   "source": [
    "**Вывод:** "
   ]
  },
  {
   "cell_type": "markdown",
   "id": "4a367f00",
   "metadata": {},
   "source": [
    "Высокая вероятность своевременного возврата кредитов:\n",
    "> * наименьшее количество просроченных кредитов у заемщиков с категорией дохода \"D\"(от 30 0001 до 50 000 руб.).\\\n",
    "     Доля кредитов данной категории заемщиков составила 1,6% от общего количества кредитов,\n",
    "> * заемщики с категорией доходв \"B\" также демонстрируют несущественную просрочку кредитов. Доля кредитов = 1.7%\n",
    " \n",
    "Наименее надежные заемщики:\n",
    "> * одними из менее надежных являются заемщики с категорией дохода \"С\"(8,5%). Доля кредитов от общего числа составляет 74,6%,\n",
    "> * самыми ненадежными заемщиками являются физ.лица с доходом < 30 000 руб. Следует отметить, что они имеют наименьшее количество кредитов (0,1%)."
   ]
  },
  {
   "cell_type": "markdown",
   "id": "658b641b",
   "metadata": {
    "deletable": false,
    "editable": false,
    "id": "99ecbd1f"
   },
   "source": [
    "#### 3.4 Как разные цели кредита влияют на его возврат в срок?"
   ]
  },
  {
   "cell_type": "markdown",
   "id": "4018fb3a",
   "metadata": {
    "deletable": false,
    "id": "2b687290"
   },
   "source": [
    "Создадим сводную таблицу `reason_debt` с данными о целях получения кредитов в разрезе:\\\n",
    "-количества кредитов с просрочкой оплаты,\\\n",
    "-общего количества кредитов"
   ]
  },
  {
   "cell_type": "markdown",
   "id": "c18a0910",
   "metadata": {},
   "source": [
    "Рассчитаем количество просроченных кредитов:"
   ]
  },
  {
   "cell_type": "code",
   "execution_count": 38,
   "id": "9973944c",
   "metadata": {},
   "outputs": [],
   "source": [
    "reason_debt = data.pivot_table(index=['purpose_category'], values='debt', aggfunc='sum')"
   ]
  },
  {
   "cell_type": "markdown",
   "id": "1a5bc139",
   "metadata": {},
   "source": [
    "Рассчитаем общее количество кредитов:"
   ]
  },
  {
   "cell_type": "code",
   "execution_count": 39,
   "id": "db74bebf",
   "metadata": {},
   "outputs": [],
   "source": [
    "reason_debt['debt_total'] = data.pivot_table(index=['purpose_category'], values='debt', aggfunc='count')"
   ]
  },
  {
   "cell_type": "markdown",
   "id": "be806a66",
   "metadata": {},
   "source": [
    "Узнаем % кредитов, возвращенных не в срок.\n",
    "Для этого добавим столбец `percent_default` с расчетом в таблицу `reason_debt`:"
   ]
  },
  {
   "cell_type": "code",
   "execution_count": 40,
   "id": "6bc56665",
   "metadata": {},
   "outputs": [],
   "source": [
    "reason_debt['percent_default'] = reason_debt['debt'] / reason_debt['debt_total']"
   ]
  },
  {
   "cell_type": "markdown",
   "id": "fb3d626b",
   "metadata": {},
   "source": [
    "Преобразуем столбец `percent_default` в формат % и выведем на экран итоговую таблицу:"
   ]
  },
  {
   "cell_type": "code",
   "execution_count": 41,
   "id": "70b65b7e",
   "metadata": {},
   "outputs": [
    {
     "data": {
      "text/html": [
       "<div>\n",
       "<style scoped>\n",
       "    .dataframe tbody tr th:only-of-type {\n",
       "        vertical-align: middle;\n",
       "    }\n",
       "\n",
       "    .dataframe tbody tr th {\n",
       "        vertical-align: top;\n",
       "    }\n",
       "\n",
       "    .dataframe thead th {\n",
       "        text-align: right;\n",
       "    }\n",
       "</style>\n",
       "<table border=\"1\" class=\"dataframe\">\n",
       "  <thead>\n",
       "    <tr style=\"text-align: right;\">\n",
       "      <th></th>\n",
       "      <th>debt</th>\n",
       "      <th>debt_total</th>\n",
       "      <th>percent_default</th>\n",
       "    </tr>\n",
       "    <tr>\n",
       "      <th>purpose_category</th>\n",
       "      <th></th>\n",
       "      <th></th>\n",
       "      <th></th>\n",
       "    </tr>\n",
       "  </thead>\n",
       "  <tbody>\n",
       "    <tr>\n",
       "      <th>операции с автомобилем</th>\n",
       "      <td>400</td>\n",
       "      <td>4279</td>\n",
       "      <td>9.35%</td>\n",
       "    </tr>\n",
       "    <tr>\n",
       "      <th>получение образования</th>\n",
       "      <td>369</td>\n",
       "      <td>3988</td>\n",
       "      <td>9.25%</td>\n",
       "    </tr>\n",
       "    <tr>\n",
       "      <th>проведение свадьбы</th>\n",
       "      <td>183</td>\n",
       "      <td>2313</td>\n",
       "      <td>7.91%</td>\n",
       "    </tr>\n",
       "    <tr>\n",
       "      <th>операции с недвижимостью</th>\n",
       "      <td>780</td>\n",
       "      <td>10751</td>\n",
       "      <td>7.26%</td>\n",
       "    </tr>\n",
       "  </tbody>\n",
       "</table>\n",
       "</div>"
      ],
      "text/plain": [
       "                          debt  debt_total percent_default\n",
       "purpose_category                                          \n",
       "операции с автомобилем     400        4279           9.35%\n",
       "получение образования      369        3988           9.25%\n",
       "проведение свадьбы         183        2313           7.91%\n",
       "операции с недвижимостью   780       10751           7.26%"
      ]
     },
     "execution_count": 41,
     "metadata": {},
     "output_type": "execute_result"
    }
   ],
   "source": [
    "reason_debt['percent_default'] = [\"{:.2%}\".format(i) for i in reason_debt['percent_default']]\n",
    "reason_debt = reason_debt.sort_values(by='percent_default', ascending=False)\n",
    "reason_debt"
   ]
  },
  {
   "cell_type": "markdown",
   "id": "9f99f7fb",
   "metadata": {
    "deletable": false,
    "id": "b4bb2ce6"
   },
   "source": [
    "**Вывод:** "
   ]
  },
  {
   "cell_type": "markdown",
   "id": "ac7861a0",
   "metadata": {},
   "source": [
    "Наиболее надежными являются заемщики с целями кредитов:\n",
    "+ операции с недвижимостью,\n",
    "+ проведение свадьбы\n",
    "\n",
    "Кредиты на покупку автомобиля являются наиболее подверженными просрочке оплаты."
   ]
  },
  {
   "cell_type": "markdown",
   "id": "8028d0ac",
   "metadata": {
    "deletable": false,
    "editable": false,
    "id": "09c3ac4c"
   },
   "source": [
    "#### 3.5 Приведите возможные причины появления пропусков в исходных данных."
   ]
  },
  {
   "cell_type": "markdown",
   "id": "e9f4e785",
   "metadata": {
    "deletable": false,
    "id": "9da2ceda"
   },
   "source": [
    "*Ответ:* "
   ]
  },
  {
   "cell_type": "markdown",
   "id": "10b66524",
   "metadata": {},
   "source": [
    "Трудовой стаж `days_employed` чаще не указывался для категорий заемщиков:\n",
    "* сотрудник\n",
    "* компаньон\n",
    "* пенсионер"
   ]
  },
  {
   "cell_type": "markdown",
   "id": "91995d09",
   "metadata": {},
   "source": [
    " Предполагаемые причины отсутствия трудового стажа:\n",
    "1. Категория `пенсионеры` - трудовой стаж не указан 413 раз (**19%** от общего количества пропусков):\\\n",
    "     для получения кредита трудовой стаж указывается за последние несколько лет. Если пенсионер не является \"трудящимся\", то показатель *days_employed* не может быть заполнен.\n",
    "2. Категория `компаньон`- трудовой стаж не указан 508 раз (**23%** от общего количества пропусков):\\\n",
    "    Запись в трудовую книжку не вносится, если физическое лицо выполняет работу/оказывает услуги в рамках договора ГПХ (гражданско-правового характера).\n",
    "    Если банк учитывает стаж только из трудовой книжки, то отсутствие информации объяснимо.\n",
    "3. Категория `сотрудник`- трудовой стаж не указан 1105 раз (**51%** от общего количества пропусков):\\\n",
    "    нет явного объяснения причин пропусков. Потенциальные заемщики могли не иметь трудового стажа или умышленно его не указывали. Необходимо уточнить информацию у кредитного отдела банка."
   ]
  },
  {
   "cell_type": "markdown",
   "id": "b5cdb168",
   "metadata": {},
   "source": [
    "Пранализировав таблицы `res_filtred` и `total_income_filtred` установлена взаимосвязь:\n",
    "если трудовой стаж не указан => ежемесячный доход отсутствует."
   ]
  },
  {
   "cell_type": "markdown",
   "id": "1ebc757c",
   "metadata": {},
   "source": [
    "Сформируем таблицу `res_filtred` со следующими данными:\n",
    "- `days_employed` не указан,\n",
    "- группировка по типу занятости заемщиков `income_type`"
   ]
  },
  {
   "cell_type": "code",
   "execution_count": 42,
   "id": "ae61db3a",
   "metadata": {},
   "outputs": [
    {
     "data": {
      "text/html": [
       "<div>\n",
       "<style scoped>\n",
       "    .dataframe tbody tr th:only-of-type {\n",
       "        vertical-align: middle;\n",
       "    }\n",
       "\n",
       "    .dataframe tbody tr th {\n",
       "        vertical-align: top;\n",
       "    }\n",
       "\n",
       "    .dataframe thead th {\n",
       "        text-align: right;\n",
       "    }\n",
       "</style>\n",
       "<table border=\"1\" class=\"dataframe\">\n",
       "  <thead>\n",
       "    <tr style=\"text-align: right;\">\n",
       "      <th></th>\n",
       "      <th>income_type</th>\n",
       "      <th>days_employed</th>\n",
       "    </tr>\n",
       "  </thead>\n",
       "  <tbody>\n",
       "    <tr>\n",
       "      <th>0</th>\n",
       "      <td>госслужащий</td>\n",
       "      <td>147</td>\n",
       "    </tr>\n",
       "    <tr>\n",
       "      <th>1</th>\n",
       "      <td>компаньон</td>\n",
       "      <td>508</td>\n",
       "    </tr>\n",
       "    <tr>\n",
       "      <th>2</th>\n",
       "      <td>пенсионер</td>\n",
       "      <td>413</td>\n",
       "    </tr>\n",
       "    <tr>\n",
       "      <th>3</th>\n",
       "      <td>предприниматель</td>\n",
       "      <td>1</td>\n",
       "    </tr>\n",
       "    <tr>\n",
       "      <th>4</th>\n",
       "      <td>сотрудник</td>\n",
       "      <td>1105</td>\n",
       "    </tr>\n",
       "  </tbody>\n",
       "</table>\n",
       "</div>"
      ],
      "text/plain": [
       "       income_type  days_employed\n",
       "0      госслужащий            147\n",
       "1        компаньон            508\n",
       "2        пенсионер            413\n",
       "3  предприниматель              1\n",
       "4        сотрудник           1105"
      ]
     },
     "execution_count": 42,
     "metadata": {},
     "output_type": "execute_result"
    }
   ],
   "source": [
    "import pandas as pd\n",
    "res = pd.read_csv('/datasets/data.csv')\n",
    "#заменим пустые значения на \"нет\" в столбце 'days_employed'\n",
    "res['days_employed'] = res['days_employed'].fillna(value='нет')\n",
    "#отфильтруем заемщиков, которые не указали стаж в разрезе типа занятости\n",
    "res_filtred = res.loc[res['days_employed'] == 'нет']\n",
    "#выведем количество пропусков в столбце 'days_employed'в разрезе типов занятости заемщиков\n",
    "res_filtred = res_filtred.groupby('income_type')['days_employed'].count().reset_index()\n",
    "res_filtred"
   ]
  },
  {
   "cell_type": "markdown",
   "id": "97d101e4",
   "metadata": {},
   "source": [
    "Сформируем таблицу `total_income_filtred` со следующими данными:\n",
    "- `income_type` отсутствует,\n",
    "- `days_employed` не указан,\n",
    "- группировка по типу занятости заемщиков `income_type`"
   ]
  },
  {
   "cell_type": "code",
   "execution_count": 43,
   "id": "88a1fa1d",
   "metadata": {},
   "outputs": [
    {
     "data": {
      "text/html": [
       "<div>\n",
       "<style scoped>\n",
       "    .dataframe tbody tr th:only-of-type {\n",
       "        vertical-align: middle;\n",
       "    }\n",
       "\n",
       "    .dataframe tbody tr th {\n",
       "        vertical-align: top;\n",
       "    }\n",
       "\n",
       "    .dataframe thead th {\n",
       "        text-align: right;\n",
       "    }\n",
       "</style>\n",
       "<table border=\"1\" class=\"dataframe\">\n",
       "  <thead>\n",
       "    <tr style=\"text-align: right;\">\n",
       "      <th></th>\n",
       "      <th>income_type</th>\n",
       "      <th>total_income</th>\n",
       "    </tr>\n",
       "  </thead>\n",
       "  <tbody>\n",
       "    <tr>\n",
       "      <th>0</th>\n",
       "      <td>госслужащий</td>\n",
       "      <td>147</td>\n",
       "    </tr>\n",
       "    <tr>\n",
       "      <th>1</th>\n",
       "      <td>компаньон</td>\n",
       "      <td>508</td>\n",
       "    </tr>\n",
       "    <tr>\n",
       "      <th>2</th>\n",
       "      <td>пенсионер</td>\n",
       "      <td>413</td>\n",
       "    </tr>\n",
       "    <tr>\n",
       "      <th>3</th>\n",
       "      <td>предприниматель</td>\n",
       "      <td>1</td>\n",
       "    </tr>\n",
       "    <tr>\n",
       "      <th>4</th>\n",
       "      <td>сотрудник</td>\n",
       "      <td>1105</td>\n",
       "    </tr>\n",
       "  </tbody>\n",
       "</table>\n",
       "</div>"
      ],
      "text/plain": [
       "       income_type  total_income\n",
       "0      госслужащий           147\n",
       "1        компаньон           508\n",
       "2        пенсионер           413\n",
       "3  предприниматель             1\n",
       "4        сотрудник          1105"
      ]
     },
     "execution_count": 43,
     "metadata": {},
     "output_type": "execute_result"
    }
   ],
   "source": [
    "import pandas as pd\n",
    "res = pd.read_csv('/datasets/data.csv')\n",
    "#заменим пустые значения на \"нет\" в столбце 'days_employed'\n",
    "res['days_employed'] = res['days_employed'].fillna(value='нет')\n",
    "#заменим пустые значения на \"нет\" в столбце 'total_income'\n",
    "res['total_income'] = res['total_income'].fillna(value='нет')\n",
    "#отфильтруем заемщиков, которые не указали стаж в разрезе типа занятости\n",
    "res_filtred = res.loc[(res['days_employed'] == 'нет') & (res['total_income'] == 'нет')]\n",
    "#выведем категории заемщиков, которые не указали ежемесячный доход:\n",
    "total_income_filtred = res_filtred.groupby('income_type')['total_income'].count().reset_index()\n",
    "total_income_filtred"
   ]
  },
  {
   "cell_type": "markdown",
   "id": "5d02e5f9",
   "metadata": {},
   "source": [
    "\n",
    "<div class=\"alert alert-success\">\n",
    "<b>Комментарий ревьюера v2.0:</b>Оооо, анализ подробный - это хорошо! Ты молодец  </div>\n"
   ]
  },
  {
   "cell_type": "markdown",
   "id": "11b43457",
   "metadata": {
    "deletable": false,
    "editable": false,
    "id": "7b0487d6"
   },
   "source": [
    "#### 3.6 Объясните, почему заполнить пропуски медианным значением — лучшее решение для количественных переменных."
   ]
  },
  {
   "cell_type": "markdown",
   "id": "faadda43",
   "metadata": {
    "deletable": false,
    "id": "7ecf2b8e"
   },
   "source": [
    "*Ответ:* "
   ]
  },
  {
   "cell_type": "markdown",
   "id": "d9a56c05",
   "metadata": {},
   "source": [
    "Данные о ежемесячном доходе заемщиков не однородны. Максимальный доход составил 2 266 тыс. руб., минимальный - 21 тыс. руб.\n",
    "В случая если совокупность является неоднородной, медиана отображает показатель, который наиболее приближен к истинно среднему.\\\n",
    "Средний доход `mean` составил 167 тыс. руб.\\\n",
    "Медианное значание `median` - 145 тыс. руб.\\\n",
    "Отклонение = 22 тыс. руб."
   ]
  },
  {
   "cell_type": "markdown",
   "id": "6a47a03a",
   "metadata": {},
   "source": [
    "\n",
    "<div class=\"alert alert-success\">\n",
    "<b>Комментарий ревьюера v2.0:</b>Да, медиана наиболее устойчива к выбросам</div>\n"
   ]
  },
  {
   "cell_type": "markdown",
   "id": "bcbe1cb7",
   "metadata": {},
   "source": [
    "**Вывод:**\\\n",
    "Заемщики с оторванным от общей массы ежемесячным доходом завышают среднее значение вверх.\n",
    "Медианные значения позволяют правильно интерпретировать результаты анализа при неоднородной совокупности данных."
   ]
  },
  {
   "cell_type": "markdown",
   "id": "b2b8e1fb",
   "metadata": {},
   "source": [
    "Максимальный ежемесячный доход:"
   ]
  },
  {
   "cell_type": "code",
   "execution_count": 44,
   "id": "dcc3288a",
   "metadata": {},
   "outputs": [
    {
     "data": {
      "text/html": [
       "<div>\n",
       "<style scoped>\n",
       "    .dataframe tbody tr th:only-of-type {\n",
       "        vertical-align: middle;\n",
       "    }\n",
       "\n",
       "    .dataframe tbody tr th {\n",
       "        vertical-align: top;\n",
       "    }\n",
       "\n",
       "    .dataframe thead th {\n",
       "        text-align: right;\n",
       "    }\n",
       "</style>\n",
       "<table border=\"1\" class=\"dataframe\">\n",
       "  <thead>\n",
       "    <tr style=\"text-align: right;\">\n",
       "      <th></th>\n",
       "      <th>children</th>\n",
       "      <th>days_employed</th>\n",
       "      <th>dob_years</th>\n",
       "      <th>education</th>\n",
       "      <th>education_id</th>\n",
       "      <th>family_status</th>\n",
       "      <th>family_status_id</th>\n",
       "      <th>gender</th>\n",
       "      <th>income_type</th>\n",
       "      <th>debt</th>\n",
       "      <th>total_income</th>\n",
       "      <th>purpose</th>\n",
       "    </tr>\n",
       "  </thead>\n",
       "  <tbody>\n",
       "    <tr>\n",
       "      <th>12412</th>\n",
       "      <td>0</td>\n",
       "      <td>-1477.438114</td>\n",
       "      <td>44</td>\n",
       "      <td>высшее</td>\n",
       "      <td>0</td>\n",
       "      <td>женат / замужем</td>\n",
       "      <td>0</td>\n",
       "      <td>M</td>\n",
       "      <td>компаньон</td>\n",
       "      <td>0</td>\n",
       "      <td>2.265604e+06</td>\n",
       "      <td>ремонт жилью</td>\n",
       "    </tr>\n",
       "  </tbody>\n",
       "</table>\n",
       "</div>"
      ],
      "text/plain": [
       "       children  days_employed  dob_years education  education_id  \\\n",
       "12412         0   -1477.438114         44    высшее             0   \n",
       "\n",
       "         family_status  family_status_id gender income_type  debt  \\\n",
       "12412  женат / замужем                 0      M   компаньон     0   \n",
       "\n",
       "       total_income       purpose  \n",
       "12412  2.265604e+06  ремонт жилью  "
      ]
     },
     "execution_count": 44,
     "metadata": {},
     "output_type": "execute_result"
    }
   ],
   "source": [
    "import pandas as pd\n",
    "res = pd.read_csv('/datasets/data.csv')\n",
    "res[res['total_income'] == res['total_income'].max()]"
   ]
  },
  {
   "cell_type": "markdown",
   "id": "49d8931d",
   "metadata": {},
   "source": [
    "Максимальный ежемесячный доход:"
   ]
  },
  {
   "cell_type": "code",
   "execution_count": 45,
   "id": "8d5389f9",
   "metadata": {},
   "outputs": [
    {
     "data": {
      "text/html": [
       "<div>\n",
       "<style scoped>\n",
       "    .dataframe tbody tr th:only-of-type {\n",
       "        vertical-align: middle;\n",
       "    }\n",
       "\n",
       "    .dataframe tbody tr th {\n",
       "        vertical-align: top;\n",
       "    }\n",
       "\n",
       "    .dataframe thead th {\n",
       "        text-align: right;\n",
       "    }\n",
       "</style>\n",
       "<table border=\"1\" class=\"dataframe\">\n",
       "  <thead>\n",
       "    <tr style=\"text-align: right;\">\n",
       "      <th></th>\n",
       "      <th>children</th>\n",
       "      <th>days_employed</th>\n",
       "      <th>dob_years</th>\n",
       "      <th>education</th>\n",
       "      <th>education_id</th>\n",
       "      <th>family_status</th>\n",
       "      <th>family_status_id</th>\n",
       "      <th>gender</th>\n",
       "      <th>income_type</th>\n",
       "      <th>debt</th>\n",
       "      <th>total_income</th>\n",
       "      <th>purpose</th>\n",
       "    </tr>\n",
       "  </thead>\n",
       "  <tbody>\n",
       "    <tr>\n",
       "      <th>14585</th>\n",
       "      <td>0</td>\n",
       "      <td>359219.059341</td>\n",
       "      <td>57</td>\n",
       "      <td>среднее</td>\n",
       "      <td>1</td>\n",
       "      <td>женат / замужем</td>\n",
       "      <td>0</td>\n",
       "      <td>F</td>\n",
       "      <td>пенсионер</td>\n",
       "      <td>1</td>\n",
       "      <td>20667.263793</td>\n",
       "      <td>недвижимость</td>\n",
       "    </tr>\n",
       "  </tbody>\n",
       "</table>\n",
       "</div>"
      ],
      "text/plain": [
       "       children  days_employed  dob_years education  education_id  \\\n",
       "14585         0  359219.059341         57   среднее             1   \n",
       "\n",
       "         family_status  family_status_id gender income_type  debt  \\\n",
       "14585  женат / замужем                 0      F   пенсионер     1   \n",
       "\n",
       "       total_income       purpose  \n",
       "14585  20667.263793  недвижимость  "
      ]
     },
     "execution_count": 45,
     "metadata": {},
     "output_type": "execute_result"
    }
   ],
   "source": [
    "import pandas as pd\n",
    "res = pd.read_csv('/datasets/data.csv')\n",
    "res[res['total_income'] == res['total_income'].min()]"
   ]
  },
  {
   "cell_type": "markdown",
   "id": "1474168d",
   "metadata": {},
   "source": [
    "Средний доход в месяц:"
   ]
  },
  {
   "cell_type": "code",
   "execution_count": 46,
   "id": "e70bced5",
   "metadata": {},
   "outputs": [
    {
     "data": {
      "text/plain": [
       "167422.30220817294"
      ]
     },
     "execution_count": 46,
     "metadata": {},
     "output_type": "execute_result"
    }
   ],
   "source": [
    "res['total_income'].mean()"
   ]
  },
  {
   "cell_type": "markdown",
   "id": "71435266",
   "metadata": {},
   "source": [
    "Медианное значение:"
   ]
  },
  {
   "cell_type": "code",
   "execution_count": 47,
   "id": "b556b27a",
   "metadata": {},
   "outputs": [
    {
     "data": {
      "text/plain": [
       "145017.93753253992"
      ]
     },
     "execution_count": 47,
     "metadata": {},
     "output_type": "execute_result"
    }
   ],
   "source": [
    "res['total_income'].median()"
   ]
  },
  {
   "cell_type": "markdown",
   "id": "67956ff5",
   "metadata": {
    "deletable": false,
    "editable": false,
    "id": "6db5255a"
   },
   "source": [
    "### Шаг 4: общий вывод."
   ]
  },
  {
   "cell_type": "markdown",
   "id": "f7344246",
   "metadata": {
    "deletable": false,
    "id": "bad65432"
   },
   "source": [
    "`Критерии заемщиков обладающих наиболее высоким потенциалом вернуть кредит банку в срок:`\n",
    "* без детей - показатель своевременности возврата кредитов(7,54%),\n",
    "* семейным положением \"женат/замужем\" (7,56%) или \"в разводе\" и \"вдовец/вдова\" (6,62%),\n",
    "* цель кредита: операции с недвижимостью или проведение свадьбы,\n",
    "* категории дохода:\\\n",
    "     \"D\" (от 30 0001 до 50 000 руб.) - показатель своевременности возврата кредитов(1,6%),\\\n",
    "     \"B\" (от 200 0001 до 1 000 000 руб.) - показатель своевременности возврата кредитов(1,7%),"
   ]
  },
  {
   "cell_type": "markdown",
   "id": "043d942c",
   "metadata": {},
   "source": [
    "`Комментарии ко входным данным:`\n",
    "\n",
    "Для категория сотрудник- трудовой стаж не указан 1105 раз (51% от общего количества пропусков):\n",
    " нет явного объяснения причин пропусков. Потенциальные заемщики могли не иметь трудового стажа или умышленно его не указывали. Необходимо уточнить информацию у кредитного отдела банка.\n",
    "\n",
    "Во входных данных, представленных кредитным отделом банка,  выявлены столбцы: \"трудовой стаж\" и \"ежемесячный доход\" с пропущенными значенями.\\\n",
    "Ежемесячный доход потенциальных заемщиков не является однородной совокупностью => для заполнения пропусков использовались медианные значения."
   ]
  }
 ],
 "metadata": {
  "ExecuteTimeLog": [
   {
    "duration": 53,
    "start_time": "2022-11-30T15:06:04.220Z"
   },
   {
    "duration": 489,
    "start_time": "2022-11-30T15:06:20.368Z"
   },
   {
    "duration": 29,
    "start_time": "2022-11-30T15:06:20.859Z"
   },
   {
    "duration": 16,
    "start_time": "2022-11-30T15:06:20.890Z"
   },
   {
    "duration": 28,
    "start_time": "2022-11-30T15:06:20.908Z"
   },
   {
    "duration": 62,
    "start_time": "2022-11-30T15:06:20.938Z"
   },
   {
    "duration": 18,
    "start_time": "2022-11-30T15:06:21.002Z"
   },
   {
    "duration": 33,
    "start_time": "2022-11-30T15:06:21.021Z"
   },
   {
    "duration": 36,
    "start_time": "2022-11-30T15:06:21.056Z"
   },
   {
    "duration": 28,
    "start_time": "2022-11-30T15:06:21.093Z"
   },
   {
    "duration": 25,
    "start_time": "2022-11-30T15:06:21.125Z"
   },
   {
    "duration": 82,
    "start_time": "2022-11-30T15:06:21.152Z"
   },
   {
    "duration": 11,
    "start_time": "2022-11-30T15:06:21.235Z"
   },
   {
    "duration": 29,
    "start_time": "2022-11-30T15:06:21.248Z"
   },
   {
    "duration": 34,
    "start_time": "2022-11-30T15:06:21.279Z"
   },
   {
    "duration": 50,
    "start_time": "2022-11-30T15:06:21.314Z"
   },
   {
    "duration": 44,
    "start_time": "2022-11-30T15:06:21.366Z"
   },
   {
    "duration": 8,
    "start_time": "2022-11-30T15:06:21.412Z"
   },
   {
    "duration": 49,
    "start_time": "2022-11-30T15:06:21.422Z"
   },
   {
    "duration": 30,
    "start_time": "2022-11-30T15:06:21.473Z"
   },
   {
    "duration": 41,
    "start_time": "2022-11-30T15:06:21.505Z"
   },
   {
    "duration": 52,
    "start_time": "2022-11-30T15:06:21.548Z"
   },
   {
    "duration": 31,
    "start_time": "2022-11-30T15:06:21.602Z"
   },
   {
    "duration": 14,
    "start_time": "2022-11-30T15:06:21.635Z"
   },
   {
    "duration": 34,
    "start_time": "2022-11-30T15:06:21.651Z"
   },
   {
    "duration": 28,
    "start_time": "2022-11-30T15:06:21.687Z"
   },
   {
    "duration": 30,
    "start_time": "2022-11-30T15:06:49.625Z"
   },
   {
    "duration": 6,
    "start_time": "2022-11-30T15:17:46.853Z"
   },
   {
    "duration": 7,
    "start_time": "2022-11-30T15:22:31.664Z"
   },
   {
    "duration": 6,
    "start_time": "2022-11-30T15:22:39.360Z"
   },
   {
    "duration": 48,
    "start_time": "2022-11-30T15:29:50.475Z"
   },
   {
    "duration": 545,
    "start_time": "2022-11-30T15:30:01.105Z"
   },
   {
    "duration": 27,
    "start_time": "2022-11-30T15:30:01.660Z"
   },
   {
    "duration": 17,
    "start_time": "2022-11-30T15:30:01.689Z"
   },
   {
    "duration": 23,
    "start_time": "2022-11-30T15:30:01.709Z"
   },
   {
    "duration": 51,
    "start_time": "2022-11-30T15:30:01.734Z"
   },
   {
    "duration": 4,
    "start_time": "2022-11-30T15:30:01.787Z"
   },
   {
    "duration": 21,
    "start_time": "2022-11-30T15:30:01.793Z"
   },
   {
    "duration": 25,
    "start_time": "2022-11-30T15:30:01.816Z"
   },
   {
    "duration": 42,
    "start_time": "2022-11-30T15:30:01.843Z"
   },
   {
    "duration": 11,
    "start_time": "2022-11-30T15:30:01.889Z"
   },
   {
    "duration": 66,
    "start_time": "2022-11-30T15:30:01.902Z"
   },
   {
    "duration": 18,
    "start_time": "2022-11-30T15:30:01.970Z"
   },
   {
    "duration": 19,
    "start_time": "2022-11-30T15:30:01.990Z"
   },
   {
    "duration": 29,
    "start_time": "2022-11-30T15:30:02.011Z"
   },
   {
    "duration": 39,
    "start_time": "2022-11-30T15:30:02.041Z"
   },
   {
    "duration": 26,
    "start_time": "2022-11-30T15:30:02.082Z"
   },
   {
    "duration": 5,
    "start_time": "2022-11-30T15:30:02.109Z"
   },
   {
    "duration": 15,
    "start_time": "2022-11-30T15:30:02.115Z"
   },
   {
    "duration": 26,
    "start_time": "2022-11-30T15:30:02.132Z"
   },
   {
    "duration": 26,
    "start_time": "2022-11-30T15:30:02.162Z"
   },
   {
    "duration": 37,
    "start_time": "2022-11-30T15:30:02.190Z"
   },
   {
    "duration": 62,
    "start_time": "2022-11-30T15:30:32.575Z"
   },
   {
    "duration": 536,
    "start_time": "2022-11-30T15:30:38.906Z"
   },
   {
    "duration": 507,
    "start_time": "2022-11-30T15:30:51.101Z"
   },
   {
    "duration": 25,
    "start_time": "2022-11-30T15:30:53.065Z"
   },
   {
    "duration": 17,
    "start_time": "2022-11-30T15:30:56.070Z"
   },
   {
    "duration": 11,
    "start_time": "2022-11-30T15:30:59.634Z"
   },
   {
    "duration": 44,
    "start_time": "2022-11-30T15:31:02.623Z"
   },
   {
    "duration": 3,
    "start_time": "2022-11-30T15:31:06.521Z"
   },
   {
    "duration": 8,
    "start_time": "2022-11-30T15:31:08.572Z"
   },
   {
    "duration": 4,
    "start_time": "2022-11-30T15:31:11.314Z"
   },
   {
    "duration": 7,
    "start_time": "2022-11-30T15:31:13.662Z"
   },
   {
    "duration": 4,
    "start_time": "2022-11-30T15:31:15.873Z"
   },
   {
    "duration": 39,
    "start_time": "2022-11-30T15:31:18.965Z"
   },
   {
    "duration": 10,
    "start_time": "2022-11-30T15:31:21.083Z"
   },
   {
    "duration": 3,
    "start_time": "2022-11-30T15:31:23.645Z"
   },
   {
    "duration": 11,
    "start_time": "2022-11-30T15:31:26.027Z"
   },
   {
    "duration": 28,
    "start_time": "2022-11-30T15:31:28.243Z"
   },
   {
    "duration": 19,
    "start_time": "2022-11-30T15:31:30.268Z"
   },
   {
    "duration": 4,
    "start_time": "2022-11-30T15:31:33.579Z"
   },
   {
    "duration": 12,
    "start_time": "2022-11-30T15:31:35.097Z"
   },
   {
    "duration": 6,
    "start_time": "2022-11-30T15:31:40.704Z"
   },
   {
    "duration": 3,
    "start_time": "2022-11-30T15:31:43.542Z"
   },
   {
    "duration": 21,
    "start_time": "2022-11-30T15:31:45.598Z"
   },
   {
    "duration": 56,
    "start_time": "2022-11-30T15:32:08.729Z"
   },
   {
    "duration": 7,
    "start_time": "2022-11-30T15:33:02.503Z"
   },
   {
    "duration": 572,
    "start_time": "2022-11-30T15:33:20.293Z"
   },
   {
    "duration": 24,
    "start_time": "2022-11-30T15:33:20.866Z"
   },
   {
    "duration": 15,
    "start_time": "2022-11-30T15:33:20.892Z"
   },
   {
    "duration": 11,
    "start_time": "2022-11-30T15:33:20.908Z"
   },
   {
    "duration": 56,
    "start_time": "2022-11-30T15:33:20.920Z"
   },
   {
    "duration": 3,
    "start_time": "2022-11-30T15:33:20.978Z"
   },
   {
    "duration": 12,
    "start_time": "2022-11-30T15:33:20.983Z"
   },
   {
    "duration": 10,
    "start_time": "2022-11-30T15:33:20.996Z"
   },
   {
    "duration": 9,
    "start_time": "2022-11-30T15:33:21.008Z"
   },
   {
    "duration": 5,
    "start_time": "2022-11-30T15:33:21.020Z"
   },
   {
    "duration": 68,
    "start_time": "2022-11-30T15:33:21.026Z"
   },
   {
    "duration": 14,
    "start_time": "2022-11-30T15:33:21.097Z"
   },
   {
    "duration": 5,
    "start_time": "2022-11-30T15:33:21.112Z"
   },
   {
    "duration": 14,
    "start_time": "2022-11-30T15:33:21.118Z"
   },
   {
    "duration": 40,
    "start_time": "2022-11-30T15:33:21.134Z"
   },
   {
    "duration": 17,
    "start_time": "2022-11-30T15:33:21.176Z"
   },
   {
    "duration": 4,
    "start_time": "2022-11-30T15:33:21.195Z"
   },
   {
    "duration": 15,
    "start_time": "2022-11-30T15:33:21.200Z"
   },
   {
    "duration": 6,
    "start_time": "2022-11-30T15:33:21.217Z"
   },
   {
    "duration": 13,
    "start_time": "2022-11-30T15:33:21.251Z"
   },
   {
    "duration": 26,
    "start_time": "2022-11-30T15:33:21.266Z"
   },
   {
    "duration": 10,
    "start_time": "2022-11-30T15:33:21.294Z"
   },
   {
    "duration": 6,
    "start_time": "2022-11-30T15:33:21.305Z"
   },
   {
    "duration": 8,
    "start_time": "2022-11-30T15:33:21.313Z"
   },
   {
    "duration": 6,
    "start_time": "2022-11-30T15:33:21.323Z"
   },
   {
    "duration": 23,
    "start_time": "2022-11-30T15:33:49.946Z"
   },
   {
    "duration": 9,
    "start_time": "2022-11-30T15:34:10.638Z"
   },
   {
    "duration": 76,
    "start_time": "2022-11-30T15:40:20.292Z"
   },
   {
    "duration": 17,
    "start_time": "2022-11-30T15:41:29.968Z"
   },
   {
    "duration": 21,
    "start_time": "2022-11-30T15:41:55.890Z"
   },
   {
    "duration": 20,
    "start_time": "2022-11-30T15:41:59.412Z"
   },
   {
    "duration": 510,
    "start_time": "2022-11-30T15:42:15.349Z"
   },
   {
    "duration": 24,
    "start_time": "2022-11-30T15:42:15.861Z"
   },
   {
    "duration": 16,
    "start_time": "2022-11-30T15:42:15.887Z"
   },
   {
    "duration": 16,
    "start_time": "2022-11-30T15:42:15.905Z"
   },
   {
    "duration": 59,
    "start_time": "2022-11-30T15:42:15.922Z"
   },
   {
    "duration": 3,
    "start_time": "2022-11-30T15:42:15.983Z"
   },
   {
    "duration": 14,
    "start_time": "2022-11-30T15:42:15.988Z"
   },
   {
    "duration": 9,
    "start_time": "2022-11-30T15:42:16.003Z"
   },
   {
    "duration": 10,
    "start_time": "2022-11-30T15:42:16.014Z"
   },
   {
    "duration": 5,
    "start_time": "2022-11-30T15:42:16.026Z"
   },
   {
    "duration": 50,
    "start_time": "2022-11-30T15:42:16.033Z"
   },
   {
    "duration": 11,
    "start_time": "2022-11-30T15:42:16.085Z"
   },
   {
    "duration": 8,
    "start_time": "2022-11-30T15:42:16.098Z"
   },
   {
    "duration": 17,
    "start_time": "2022-11-30T15:42:16.108Z"
   },
   {
    "duration": 40,
    "start_time": "2022-11-30T15:42:16.126Z"
   },
   {
    "duration": 23,
    "start_time": "2022-11-30T15:42:16.168Z"
   },
   {
    "duration": 4,
    "start_time": "2022-11-30T15:42:16.192Z"
   },
   {
    "duration": 17,
    "start_time": "2022-11-30T15:42:16.198Z"
   },
   {
    "duration": 10,
    "start_time": "2022-11-30T15:42:16.216Z"
   },
   {
    "duration": 24,
    "start_time": "2022-11-30T15:42:16.228Z"
   },
   {
    "duration": 23,
    "start_time": "2022-11-30T15:42:16.254Z"
   },
   {
    "duration": 93,
    "start_time": "2022-11-30T15:42:16.279Z"
   },
   {
    "duration": 0,
    "start_time": "2022-11-30T15:42:16.374Z"
   },
   {
    "duration": 0,
    "start_time": "2022-11-30T15:42:16.375Z"
   },
   {
    "duration": 0,
    "start_time": "2022-11-30T15:42:16.376Z"
   },
   {
    "duration": 20,
    "start_time": "2022-11-30T15:44:38.549Z"
   },
   {
    "duration": 10,
    "start_time": "2022-11-30T15:47:37.675Z"
   },
   {
    "duration": 6,
    "start_time": "2022-11-30T15:47:58.508Z"
   },
   {
    "duration": 6,
    "start_time": "2022-11-30T15:48:03.875Z"
   },
   {
    "duration": 9,
    "start_time": "2022-11-30T15:48:07.704Z"
   },
   {
    "duration": 14,
    "start_time": "2022-11-30T15:49:30.278Z"
   },
   {
    "duration": 8,
    "start_time": "2022-11-30T15:50:06.969Z"
   },
   {
    "duration": 7,
    "start_time": "2022-11-30T15:50:17.947Z"
   },
   {
    "duration": 6,
    "start_time": "2022-11-30T15:50:23.241Z"
   },
   {
    "duration": 6,
    "start_time": "2022-11-30T15:50:25.732Z"
   },
   {
    "duration": 12,
    "start_time": "2022-11-30T15:50:29.567Z"
   },
   {
    "duration": 12,
    "start_time": "2022-11-30T15:51:23.824Z"
   },
   {
    "duration": 13,
    "start_time": "2022-11-30T15:51:37.348Z"
   },
   {
    "duration": 12,
    "start_time": "2022-11-30T15:52:33.880Z"
   },
   {
    "duration": 5,
    "start_time": "2022-11-30T15:52:41.012Z"
   },
   {
    "duration": 6,
    "start_time": "2022-11-30T15:52:43.026Z"
   },
   {
    "duration": 9,
    "start_time": "2022-11-30T15:52:48.946Z"
   },
   {
    "duration": 11,
    "start_time": "2022-11-30T15:57:50.243Z"
   },
   {
    "duration": 15,
    "start_time": "2022-11-30T15:58:02.630Z"
   },
   {
    "duration": 14,
    "start_time": "2022-11-30T15:58:17.661Z"
   },
   {
    "duration": 10,
    "start_time": "2022-11-30T15:58:34.059Z"
   },
   {
    "duration": 13,
    "start_time": "2022-11-30T15:58:59.460Z"
   },
   {
    "duration": 13,
    "start_time": "2022-11-30T15:59:20.317Z"
   },
   {
    "duration": 7,
    "start_time": "2022-11-30T15:59:42.931Z"
   },
   {
    "duration": 15,
    "start_time": "2022-11-30T15:59:54.387Z"
   },
   {
    "duration": 7,
    "start_time": "2022-11-30T16:00:36.392Z"
   },
   {
    "duration": 9,
    "start_time": "2022-11-30T16:01:00.429Z"
   },
   {
    "duration": 9,
    "start_time": "2022-11-30T16:03:53.149Z"
   },
   {
    "duration": 6,
    "start_time": "2022-11-30T16:04:01.852Z"
   },
   {
    "duration": 7,
    "start_time": "2022-11-30T16:04:12.091Z"
   },
   {
    "duration": 7,
    "start_time": "2022-11-30T16:04:19.442Z"
   },
   {
    "duration": 8,
    "start_time": "2022-11-30T16:04:25.445Z"
   },
   {
    "duration": 66,
    "start_time": "2022-11-30T16:05:53.972Z"
   },
   {
    "duration": 8,
    "start_time": "2022-11-30T16:07:06.240Z"
   },
   {
    "duration": 11,
    "start_time": "2022-11-30T16:07:32.305Z"
   },
   {
    "duration": 6,
    "start_time": "2022-11-30T16:08:04.920Z"
   },
   {
    "duration": 7,
    "start_time": "2022-11-30T16:11:19.972Z"
   },
   {
    "duration": 8,
    "start_time": "2022-11-30T16:11:30.410Z"
   },
   {
    "duration": 12,
    "start_time": "2022-11-30T16:11:41.458Z"
   },
   {
    "duration": 10,
    "start_time": "2022-11-30T16:11:51.369Z"
   },
   {
    "duration": 14,
    "start_time": "2022-11-30T16:12:00.505Z"
   },
   {
    "duration": 10,
    "start_time": "2022-11-30T16:12:07.903Z"
   },
   {
    "duration": 12,
    "start_time": "2022-11-30T16:15:05.864Z"
   },
   {
    "duration": 14,
    "start_time": "2022-11-30T16:16:32.057Z"
   },
   {
    "duration": 9,
    "start_time": "2022-11-30T16:20:03.715Z"
   },
   {
    "duration": 9,
    "start_time": "2022-11-30T16:20:06.989Z"
   },
   {
    "duration": 13,
    "start_time": "2022-11-30T16:20:13.492Z"
   },
   {
    "duration": 14,
    "start_time": "2022-11-30T16:33:52.498Z"
   },
   {
    "duration": 7,
    "start_time": "2022-11-30T16:36:26.934Z"
   },
   {
    "duration": 8,
    "start_time": "2022-11-30T16:39:48.483Z"
   },
   {
    "duration": 15,
    "start_time": "2022-11-30T16:39:58.796Z"
   },
   {
    "duration": 8,
    "start_time": "2022-11-30T16:40:02.215Z"
   },
   {
    "duration": 10,
    "start_time": "2022-11-30T16:40:11.707Z"
   },
   {
    "duration": 11,
    "start_time": "2022-11-30T16:40:20.217Z"
   },
   {
    "duration": 13,
    "start_time": "2022-11-30T16:40:23.313Z"
   },
   {
    "duration": 8,
    "start_time": "2022-11-30T16:40:26.490Z"
   },
   {
    "duration": 10,
    "start_time": "2022-11-30T16:40:32.950Z"
   },
   {
    "duration": 13,
    "start_time": "2022-11-30T16:40:35.712Z"
   },
   {
    "duration": 9,
    "start_time": "2022-11-30T16:40:38.414Z"
   },
   {
    "duration": 4,
    "start_time": "2022-11-30T16:41:32.976Z"
   },
   {
    "duration": 6,
    "start_time": "2022-11-30T16:41:34.965Z"
   },
   {
    "duration": 5,
    "start_time": "2022-11-30T16:41:35.755Z"
   },
   {
    "duration": 4,
    "start_time": "2022-11-30T16:41:36.514Z"
   },
   {
    "duration": 9,
    "start_time": "2022-11-30T16:41:40.121Z"
   },
   {
    "duration": 3,
    "start_time": "2022-11-30T16:42:44.798Z"
   },
   {
    "duration": 6,
    "start_time": "2022-11-30T16:42:45.367Z"
   },
   {
    "duration": 6,
    "start_time": "2022-11-30T16:42:45.888Z"
   },
   {
    "duration": 4,
    "start_time": "2022-11-30T16:42:46.455Z"
   },
   {
    "duration": 11,
    "start_time": "2022-11-30T16:42:49.736Z"
   },
   {
    "duration": 10,
    "start_time": "2022-11-30T16:43:56.986Z"
   },
   {
    "duration": 4,
    "start_time": "2022-11-30T16:44:01.083Z"
   },
   {
    "duration": 12,
    "start_time": "2022-11-30T16:44:03.553Z"
   },
   {
    "duration": 9,
    "start_time": "2022-11-30T16:44:33.582Z"
   },
   {
    "duration": 9,
    "start_time": "2022-11-30T16:44:41.587Z"
   },
   {
    "duration": 4,
    "start_time": "2022-11-30T16:50:47.508Z"
   },
   {
    "duration": 6,
    "start_time": "2022-11-30T16:50:48.181Z"
   },
   {
    "duration": 5,
    "start_time": "2022-11-30T16:50:49.260Z"
   },
   {
    "duration": 10,
    "start_time": "2022-11-30T16:50:58.521Z"
   },
   {
    "duration": 12,
    "start_time": "2022-11-30T16:51:19.692Z"
   },
   {
    "duration": 4,
    "start_time": "2022-11-30T16:56:32.769Z"
   },
   {
    "duration": 13,
    "start_time": "2022-11-30T16:56:44.290Z"
   },
   {
    "duration": 12,
    "start_time": "2022-11-30T16:56:47.477Z"
   },
   {
    "duration": 4,
    "start_time": "2022-11-30T16:56:52.882Z"
   },
   {
    "duration": 6,
    "start_time": "2022-11-30T16:56:53.665Z"
   },
   {
    "duration": 5,
    "start_time": "2022-11-30T16:56:54.197Z"
   },
   {
    "duration": 4,
    "start_time": "2022-11-30T16:56:55.391Z"
   },
   {
    "duration": 4,
    "start_time": "2022-11-30T16:57:24.706Z"
   },
   {
    "duration": 505,
    "start_time": "2022-11-30T16:57:57.361Z"
   },
   {
    "duration": 25,
    "start_time": "2022-11-30T16:57:57.868Z"
   },
   {
    "duration": 17,
    "start_time": "2022-11-30T16:57:57.894Z"
   },
   {
    "duration": 12,
    "start_time": "2022-11-30T16:57:57.913Z"
   },
   {
    "duration": 36,
    "start_time": "2022-11-30T16:57:57.951Z"
   },
   {
    "duration": 3,
    "start_time": "2022-11-30T16:57:57.989Z"
   },
   {
    "duration": 12,
    "start_time": "2022-11-30T16:57:57.993Z"
   },
   {
    "duration": 15,
    "start_time": "2022-11-30T16:57:58.006Z"
   },
   {
    "duration": 28,
    "start_time": "2022-11-30T16:57:58.022Z"
   },
   {
    "duration": 5,
    "start_time": "2022-11-30T16:57:58.053Z"
   },
   {
    "duration": 35,
    "start_time": "2022-11-30T16:57:58.060Z"
   },
   {
    "duration": 10,
    "start_time": "2022-11-30T16:57:58.097Z"
   },
   {
    "duration": 5,
    "start_time": "2022-11-30T16:57:58.108Z"
   },
   {
    "duration": 38,
    "start_time": "2022-11-30T16:57:58.114Z"
   },
   {
    "duration": 25,
    "start_time": "2022-11-30T16:57:58.154Z"
   },
   {
    "duration": 19,
    "start_time": "2022-11-30T16:57:58.180Z"
   },
   {
    "duration": 7,
    "start_time": "2022-11-30T16:57:58.201Z"
   },
   {
    "duration": 19,
    "start_time": "2022-11-30T16:57:58.209Z"
   },
   {
    "duration": 6,
    "start_time": "2022-11-30T16:57:58.251Z"
   },
   {
    "duration": 4,
    "start_time": "2022-11-30T16:57:58.259Z"
   },
   {
    "duration": 33,
    "start_time": "2022-11-30T16:57:58.264Z"
   },
   {
    "duration": 3,
    "start_time": "2022-11-30T16:57:58.299Z"
   },
   {
    "duration": 14,
    "start_time": "2022-11-30T16:57:58.304Z"
   },
   {
    "duration": 5,
    "start_time": "2022-11-30T16:57:58.320Z"
   },
   {
    "duration": 27,
    "start_time": "2022-11-30T16:57:58.327Z"
   },
   {
    "duration": 12,
    "start_time": "2022-11-30T16:57:58.356Z"
   },
   {
    "duration": 8,
    "start_time": "2022-11-30T16:57:58.370Z"
   },
   {
    "duration": 6,
    "start_time": "2022-11-30T16:57:58.381Z"
   },
   {
    "duration": 13,
    "start_time": "2022-11-30T16:57:58.389Z"
   },
   {
    "duration": 70,
    "start_time": "2022-11-30T16:59:43.899Z"
   },
   {
    "duration": 4,
    "start_time": "2022-11-30T16:59:49.596Z"
   },
   {
    "duration": 4,
    "start_time": "2022-11-30T16:59:54.880Z"
   },
   {
    "duration": 5,
    "start_time": "2022-11-30T16:59:55.577Z"
   },
   {
    "duration": 5,
    "start_time": "2022-11-30T16:59:56.277Z"
   },
   {
    "duration": 4,
    "start_time": "2022-11-30T16:59:57.966Z"
   },
   {
    "duration": 9,
    "start_time": "2022-11-30T17:00:00.428Z"
   },
   {
    "duration": 4,
    "start_time": "2022-11-30T17:01:58.627Z"
   },
   {
    "duration": 5,
    "start_time": "2022-11-30T17:01:59.226Z"
   },
   {
    "duration": 5,
    "start_time": "2022-11-30T17:01:59.804Z"
   },
   {
    "duration": 4,
    "start_time": "2022-11-30T17:02:01.259Z"
   },
   {
    "duration": 10,
    "start_time": "2022-11-30T17:02:03.430Z"
   },
   {
    "duration": 534,
    "start_time": "2022-11-30T19:20:44.254Z"
   },
   {
    "duration": 25,
    "start_time": "2022-11-30T19:20:44.790Z"
   },
   {
    "duration": 20,
    "start_time": "2022-11-30T19:20:44.816Z"
   },
   {
    "duration": 11,
    "start_time": "2022-11-30T19:20:44.850Z"
   },
   {
    "duration": 36,
    "start_time": "2022-11-30T19:20:44.862Z"
   },
   {
    "duration": 3,
    "start_time": "2022-11-30T19:20:44.901Z"
   },
   {
    "duration": 11,
    "start_time": "2022-11-30T19:20:44.906Z"
   },
   {
    "duration": 5,
    "start_time": "2022-11-30T19:20:44.919Z"
   },
   {
    "duration": 8,
    "start_time": "2022-11-30T19:20:44.952Z"
   },
   {
    "duration": 4,
    "start_time": "2022-11-30T19:20:44.966Z"
   },
   {
    "duration": 37,
    "start_time": "2022-11-30T19:20:44.972Z"
   },
   {
    "duration": 41,
    "start_time": "2022-11-30T19:20:45.011Z"
   },
   {
    "duration": 4,
    "start_time": "2022-11-30T19:20:45.053Z"
   },
   {
    "duration": 14,
    "start_time": "2022-11-30T19:20:45.059Z"
   },
   {
    "duration": 23,
    "start_time": "2022-11-30T19:20:45.075Z"
   },
   {
    "duration": 19,
    "start_time": "2022-11-30T19:20:45.100Z"
   },
   {
    "duration": 4,
    "start_time": "2022-11-30T19:20:45.151Z"
   },
   {
    "duration": 14,
    "start_time": "2022-11-30T19:20:45.157Z"
   },
   {
    "duration": 9,
    "start_time": "2022-11-30T19:20:45.173Z"
   },
   {
    "duration": 5,
    "start_time": "2022-11-30T19:20:45.184Z"
   },
   {
    "duration": 31,
    "start_time": "2022-11-30T19:20:45.190Z"
   },
   {
    "duration": 28,
    "start_time": "2022-11-30T19:20:45.223Z"
   },
   {
    "duration": 5,
    "start_time": "2022-11-30T19:20:45.253Z"
   },
   {
    "duration": 6,
    "start_time": "2022-11-30T19:20:45.260Z"
   },
   {
    "duration": 6,
    "start_time": "2022-11-30T19:20:45.268Z"
   },
   {
    "duration": 12,
    "start_time": "2022-11-30T19:20:45.275Z"
   },
   {
    "duration": 6,
    "start_time": "2022-11-30T19:20:45.289Z"
   },
   {
    "duration": 7,
    "start_time": "2022-11-30T19:20:45.298Z"
   },
   {
    "duration": 4,
    "start_time": "2022-11-30T19:20:45.306Z"
   },
   {
    "duration": 46,
    "start_time": "2022-12-01T09:41:31.273Z"
   },
   {
    "duration": 525,
    "start_time": "2022-12-01T09:41:44.597Z"
   },
   {
    "duration": 21,
    "start_time": "2022-12-01T09:41:46.873Z"
   },
   {
    "duration": 14,
    "start_time": "2022-12-01T09:41:51.910Z"
   },
   {
    "duration": 10,
    "start_time": "2022-12-01T09:41:55.511Z"
   },
   {
    "duration": 32,
    "start_time": "2022-12-01T09:41:58.107Z"
   },
   {
    "duration": 4,
    "start_time": "2022-12-01T09:41:59.838Z"
   },
   {
    "duration": 8,
    "start_time": "2022-12-01T09:42:02.424Z"
   },
   {
    "duration": 5,
    "start_time": "2022-12-01T09:42:05.620Z"
   },
   {
    "duration": 7,
    "start_time": "2022-12-01T09:42:07.644Z"
   },
   {
    "duration": 4,
    "start_time": "2022-12-01T09:42:09.437Z"
   },
   {
    "duration": 31,
    "start_time": "2022-12-01T09:42:11.933Z"
   },
   {
    "duration": 10,
    "start_time": "2022-12-01T09:42:14.657Z"
   },
   {
    "duration": 4,
    "start_time": "2022-12-01T09:42:17.813Z"
   },
   {
    "duration": 10,
    "start_time": "2022-12-01T09:42:19.736Z"
   },
   {
    "duration": 19,
    "start_time": "2022-12-01T09:42:22.079Z"
   },
   {
    "duration": 25,
    "start_time": "2022-12-01T09:42:23.936Z"
   },
   {
    "duration": 3,
    "start_time": "2022-12-01T09:42:26.480Z"
   },
   {
    "duration": 10,
    "start_time": "2022-12-01T09:42:27.246Z"
   },
   {
    "duration": 5,
    "start_time": "2022-12-01T09:42:32.120Z"
   },
   {
    "duration": 4,
    "start_time": "2022-12-01T09:42:35.870Z"
   },
   {
    "duration": 3,
    "start_time": "2022-12-01T09:42:40.142Z"
   },
   {
    "duration": 5,
    "start_time": "2022-12-01T09:42:42.605Z"
   },
   {
    "duration": 4,
    "start_time": "2022-12-01T09:42:43.667Z"
   },
   {
    "duration": 5,
    "start_time": "2022-12-01T09:42:46.941Z"
   },
   {
    "duration": 8,
    "start_time": "2022-12-01T09:42:48.865Z"
   },
   {
    "duration": 4,
    "start_time": "2022-12-01T09:42:52.601Z"
   },
   {
    "duration": 6,
    "start_time": "2022-12-01T09:42:54.514Z"
   },
   {
    "duration": 6,
    "start_time": "2022-12-01T09:42:55.355Z"
   },
   {
    "duration": 4,
    "start_time": "2022-12-01T09:42:56.227Z"
   },
   {
    "duration": 8,
    "start_time": "2022-12-01T09:42:58.597Z"
   },
   {
    "duration": 78,
    "start_time": "2022-12-01T12:20:14.709Z"
   },
   {
    "duration": 41,
    "start_time": "2022-12-01T12:25:30.901Z"
   },
   {
    "duration": 5,
    "start_time": "2022-12-01T12:25:58.982Z"
   },
   {
    "duration": 505,
    "start_time": "2022-12-01T12:26:28.215Z"
   },
   {
    "duration": 20,
    "start_time": "2022-12-01T12:26:28.722Z"
   },
   {
    "duration": 33,
    "start_time": "2022-12-01T12:26:28.744Z"
   },
   {
    "duration": 46,
    "start_time": "2022-12-01T12:26:28.779Z"
   },
   {
    "duration": 71,
    "start_time": "2022-12-01T12:26:28.826Z"
   },
   {
    "duration": 18,
    "start_time": "2022-12-01T12:26:28.899Z"
   },
   {
    "duration": 41,
    "start_time": "2022-12-01T12:26:28.918Z"
   },
   {
    "duration": 54,
    "start_time": "2022-12-01T12:26:28.961Z"
   },
   {
    "duration": 28,
    "start_time": "2022-12-01T12:26:29.017Z"
   },
   {
    "duration": 38,
    "start_time": "2022-12-01T12:26:29.047Z"
   },
   {
    "duration": 69,
    "start_time": "2022-12-01T12:26:29.087Z"
   },
   {
    "duration": 18,
    "start_time": "2022-12-01T12:26:29.157Z"
   },
   {
    "duration": 47,
    "start_time": "2022-12-01T12:26:29.176Z"
   },
   {
    "duration": 33,
    "start_time": "2022-12-01T12:26:29.224Z"
   },
   {
    "duration": 68,
    "start_time": "2022-12-01T12:26:29.258Z"
   },
   {
    "duration": 33,
    "start_time": "2022-12-01T12:26:29.327Z"
   },
   {
    "duration": 58,
    "start_time": "2022-12-01T12:26:29.362Z"
   },
   {
    "duration": 56,
    "start_time": "2022-12-01T12:26:29.421Z"
   },
   {
    "duration": 21,
    "start_time": "2022-12-01T12:26:29.478Z"
   },
   {
    "duration": 46,
    "start_time": "2022-12-01T12:26:29.501Z"
   },
   {
    "duration": 70,
    "start_time": "2022-12-01T12:26:29.548Z"
   },
   {
    "duration": 47,
    "start_time": "2022-12-01T12:26:29.619Z"
   },
   {
    "duration": 6,
    "start_time": "2022-12-01T12:26:29.668Z"
   },
   {
    "duration": 20,
    "start_time": "2022-12-01T12:26:29.676Z"
   },
   {
    "duration": 15,
    "start_time": "2022-12-01T12:26:29.698Z"
   },
   {
    "duration": 37,
    "start_time": "2022-12-01T12:26:29.714Z"
   },
   {
    "duration": 10,
    "start_time": "2022-12-01T12:26:29.753Z"
   },
   {
    "duration": 15,
    "start_time": "2022-12-01T12:26:29.766Z"
   },
   {
    "duration": 24,
    "start_time": "2022-12-01T12:26:29.783Z"
   },
   {
    "duration": 9,
    "start_time": "2022-12-01T12:26:29.809Z"
   },
   {
    "duration": 26,
    "start_time": "2022-12-01T12:26:29.820Z"
   },
   {
    "duration": 18,
    "start_time": "2022-12-01T12:26:29.847Z"
   },
   {
    "duration": 8,
    "start_time": "2022-12-01T12:26:29.866Z"
   },
   {
    "duration": 12,
    "start_time": "2022-12-01T12:27:43.014Z"
   },
   {
    "duration": 7,
    "start_time": "2022-12-01T12:28:23.854Z"
   },
   {
    "duration": 5,
    "start_time": "2022-12-01T12:29:28.879Z"
   },
   {
    "duration": 26,
    "start_time": "2022-12-01T12:30:13.744Z"
   },
   {
    "duration": 9,
    "start_time": "2022-12-01T12:39:40.398Z"
   },
   {
    "duration": 7,
    "start_time": "2022-12-01T12:39:41.746Z"
   },
   {
    "duration": 4,
    "start_time": "2022-12-01T12:39:43.231Z"
   },
   {
    "duration": 29,
    "start_time": "2022-12-01T12:39:47.624Z"
   },
   {
    "duration": 3,
    "start_time": "2022-12-01T12:41:28.256Z"
   },
   {
    "duration": 5,
    "start_time": "2022-12-01T12:41:29.943Z"
   },
   {
    "duration": 5,
    "start_time": "2022-12-01T12:41:31.797Z"
   },
   {
    "duration": 4,
    "start_time": "2022-12-01T12:41:36.681Z"
   },
   {
    "duration": 8,
    "start_time": "2022-12-01T12:41:40.421Z"
   },
   {
    "duration": 67,
    "start_time": "2022-12-01T13:30:22.595Z"
   },
   {
    "duration": 71,
    "start_time": "2022-12-01T13:30:34.331Z"
   },
   {
    "duration": 80,
    "start_time": "2022-12-01T13:31:03.565Z"
   },
   {
    "duration": 53,
    "start_time": "2022-12-01T13:57:40.070Z"
   },
   {
    "duration": 604,
    "start_time": "2022-12-01T13:58:21.335Z"
   },
   {
    "duration": 30,
    "start_time": "2022-12-01T13:58:21.941Z"
   },
   {
    "duration": 14,
    "start_time": "2022-12-01T13:58:21.973Z"
   },
   {
    "duration": 8,
    "start_time": "2022-12-01T13:58:21.990Z"
   },
   {
    "duration": 59,
    "start_time": "2022-12-01T13:58:22.000Z"
   },
   {
    "duration": 4,
    "start_time": "2022-12-01T13:58:22.061Z"
   },
   {
    "duration": 9,
    "start_time": "2022-12-01T13:58:22.069Z"
   },
   {
    "duration": 5,
    "start_time": "2022-12-01T13:58:22.080Z"
   },
   {
    "duration": 11,
    "start_time": "2022-12-01T13:58:22.086Z"
   },
   {
    "duration": 5,
    "start_time": "2022-12-01T13:58:22.101Z"
   },
   {
    "duration": 63,
    "start_time": "2022-12-01T13:58:22.108Z"
   },
   {
    "duration": 9,
    "start_time": "2022-12-01T13:58:22.173Z"
   },
   {
    "duration": 6,
    "start_time": "2022-12-01T13:58:22.183Z"
   },
   {
    "duration": 13,
    "start_time": "2022-12-01T13:58:22.191Z"
   },
   {
    "duration": 23,
    "start_time": "2022-12-01T13:58:22.205Z"
   },
   {
    "duration": 40,
    "start_time": "2022-12-01T13:58:22.230Z"
   },
   {
    "duration": 3,
    "start_time": "2022-12-01T13:58:22.272Z"
   },
   {
    "duration": 19,
    "start_time": "2022-12-01T13:58:22.277Z"
   },
   {
    "duration": 6,
    "start_time": "2022-12-01T13:58:22.298Z"
   },
   {
    "duration": 5,
    "start_time": "2022-12-01T13:58:22.306Z"
   },
   {
    "duration": 50,
    "start_time": "2022-12-01T13:58:22.313Z"
   },
   {
    "duration": 4,
    "start_time": "2022-12-01T13:58:22.364Z"
   },
   {
    "duration": 12,
    "start_time": "2022-12-01T13:58:22.370Z"
   },
   {
    "duration": 28,
    "start_time": "2022-12-01T13:58:22.384Z"
   },
   {
    "duration": 12,
    "start_time": "2022-12-01T13:58:22.414Z"
   },
   {
    "duration": 17,
    "start_time": "2022-12-01T13:58:22.428Z"
   },
   {
    "duration": 28,
    "start_time": "2022-12-01T13:58:22.447Z"
   },
   {
    "duration": 15,
    "start_time": "2022-12-01T13:58:22.478Z"
   },
   {
    "duration": 12,
    "start_time": "2022-12-01T13:58:22.495Z"
   },
   {
    "duration": 7,
    "start_time": "2022-12-01T13:58:22.510Z"
   },
   {
    "duration": 18,
    "start_time": "2022-12-01T13:58:22.519Z"
   },
   {
    "duration": 6,
    "start_time": "2022-12-01T13:58:22.539Z"
   },
   {
    "duration": 19,
    "start_time": "2022-12-01T13:58:22.547Z"
   },
   {
    "duration": 18,
    "start_time": "2022-12-01T13:58:22.568Z"
   },
   {
    "duration": 13,
    "start_time": "2022-12-01T13:58:22.589Z"
   },
   {
    "duration": 24,
    "start_time": "2022-12-01T13:58:22.604Z"
   },
   {
    "duration": 13,
    "start_time": "2022-12-01T13:58:22.630Z"
   },
   {
    "duration": 85,
    "start_time": "2022-12-01T13:58:22.645Z"
   },
   {
    "duration": 0,
    "start_time": "2022-12-01T13:58:22.732Z"
   },
   {
    "duration": 7,
    "start_time": "2022-12-01T13:58:27.967Z"
   },
   {
    "duration": 17,
    "start_time": "2022-12-01T13:58:44.053Z"
   },
   {
    "duration": 5,
    "start_time": "2022-12-01T13:58:53.962Z"
   },
   {
    "duration": 5,
    "start_time": "2022-12-01T13:59:21.322Z"
   },
   {
    "duration": 1307,
    "start_time": "2022-12-01T14:00:17.804Z"
   },
   {
    "duration": 4,
    "start_time": "2022-12-01T14:02:25.474Z"
   },
   {
    "duration": 4,
    "start_time": "2022-12-01T14:03:18.858Z"
   },
   {
    "duration": 6,
    "start_time": "2022-12-01T14:03:30.824Z"
   },
   {
    "duration": 4,
    "start_time": "2022-12-01T14:04:21.866Z"
   },
   {
    "duration": 1766,
    "start_time": "2022-12-01T14:05:01.430Z"
   },
   {
    "duration": 87,
    "start_time": "2022-12-01T14:11:28.527Z"
   },
   {
    "duration": 111,
    "start_time": "2022-12-01T14:11:39.132Z"
   },
   {
    "duration": 80,
    "start_time": "2022-12-01T14:11:53.753Z"
   },
   {
    "duration": 90,
    "start_time": "2022-12-01T14:12:04.730Z"
   },
   {
    "duration": 76,
    "start_time": "2022-12-01T14:12:37.170Z"
   },
   {
    "duration": 120,
    "start_time": "2022-12-01T14:13:14.985Z"
   },
   {
    "duration": 1326,
    "start_time": "2022-12-01T14:15:32.868Z"
   },
   {
    "duration": 1317,
    "start_time": "2022-12-01T14:16:01.048Z"
   },
   {
    "duration": 77,
    "start_time": "2022-12-01T14:16:28.399Z"
   },
   {
    "duration": 89,
    "start_time": "2022-12-01T14:16:44.116Z"
   },
   {
    "duration": 1321,
    "start_time": "2022-12-01T14:16:47.272Z"
   },
   {
    "duration": 4,
    "start_time": "2022-12-01T14:17:12.841Z"
   },
   {
    "duration": 7,
    "start_time": "2022-12-01T14:19:10.072Z"
   },
   {
    "duration": 1284,
    "start_time": "2022-12-01T14:19:24.235Z"
   },
   {
    "duration": 502,
    "start_time": "2022-12-01T14:19:46.997Z"
   },
   {
    "duration": 24,
    "start_time": "2022-12-01T14:19:47.501Z"
   },
   {
    "duration": 281,
    "start_time": "2022-12-01T14:19:47.527Z"
   },
   {
    "duration": 11,
    "start_time": "2022-12-01T14:19:47.810Z"
   },
   {
    "duration": 45,
    "start_time": "2022-12-01T14:19:47.823Z"
   },
   {
    "duration": 4,
    "start_time": "2022-12-01T14:19:47.871Z"
   },
   {
    "duration": 14,
    "start_time": "2022-12-01T14:19:47.877Z"
   },
   {
    "duration": 6,
    "start_time": "2022-12-01T14:19:47.892Z"
   },
   {
    "duration": 16,
    "start_time": "2022-12-01T14:19:47.899Z"
   },
   {
    "duration": 7,
    "start_time": "2022-12-01T14:19:47.920Z"
   },
   {
    "duration": 52,
    "start_time": "2022-12-01T14:19:47.928Z"
   },
   {
    "duration": 11,
    "start_time": "2022-12-01T14:19:47.982Z"
   },
   {
    "duration": 12,
    "start_time": "2022-12-01T14:19:47.995Z"
   },
   {
    "duration": 22,
    "start_time": "2022-12-01T14:19:48.009Z"
   },
   {
    "duration": 33,
    "start_time": "2022-12-01T14:19:48.033Z"
   },
   {
    "duration": 18,
    "start_time": "2022-12-01T14:19:48.072Z"
   },
   {
    "duration": 4,
    "start_time": "2022-12-01T14:19:48.092Z"
   },
   {
    "duration": 13,
    "start_time": "2022-12-01T14:19:48.098Z"
   },
   {
    "duration": 6,
    "start_time": "2022-12-01T14:19:48.113Z"
   },
   {
    "duration": 11,
    "start_time": "2022-12-01T14:19:48.121Z"
   },
   {
    "duration": 43,
    "start_time": "2022-12-01T14:19:48.134Z"
   },
   {
    "duration": 4,
    "start_time": "2022-12-01T14:19:48.178Z"
   },
   {
    "duration": 17,
    "start_time": "2022-12-01T14:19:48.184Z"
   },
   {
    "duration": 9,
    "start_time": "2022-12-01T14:19:48.203Z"
   },
   {
    "duration": 12,
    "start_time": "2022-12-01T14:19:48.214Z"
   },
   {
    "duration": 22,
    "start_time": "2022-12-01T14:19:48.228Z"
   },
   {
    "duration": 32,
    "start_time": "2022-12-01T14:19:48.252Z"
   },
   {
    "duration": 17,
    "start_time": "2022-12-01T14:19:48.289Z"
   },
   {
    "duration": 13,
    "start_time": "2022-12-01T14:19:48.308Z"
   },
   {
    "duration": 9,
    "start_time": "2022-12-01T14:19:48.323Z"
   },
   {
    "duration": 16,
    "start_time": "2022-12-01T14:19:48.334Z"
   },
   {
    "duration": 24,
    "start_time": "2022-12-01T14:19:48.355Z"
   },
   {
    "duration": 16,
    "start_time": "2022-12-01T14:19:48.380Z"
   },
   {
    "duration": 9,
    "start_time": "2022-12-01T14:19:48.398Z"
   },
   {
    "duration": 12,
    "start_time": "2022-12-01T14:19:48.409Z"
   },
   {
    "duration": 14,
    "start_time": "2022-12-01T14:19:48.423Z"
   },
   {
    "duration": 11,
    "start_time": "2022-12-01T14:19:48.439Z"
   },
   {
    "duration": 1476,
    "start_time": "2022-12-01T14:19:48.455Z"
   },
   {
    "duration": 0,
    "start_time": "2022-12-01T14:19:49.932Z"
   },
   {
    "duration": 1267,
    "start_time": "2022-12-01T14:19:56.898Z"
   },
   {
    "duration": 5,
    "start_time": "2022-12-01T14:20:10.537Z"
   },
   {
    "duration": 7,
    "start_time": "2022-12-01T14:20:31.412Z"
   },
   {
    "duration": 4,
    "start_time": "2022-12-01T14:20:44.473Z"
   },
   {
    "duration": 8,
    "start_time": "2022-12-01T14:21:08.363Z"
   },
   {
    "duration": 6,
    "start_time": "2022-12-01T14:21:13.389Z"
   },
   {
    "duration": 19,
    "start_time": "2022-12-01T14:22:11.350Z"
   },
   {
    "duration": 1448,
    "start_time": "2022-12-01T14:22:28.032Z"
   },
   {
    "duration": 1220,
    "start_time": "2022-12-01T14:22:59.991Z"
   },
   {
    "duration": 10,
    "start_time": "2022-12-01T14:23:13.324Z"
   },
   {
    "duration": 4,
    "start_time": "2022-12-01T14:25:03.704Z"
   },
   {
    "duration": 7,
    "start_time": "2022-12-01T14:25:14.026Z"
   },
   {
    "duration": 16,
    "start_time": "2022-12-01T14:25:39.450Z"
   },
   {
    "duration": 12,
    "start_time": "2022-12-01T14:26:17.449Z"
   },
   {
    "duration": 523,
    "start_time": "2022-12-01T14:26:46.868Z"
   },
   {
    "duration": 25,
    "start_time": "2022-12-01T14:26:47.393Z"
   },
   {
    "duration": 16,
    "start_time": "2022-12-01T14:26:47.419Z"
   },
   {
    "duration": 18,
    "start_time": "2022-12-01T14:26:47.453Z"
   },
   {
    "duration": 37,
    "start_time": "2022-12-01T14:26:47.473Z"
   },
   {
    "duration": 3,
    "start_time": "2022-12-01T14:26:47.512Z"
   },
   {
    "duration": 12,
    "start_time": "2022-12-01T14:26:47.517Z"
   },
   {
    "duration": 23,
    "start_time": "2022-12-01T14:26:47.530Z"
   },
   {
    "duration": 11,
    "start_time": "2022-12-01T14:26:47.556Z"
   },
   {
    "duration": 6,
    "start_time": "2022-12-01T14:26:47.570Z"
   },
   {
    "duration": 40,
    "start_time": "2022-12-01T14:26:47.578Z"
   },
   {
    "duration": 10,
    "start_time": "2022-12-01T14:26:47.619Z"
   },
   {
    "duration": 39,
    "start_time": "2022-12-01T14:26:47.630Z"
   },
   {
    "duration": 13,
    "start_time": "2022-12-01T14:26:47.671Z"
   },
   {
    "duration": 22,
    "start_time": "2022-12-01T14:26:47.686Z"
   },
   {
    "duration": 19,
    "start_time": "2022-12-01T14:26:47.710Z"
   },
   {
    "duration": 3,
    "start_time": "2022-12-01T14:26:47.731Z"
   },
   {
    "duration": 26,
    "start_time": "2022-12-01T14:26:47.736Z"
   },
   {
    "duration": 13,
    "start_time": "2022-12-01T14:26:47.764Z"
   },
   {
    "duration": 4,
    "start_time": "2022-12-01T14:26:47.779Z"
   },
   {
    "duration": 23,
    "start_time": "2022-12-01T14:26:47.785Z"
   },
   {
    "duration": 3,
    "start_time": "2022-12-01T14:26:47.810Z"
   },
   {
    "duration": 10,
    "start_time": "2022-12-01T14:26:47.815Z"
   },
   {
    "duration": 31,
    "start_time": "2022-12-01T14:26:47.826Z"
   },
   {
    "duration": 4,
    "start_time": "2022-12-01T14:26:47.861Z"
   },
   {
    "duration": 14,
    "start_time": "2022-12-01T14:26:47.867Z"
   },
   {
    "duration": 7,
    "start_time": "2022-12-01T14:26:47.882Z"
   },
   {
    "duration": 10,
    "start_time": "2022-12-01T14:26:47.892Z"
   },
   {
    "duration": 6,
    "start_time": "2022-12-01T14:26:47.903Z"
   },
   {
    "duration": 3,
    "start_time": "2022-12-01T14:26:47.911Z"
   },
   {
    "duration": 12,
    "start_time": "2022-12-01T14:26:47.916Z"
   },
   {
    "duration": 7,
    "start_time": "2022-12-01T14:26:47.930Z"
   },
   {
    "duration": 37,
    "start_time": "2022-12-01T14:26:47.938Z"
   },
   {
    "duration": 5,
    "start_time": "2022-12-01T14:26:47.977Z"
   },
   {
    "duration": 4,
    "start_time": "2022-12-01T14:26:47.984Z"
   },
   {
    "duration": 11,
    "start_time": "2022-12-01T14:26:47.989Z"
   },
   {
    "duration": 4,
    "start_time": "2022-12-01T14:26:48.002Z"
   },
   {
    "duration": 8,
    "start_time": "2022-12-01T14:26:48.008Z"
   },
   {
    "duration": 6,
    "start_time": "2022-12-01T14:26:48.018Z"
   },
   {
    "duration": 7,
    "start_time": "2022-12-01T14:26:52.274Z"
   },
   {
    "duration": 13,
    "start_time": "2022-12-01T14:27:39.050Z"
   },
   {
    "duration": 9,
    "start_time": "2022-12-01T14:29:21.437Z"
   },
   {
    "duration": 1266,
    "start_time": "2022-12-01T14:43:15.000Z"
   },
   {
    "duration": 1190,
    "start_time": "2022-12-01T14:43:26.587Z"
   },
   {
    "duration": 1191,
    "start_time": "2022-12-01T14:44:32.769Z"
   },
   {
    "duration": 1407,
    "start_time": "2022-12-01T14:50:58.458Z"
   },
   {
    "duration": 11,
    "start_time": "2022-12-01T14:52:36.064Z"
   },
   {
    "duration": 3,
    "start_time": "2022-12-01T14:53:54.312Z"
   },
   {
    "duration": 11,
    "start_time": "2022-12-01T14:54:30.780Z"
   },
   {
    "duration": 13,
    "start_time": "2022-12-01T14:54:39.172Z"
   },
   {
    "duration": 13,
    "start_time": "2022-12-01T14:55:06.242Z"
   },
   {
    "duration": 3,
    "start_time": "2022-12-01T14:55:09.488Z"
   },
   {
    "duration": 10,
    "start_time": "2022-12-01T14:55:11.605Z"
   },
   {
    "duration": 11,
    "start_time": "2022-12-01T14:55:19.991Z"
   },
   {
    "duration": 10,
    "start_time": "2022-12-01T14:55:32.426Z"
   },
   {
    "duration": 91,
    "start_time": "2022-12-01T14:58:19.097Z"
   },
   {
    "duration": 80,
    "start_time": "2022-12-01T14:58:20.651Z"
   },
   {
    "duration": 3,
    "start_time": "2022-12-01T14:58:29.267Z"
   },
   {
    "duration": 712,
    "start_time": "2022-12-02T10:41:16.028Z"
   },
   {
    "duration": 88,
    "start_time": "2022-12-02T10:42:10.876Z"
   },
   {
    "duration": 63,
    "start_time": "2022-12-02T12:42:13.960Z"
   },
   {
    "duration": 492,
    "start_time": "2022-12-02T12:43:08.806Z"
   },
   {
    "duration": 23,
    "start_time": "2022-12-02T12:43:09.300Z"
   },
   {
    "duration": 15,
    "start_time": "2022-12-02T12:43:09.325Z"
   },
   {
    "duration": 9,
    "start_time": "2022-12-02T12:43:09.342Z"
   },
   {
    "duration": 64,
    "start_time": "2022-12-02T12:43:09.352Z"
   },
   {
    "duration": 4,
    "start_time": "2022-12-02T12:43:09.418Z"
   },
   {
    "duration": 13,
    "start_time": "2022-12-02T12:43:09.423Z"
   },
   {
    "duration": 6,
    "start_time": "2022-12-02T12:43:09.438Z"
   },
   {
    "duration": 12,
    "start_time": "2022-12-02T12:43:09.445Z"
   },
   {
    "duration": 5,
    "start_time": "2022-12-02T12:43:09.460Z"
   },
   {
    "duration": 57,
    "start_time": "2022-12-02T12:43:09.466Z"
   },
   {
    "duration": 10,
    "start_time": "2022-12-02T12:43:09.525Z"
   },
   {
    "duration": 4,
    "start_time": "2022-12-02T12:43:09.537Z"
   },
   {
    "duration": 12,
    "start_time": "2022-12-02T12:43:09.543Z"
   },
   {
    "duration": 53,
    "start_time": "2022-12-02T12:43:09.557Z"
   },
   {
    "duration": 28,
    "start_time": "2022-12-02T12:43:09.613Z"
   },
   {
    "duration": 8,
    "start_time": "2022-12-02T12:43:09.644Z"
   },
   {
    "duration": 17,
    "start_time": "2022-12-02T12:43:09.654Z"
   },
   {
    "duration": 26,
    "start_time": "2022-12-02T12:43:09.672Z"
   },
   {
    "duration": 3,
    "start_time": "2022-12-02T12:43:09.700Z"
   },
   {
    "duration": 23,
    "start_time": "2022-12-02T12:43:09.705Z"
   },
   {
    "duration": 4,
    "start_time": "2022-12-02T12:43:09.730Z"
   },
   {
    "duration": 10,
    "start_time": "2022-12-02T12:43:09.736Z"
   },
   {
    "duration": 9,
    "start_time": "2022-12-02T12:43:09.748Z"
   },
   {
    "duration": 6,
    "start_time": "2022-12-02T12:43:09.759Z"
   },
   {
    "duration": 37,
    "start_time": "2022-12-02T12:43:09.766Z"
   },
   {
    "duration": 4,
    "start_time": "2022-12-02T12:43:09.805Z"
   },
   {
    "duration": 11,
    "start_time": "2022-12-02T12:43:09.813Z"
   },
   {
    "duration": 9,
    "start_time": "2022-12-02T12:43:09.825Z"
   },
   {
    "duration": 6,
    "start_time": "2022-12-02T12:43:09.836Z"
   },
   {
    "duration": 15,
    "start_time": "2022-12-02T12:43:09.843Z"
   },
   {
    "duration": 91,
    "start_time": "2022-12-02T12:43:09.860Z"
   },
   {
    "duration": 0,
    "start_time": "2022-12-02T12:43:09.954Z"
   },
   {
    "duration": 0,
    "start_time": "2022-12-02T12:43:09.955Z"
   },
   {
    "duration": 0,
    "start_time": "2022-12-02T12:43:09.957Z"
   },
   {
    "duration": 0,
    "start_time": "2022-12-02T12:43:09.959Z"
   },
   {
    "duration": 0,
    "start_time": "2022-12-02T12:43:09.960Z"
   },
   {
    "duration": 0,
    "start_time": "2022-12-02T12:43:09.962Z"
   },
   {
    "duration": 0,
    "start_time": "2022-12-02T12:43:09.964Z"
   },
   {
    "duration": 0,
    "start_time": "2022-12-02T12:43:09.965Z"
   },
   {
    "duration": 0,
    "start_time": "2022-12-02T12:43:09.968Z"
   },
   {
    "duration": 0,
    "start_time": "2022-12-02T12:43:09.970Z"
   },
   {
    "duration": 8,
    "start_time": "2022-12-02T12:43:10.041Z"
   },
   {
    "duration": 87,
    "start_time": "2022-12-02T12:43:10.240Z"
   },
   {
    "duration": 73,
    "start_time": "2022-12-02T12:43:10.329Z"
   },
   {
    "duration": 66,
    "start_time": "2022-12-02T12:43:10.485Z"
   },
   {
    "duration": 59,
    "start_time": "2022-12-02T12:43:10.692Z"
   },
   {
    "duration": 6,
    "start_time": "2022-12-02T12:43:10.875Z"
   },
   {
    "duration": 5,
    "start_time": "2022-12-02T12:43:11.047Z"
   },
   {
    "duration": 28,
    "start_time": "2022-12-02T12:44:38.068Z"
   },
   {
    "duration": 30,
    "start_time": "2022-12-02T12:44:45.870Z"
   },
   {
    "duration": 23,
    "start_time": "2022-12-02T12:47:10.903Z"
   },
   {
    "duration": 30,
    "start_time": "2022-12-02T12:51:00.100Z"
   },
   {
    "duration": 16,
    "start_time": "2022-12-02T12:51:58.472Z"
   },
   {
    "duration": 15,
    "start_time": "2022-12-02T12:52:30.246Z"
   },
   {
    "duration": 16,
    "start_time": "2022-12-02T12:52:43.279Z"
   },
   {
    "duration": 26,
    "start_time": "2022-12-02T12:55:17.500Z"
   },
   {
    "duration": 10,
    "start_time": "2022-12-02T13:14:15.205Z"
   },
   {
    "duration": 488,
    "start_time": "2022-12-02T13:15:47.355Z"
   },
   {
    "duration": 26,
    "start_time": "2022-12-02T13:15:47.846Z"
   },
   {
    "duration": 39,
    "start_time": "2022-12-02T13:15:47.875Z"
   },
   {
    "duration": 20,
    "start_time": "2022-12-02T13:15:47.917Z"
   },
   {
    "duration": 67,
    "start_time": "2022-12-02T13:15:47.940Z"
   },
   {
    "duration": 4,
    "start_time": "2022-12-02T13:15:48.009Z"
   },
   {
    "duration": 28,
    "start_time": "2022-12-02T13:15:48.015Z"
   },
   {
    "duration": 6,
    "start_time": "2022-12-02T13:15:48.045Z"
   },
   {
    "duration": 10,
    "start_time": "2022-12-02T13:15:48.053Z"
   },
   {
    "duration": 29,
    "start_time": "2022-12-02T13:15:48.068Z"
   },
   {
    "duration": 53,
    "start_time": "2022-12-02T13:15:48.100Z"
   },
   {
    "duration": 18,
    "start_time": "2022-12-02T13:15:48.155Z"
   },
   {
    "duration": 24,
    "start_time": "2022-12-02T13:15:48.175Z"
   },
   {
    "duration": 16,
    "start_time": "2022-12-02T13:15:48.201Z"
   },
   {
    "duration": 34,
    "start_time": "2022-12-02T13:15:48.219Z"
   },
   {
    "duration": 43,
    "start_time": "2022-12-02T13:15:48.255Z"
   },
   {
    "duration": 5,
    "start_time": "2022-12-02T13:15:48.300Z"
   },
   {
    "duration": 19,
    "start_time": "2022-12-02T13:15:48.308Z"
   },
   {
    "duration": 11,
    "start_time": "2022-12-02T13:15:48.329Z"
   },
   {
    "duration": 6,
    "start_time": "2022-12-02T13:15:48.342Z"
   },
   {
    "duration": 58,
    "start_time": "2022-12-02T13:15:48.350Z"
   },
   {
    "duration": 4,
    "start_time": "2022-12-02T13:15:48.410Z"
   },
   {
    "duration": 9,
    "start_time": "2022-12-02T13:15:48.416Z"
   },
   {
    "duration": 7,
    "start_time": "2022-12-02T13:15:48.427Z"
   },
   {
    "duration": 5,
    "start_time": "2022-12-02T13:15:48.436Z"
   },
   {
    "duration": 15,
    "start_time": "2022-12-02T13:15:48.443Z"
   },
   {
    "duration": 37,
    "start_time": "2022-12-02T13:15:48.460Z"
   },
   {
    "duration": 10,
    "start_time": "2022-12-02T13:15:48.501Z"
   },
   {
    "duration": 8,
    "start_time": "2022-12-02T13:15:48.513Z"
   },
   {
    "duration": 4,
    "start_time": "2022-12-02T13:15:48.523Z"
   },
   {
    "duration": 14,
    "start_time": "2022-12-02T13:15:48.529Z"
   },
   {
    "duration": 17,
    "start_time": "2022-12-02T13:15:48.546Z"
   },
   {
    "duration": 42,
    "start_time": "2022-12-02T13:15:48.565Z"
   },
   {
    "duration": 5,
    "start_time": "2022-12-02T13:15:48.610Z"
   },
   {
    "duration": 14,
    "start_time": "2022-12-02T13:15:48.616Z"
   },
   {
    "duration": 8,
    "start_time": "2022-12-02T13:15:48.633Z"
   },
   {
    "duration": 13,
    "start_time": "2022-12-02T13:15:48.643Z"
   },
   {
    "duration": 11,
    "start_time": "2022-12-02T13:15:48.658Z"
   },
   {
    "duration": 33,
    "start_time": "2022-12-02T13:15:48.670Z"
   },
   {
    "duration": 9,
    "start_time": "2022-12-02T13:15:48.705Z"
   },
   {
    "duration": 8,
    "start_time": "2022-12-02T13:15:48.716Z"
   },
   {
    "duration": 15,
    "start_time": "2022-12-02T13:15:48.726Z"
   },
   {
    "duration": 151,
    "start_time": "2022-12-02T13:15:48.743Z"
   },
   {
    "duration": 117,
    "start_time": "2022-12-02T13:15:48.897Z"
   },
   {
    "duration": 88,
    "start_time": "2022-12-02T13:15:49.016Z"
   },
   {
    "duration": 65,
    "start_time": "2022-12-02T13:15:49.107Z"
   },
   {
    "duration": 22,
    "start_time": "2022-12-02T13:15:49.174Z"
   },
   {
    "duration": 16,
    "start_time": "2022-12-02T13:15:49.199Z"
   },
   {
    "duration": 52,
    "start_time": "2022-12-02T13:19:02.484Z"
   },
   {
    "duration": 470,
    "start_time": "2022-12-02T13:33:55.122Z"
   },
   {
    "duration": 22,
    "start_time": "2022-12-02T13:33:55.594Z"
   },
   {
    "duration": 18,
    "start_time": "2022-12-02T13:33:55.618Z"
   },
   {
    "duration": 19,
    "start_time": "2022-12-02T13:33:55.639Z"
   },
   {
    "duration": 56,
    "start_time": "2022-12-02T13:33:55.660Z"
   },
   {
    "duration": 3,
    "start_time": "2022-12-02T13:33:55.718Z"
   },
   {
    "duration": 15,
    "start_time": "2022-12-02T13:33:55.723Z"
   },
   {
    "duration": 6,
    "start_time": "2022-12-02T13:33:55.740Z"
   },
   {
    "duration": 13,
    "start_time": "2022-12-02T13:33:55.747Z"
   },
   {
    "duration": 14,
    "start_time": "2022-12-02T13:33:55.762Z"
   },
   {
    "duration": 49,
    "start_time": "2022-12-02T13:33:55.778Z"
   },
   {
    "duration": 18,
    "start_time": "2022-12-02T13:33:55.829Z"
   },
   {
    "duration": 19,
    "start_time": "2022-12-02T13:33:55.850Z"
   },
   {
    "duration": 33,
    "start_time": "2022-12-02T13:33:55.871Z"
   },
   {
    "duration": 34,
    "start_time": "2022-12-02T13:33:55.905Z"
   },
   {
    "duration": 21,
    "start_time": "2022-12-02T13:33:55.941Z"
   },
   {
    "duration": 4,
    "start_time": "2022-12-02T13:33:55.964Z"
   },
   {
    "duration": 26,
    "start_time": "2022-12-02T13:33:55.970Z"
   },
   {
    "duration": 8,
    "start_time": "2022-12-02T13:33:55.999Z"
   },
   {
    "duration": 5,
    "start_time": "2022-12-02T13:33:56.009Z"
   },
   {
    "duration": 35,
    "start_time": "2022-12-02T13:33:56.015Z"
   },
   {
    "duration": 19,
    "start_time": "2022-12-02T13:33:56.052Z"
   },
   {
    "duration": 29,
    "start_time": "2022-12-02T13:33:56.073Z"
   },
   {
    "duration": 11,
    "start_time": "2022-12-02T13:33:56.106Z"
   },
   {
    "duration": 16,
    "start_time": "2022-12-02T13:33:56.119Z"
   },
   {
    "duration": 22,
    "start_time": "2022-12-02T13:33:56.137Z"
   },
   {
    "duration": 11,
    "start_time": "2022-12-02T13:33:56.162Z"
   },
   {
    "duration": 25,
    "start_time": "2022-12-02T13:33:56.178Z"
   },
   {
    "duration": 14,
    "start_time": "2022-12-02T13:33:56.206Z"
   },
   {
    "duration": 12,
    "start_time": "2022-12-02T13:33:56.222Z"
   },
   {
    "duration": 26,
    "start_time": "2022-12-02T13:33:56.237Z"
   },
   {
    "duration": 41,
    "start_time": "2022-12-02T13:33:56.265Z"
   },
   {
    "duration": 11,
    "start_time": "2022-12-02T13:33:56.308Z"
   },
   {
    "duration": 5,
    "start_time": "2022-12-02T13:33:56.321Z"
   },
   {
    "duration": 12,
    "start_time": "2022-12-02T13:33:56.328Z"
   },
   {
    "duration": 10,
    "start_time": "2022-12-02T13:33:56.342Z"
   },
   {
    "duration": 17,
    "start_time": "2022-12-02T13:33:56.354Z"
   },
   {
    "duration": 33,
    "start_time": "2022-12-02T13:33:56.373Z"
   },
   {
    "duration": 14,
    "start_time": "2022-12-02T13:33:56.409Z"
   },
   {
    "duration": 3,
    "start_time": "2022-12-02T13:33:56.425Z"
   },
   {
    "duration": 17,
    "start_time": "2022-12-02T13:33:56.430Z"
   },
   {
    "duration": 87,
    "start_time": "2022-12-02T13:33:56.449Z"
   },
   {
    "duration": 89,
    "start_time": "2022-12-02T13:33:56.538Z"
   },
   {
    "duration": 58,
    "start_time": "2022-12-02T13:33:56.629Z"
   },
   {
    "duration": 65,
    "start_time": "2022-12-02T13:33:56.689Z"
   },
   {
    "duration": 6,
    "start_time": "2022-12-02T13:33:56.756Z"
   },
   {
    "duration": 33,
    "start_time": "2022-12-02T13:33:56.764Z"
   },
   {
    "duration": 477,
    "start_time": "2022-12-02T13:46:13.118Z"
   },
   {
    "duration": 22,
    "start_time": "2022-12-02T13:46:13.597Z"
   },
   {
    "duration": 14,
    "start_time": "2022-12-02T13:46:13.620Z"
   },
   {
    "duration": 9,
    "start_time": "2022-12-02T13:46:13.636Z"
   },
   {
    "duration": 55,
    "start_time": "2022-12-02T13:46:13.646Z"
   },
   {
    "duration": 4,
    "start_time": "2022-12-02T13:46:13.703Z"
   },
   {
    "duration": 11,
    "start_time": "2022-12-02T13:46:13.708Z"
   },
   {
    "duration": 6,
    "start_time": "2022-12-02T13:46:13.721Z"
   },
   {
    "duration": 14,
    "start_time": "2022-12-02T13:46:13.728Z"
   },
   {
    "duration": 4,
    "start_time": "2022-12-02T13:46:13.745Z"
   },
   {
    "duration": 59,
    "start_time": "2022-12-02T13:46:13.750Z"
   },
   {
    "duration": 10,
    "start_time": "2022-12-02T13:46:13.811Z"
   },
   {
    "duration": 4,
    "start_time": "2022-12-02T13:46:13.822Z"
   },
   {
    "duration": 11,
    "start_time": "2022-12-02T13:46:13.828Z"
   },
   {
    "duration": 23,
    "start_time": "2022-12-02T13:46:13.841Z"
   },
   {
    "duration": 43,
    "start_time": "2022-12-02T13:46:13.866Z"
   },
   {
    "duration": 4,
    "start_time": "2022-12-02T13:46:13.911Z"
   },
   {
    "duration": 16,
    "start_time": "2022-12-02T13:46:13.917Z"
   },
   {
    "duration": 5,
    "start_time": "2022-12-02T13:46:13.935Z"
   },
   {
    "duration": 6,
    "start_time": "2022-12-02T13:46:13.942Z"
   },
   {
    "duration": 25,
    "start_time": "2022-12-02T13:46:13.950Z"
   },
   {
    "duration": 20,
    "start_time": "2022-12-02T13:46:13.977Z"
   },
   {
    "duration": 8,
    "start_time": "2022-12-02T13:46:13.998Z"
   },
   {
    "duration": 6,
    "start_time": "2022-12-02T13:46:14.007Z"
   },
   {
    "duration": 6,
    "start_time": "2022-12-02T13:46:14.014Z"
   },
   {
    "duration": 13,
    "start_time": "2022-12-02T13:46:14.022Z"
   },
   {
    "duration": 4,
    "start_time": "2022-12-02T13:46:14.036Z"
   },
   {
    "duration": 9,
    "start_time": "2022-12-02T13:46:14.043Z"
   },
   {
    "duration": 6,
    "start_time": "2022-12-02T13:46:14.054Z"
   },
   {
    "duration": 4,
    "start_time": "2022-12-02T13:46:14.062Z"
   },
   {
    "duration": 38,
    "start_time": "2022-12-02T13:46:14.067Z"
   },
   {
    "duration": 28,
    "start_time": "2022-12-02T13:46:14.108Z"
   },
   {
    "duration": 9,
    "start_time": "2022-12-02T13:46:14.138Z"
   },
   {
    "duration": 6,
    "start_time": "2022-12-02T13:46:14.149Z"
   },
   {
    "duration": 42,
    "start_time": "2022-12-02T13:46:14.157Z"
   },
   {
    "duration": 6,
    "start_time": "2022-12-02T13:46:14.201Z"
   },
   {
    "duration": 11,
    "start_time": "2022-12-02T13:46:14.209Z"
   },
   {
    "duration": 16,
    "start_time": "2022-12-02T13:46:14.221Z"
   },
   {
    "duration": 11,
    "start_time": "2022-12-02T13:46:14.238Z"
   },
   {
    "duration": 4,
    "start_time": "2022-12-02T13:46:14.250Z"
   },
   {
    "duration": 45,
    "start_time": "2022-12-02T13:46:14.256Z"
   },
   {
    "duration": 63,
    "start_time": "2022-12-02T13:46:14.303Z"
   },
   {
    "duration": 90,
    "start_time": "2022-12-02T13:46:14.368Z"
   },
   {
    "duration": 67,
    "start_time": "2022-12-02T13:46:14.460Z"
   },
   {
    "duration": 98,
    "start_time": "2022-12-02T13:46:14.529Z"
   },
   {
    "duration": 4,
    "start_time": "2022-12-02T13:46:14.629Z"
   },
   {
    "duration": 7,
    "start_time": "2022-12-02T13:46:14.635Z"
   }
  ],
  "colab": {
   "name": "dpp_template_part2.ipynb",
   "provenance": []
  },
  "kernelspec": {
   "display_name": "Python 3 (ipykernel)",
   "language": "python",
   "name": "python3"
  },
  "language_info": {
   "codemirror_mode": {
    "name": "ipython",
    "version": 3
   },
   "file_extension": ".py",
   "mimetype": "text/x-python",
   "name": "python",
   "nbconvert_exporter": "python",
   "pygments_lexer": "ipython3",
   "version": "3.9.13"
  },
  "toc": {
   "base_numbering": 1,
   "nav_menu": {},
   "number_sections": true,
   "sideBar": true,
   "skip_h1_title": true,
   "title_cell": "Table of Contents",
   "title_sidebar": "Contents",
   "toc_cell": false,
   "toc_position": {},
   "toc_section_display": true,
   "toc_window_display": false
  }
 },
 "nbformat": 4,
 "nbformat_minor": 5
}
