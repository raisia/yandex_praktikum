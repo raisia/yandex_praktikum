{
 "cells": [
  {
   "cell_type": "markdown",
   "id": "7fe8e01c",
   "metadata": {},
   "source": [
    "# Исследование информации о венчурных фондах и инвестициях в компании-стартапы"
   ]
  },
  {
   "cell_type": "markdown",
   "id": "c031e26e",
   "metadata": {},
   "source": [
    "*Венчурные фонды* — это финансовые организации, которые могут позволить себе высокий риск и инвестировать в компании с инновационной бизнес-идеей или разработанной новой технологией, то есть в стартапы.\\\n",
    "Цель венчурных фондов — в будущем получить значительную прибыль, которая в разы превысит размер их трат на инвестиции в компанию. Если стартап подорожает, венчурный фонд может получить долю в компании или фиксированный процент от её выручки.\\\n",
    "Чтобы процесс финансирования стал менее рискованным, его делят на стадии — раунды. Тот или иной раунд зависит от того, какого уровня развития достигла компания.\\\n",
    "\n",
    "Первые этапы — предпосевной и посевной раунды.\\\n",
    "Предпосевной раунд предполагает, что компания как таковая ещё не создана и находится в стадии замысла.\\ \n",
    "Следующий — посевной — раунд знаменует рост проекта: создатели компании разрабатывают бизнес-модель и привлекают инвесторов. \n",
    "\n",
    "Если компании требуется ментор или наставник — она привлекает бизнес-ангела.\\\n",
    "Бизнес-ангелы — инвесторы, которые помимо финансовой поддержки предлагают экспертную помощь. Такой раунд называют ангельским.\\\n",
    "Когда стартап становится компанией с проверенной бизнес-моделью и начинает зарабатывать самостоятельно, предложений инвесторов становится больше.\\\n",
    "Это раунд A, а за ним следуют и другие: B, C, D — на этих этапах компания активно развивается и готовится к IPO.\\\n",
    "Иногда выделяют венчурный раунд — финансирование, которое могло поступить от венчурного фонда на любом этапе: начальном или более позднем. "
   ]
  },
  {
   "cell_type": "markdown",
   "id": "9f8ff0a3",
   "metadata": {},
   "source": [
    "![image](https://github.com/raisia/yandex_praktikum/blob/main/6_%D0%98%D1%81%D1%81%D0%BB%D0%B5%D0%B4%D0%BE%D0%B2%D0%B0%D0%BD%D0%B8%D0%B5%20%D0%B8%D0%BD%D0%B2%D0%B5%D1%81%D1%82%D0%B8%D1%86%D0%B8%D0%B9%20%D0%B2%20%D1%81%D1%82%D0%B0%D1%80%D1%82%D0%B0%D0%BF%D1%8B/ER_invest.png?raw=true)"
   ]
  },
  {
   "cell_type": "markdown",
   "id": "97b9bcc2",
   "metadata": {},
   "source": [
    "**Знакомство с данными:**"
   ]
  },
  {
   "cell_type": "markdown",
   "id": "c67a0c8c",
   "metadata": {},
   "source": [
    "`acquisition`\n",
    "\n",
    "Содержит информацию о покупках одних компаний другими.\\\n",
    "Таблица включает такие поля:\\\n",
    "*первичный ключ id* — идентификатор или уникальный номер покупки;\\\n",
    "внешний ключ *acquiring_company_id* — ссылается на таблицу company — идентификатор компании-покупателя, то есть той, что покупает другую компанию;\\\n",
    "внешний ключ *acquired_company_id* — ссылается на таблицу company — идентификатор компании, которую покупают;\\\n",
    "*term_code* — способ оплаты сделки:\\\n",
    "*cash* — наличными;\\\n",
    "*stock* — акциями компании;\\\n",
    "*cash_and_stock* — смешанный тип оплаты: наличные и акции.\\\n",
    "*price_amount* — сумма покупки в долларах;\\\n",
    "*acquired_at* — дата совершения сделки;\\\n",
    "*created_at* — дата и время создания записи в таблице;\\\n",
    "*updated_at* — дата и время обновления записи в таблице.\\\n",
    "\n",
    "`company`\n",
    "\n",
    "Содержит информацию о компаниях-стартапах.\\\n",
    "первичный ключ *id* — идентификатор, или уникальный номер компании;\\\n",
    "*name* — название компании;\\\n",
    "*category_code* — категория деятельности компании, например:\\\n",
    "news — специализируется на работе с новостями;\\\n",
    "social — специализируется на социальной работе.\\\n",
    "status — статус компании:\\\n",
    "acquired — приобретена;\\\n",
    "operating — действует;\\\n",
    "ipo — вышла на IPO;\\\n",
    "closed — перестала существовать.\\\n",
    "*founded_at* — дата основания компании;\\\n",
    "*closed_at* — дата закрытия компании, которую указывают в том случае, если компании больше не существует;\\\n",
    "*domain* — домен сайта компании;\\\n",
    "*twitter_username* — название профиля компании в твиттере;\\\n",
    "*country_code* — код страны, например, USA для США, GBR для Великобритании;\\\n",
    "*investment_rounds* — число раундов, в которых компания участвовала как инвестор;\\\n",
    "*funding_rounds* — число раундов, в которых компания привлекала инвестиции;\\\n",
    "*funding_total* — сумма привлечённых инвестиций в долларах;\\\n",
    "*milestones* — количество важных этапов в истории компании;\\\n",
    "*created_at* — дата и время создания записи в таблице;\\\n",
    "*updated_at* — дата и время обновления записи в таблице.*\n",
    "\n",
    "`education`\n",
    "\n",
    "Хранит информацию об уровне образования сотрудников компаний.\n",
    "первичный ключ *id* — уникальный номер записи с информацией об образовании;\\\n",
    "внешний ключ *person_id* — ссылается на таблицу people — идентификатор человека, информация о котором представлена в записи;\\\n",
    "*degree_type* — учебная степень, например:\\\n",
    "BA — Bachelor of Arts — бакалавр гуманитарных наук;\\\n",
    "MS — Master of Science — магистр естественных наук.\\\n",
    "*instituition* — учебное заведение, название университета;\\\n",
    "*graduated_at* — дата завершения обучения, выпуска;\\\n",
    "*created_at* — дата и время создания записи в таблице;\\\n",
    "*updated_at* — дата и время обновления записи в таблице.\\\n",
    "\n",
    "`fund`\n",
    "\n",
    "Хранит информацию о венчурных фондах. \n",
    "первичный ключ *id* — уникальный номер венчурного фонда;\\\n",
    "*name* — название венчурного фонда;\\\n",
    "*founded_at* — дата основания фонда;\\\n",
    "*domain* — домен сайта фонда;\\\n",
    "*twitter_username* — профиль фонда в твиттере;\\\n",
    "*country_code* — код страны фонда;\\\n",
    "*investment_rounds* — число инвестиционных раундов, в которых фонд принимал участие;\\\n",
    "*invested_companies* — число компаний, в которые инвестировал фонд;\\\n",
    "*milestones\\ — количество важных этапов в истории фонда;*\n",
    "*created_at* — дата и время создания записи в таблице;\\\n",
    "*updated_at* — дата и время обновления записи в таблице.\\\n",
    "\n",
    "`funding_round`\n",
    "\n",
    "Содержит информацию о раундах инвестиций.\\\n",
    "первичный ключ *id*— уникальный номер инвестиционного раунда;\\\n",
    "внешний ключ *company_id* — ссылается на таблицу company — уникальный номер компании, участвовавшей в инвестиционном раунде;\\\n",
    "*funded_at* — дата проведения раунда;\\\n",
    "*funding_round_type* — тип инвестиционного раунда, например:\\\n",
    "venture — венчурный раунд;\\\n",
    "angel — ангельский раунд;\\\n",
    "series_a — раунд А.\\\n",
    "*raised_amount* — сумма инвестиций, которую привлекла компания в этом раунде в долларах;\\\n",
    "*pre_money_valuation* — предварительная, проведённая до инвестиций оценка стоимости компании в долларах;\\\n",
    "*participants* — количество участников инвестиционного раунда;\\\n",
    "*is_first_round* — является ли этот раунд первым для компании;\\\n",
    "*is_last_round* — является ли этот раунд последним для компании;\\\n",
    "*created_at* — дата и время создания записи в таблице;\\\n",
    "*updated_at* — дата и время обновления записи в таблице.\\\n",
    "\n",
    "`investment`\n",
    "\n",
    "Содержит информацию об инвестициях венчурных фондов в компании-стартапы.\n",
    "первичный ключ *id* — уникальный номер инвестиции;\\\n",
    "внешний ключ *funding_round_id* — ссылается на таблицу funding_round — уникальный номер раунда инвестиции;\\\n",
    "внешний ключ *company_id* — ссылается на таблицу company — уникальный номер компании-стартапа, в которую инвестируют;\\\n",
    "внешний ключ *fund_id* — ссылается на таблицу fund — уникальный номер фонда, инвестирующего в компанию-стартап;\\\n",
    "*created_at* — дата и время создания записи в таблице;\\\n",
    "*updated_at* — дата и время обновления записи в таблице.\\\n",
    "\n",
    "`people`\n",
    "\n",
    "Содержит информацию о сотрудниках компаний-стартапов.\\\n",
    "первичный ключ *id* — уникальный номер сотрудника;\\\n",
    "*first_name* — имя сотрудника;\\\n",
    "*last_name* — фамилия сотрудника;\\\n",
    "внешний ключ *company_id* — ссылается на таблицу company — уникальный номер компании-стартапа;\\\n",
    "*twitter_username* — профиль сотрудника в твиттере;\\\n",
    "*created_at* — дата и время создания записи в таблице;\\\n",
    "*updated_at* — дата и время обновления записи в таблице."
   ]
  },
  {
   "cell_type": "code",
   "execution_count": null,
   "id": "7860d608",
   "metadata": {},
   "outputs": [],
   "source": [
    "# Посчитайте, сколько компаний закрылось.\n",
    "SELECT COUNT(id)\n",
    "FROM company\n",
    "WHERE status = 'closed'"
   ]
  },
  {
   "cell_type": "markdown",
   "id": "0053ee99",
   "metadata": {},
   "source": [
    "Отобразите количество привлечённых средств для новостных компаний США. Используйте данные из таблицы `company`. Отсортируйте таблицу по убыванию значений в поле `funding_total`."
   ]
  },
  {
   "cell_type": "code",
   "execution_count": null,
   "id": "e9a1d7ef",
   "metadata": {},
   "outputs": [],
   "source": [
    "SELECT funding_total\n",
    "FROM company\n",
    "WHERE category_code LIKE 'news'\n",
    "      AND country_code LIKE 'USA'\n",
    "ORDER BY funding_total DESC;"
   ]
  },
  {
   "cell_type": "markdown",
   "id": "d3c5b842",
   "metadata": {},
   "source": [
    "Найдите общую сумму сделок по покупке одних компаний другими в долларах. Отберите сделки, которые осуществлялись только за наличные с 2011 по 2013 год включительно."
   ]
  },
  {
   "cell_type": "code",
   "execution_count": null,
   "id": "5a64c845",
   "metadata": {},
   "outputs": [],
   "source": [
    "SELECT SUM(price_amount)\n",
    "FROM acquisition\n",
    "WHERE term_code LIKE 'cash' \n",
    "                    AND EXTRACT(YEAR FROM acquired_at) BETWEEN 2011\n",
    "                    AND 2013;"
   ]
  },
  {
   "cell_type": "markdown",
   "id": "f6b5c653",
   "metadata": {},
   "source": [
    "Отобразите имя, фамилию и названия аккаунтов людей в твиттере, у которых названия аккаунтов начинаются на `Silver`."
   ]
  },
  {
   "cell_type": "code",
   "execution_count": null,
   "id": "74504b18",
   "metadata": {},
   "outputs": [],
   "source": [
    "SELECT first_name,\n",
    "       last_name,\n",
    "       twitter_username\n",
    "FROM people\n",
    "WHERE twitter_username LIKE 'Silver%';"
   ]
  },
  {
   "cell_type": "markdown",
   "id": "e754df10",
   "metadata": {},
   "source": [
    "Выведите на экран всю информацию о людях, у которых названия аккаунтов в твиттере содержат подстроку `money`, а фамилия начинается на `K`."
   ]
  },
  {
   "cell_type": "code",
   "execution_count": null,
   "id": "8020bbbb",
   "metadata": {},
   "outputs": [],
   "source": [
    "SELECT *\n",
    "FROM people\n",
    "WHERE twitter_username LIKE '%money%'\n",
    "      AND last_name LIKE 'K%';"
   ]
  },
  {
   "cell_type": "markdown",
   "id": "bf548292",
   "metadata": {},
   "source": [
    "Для каждой страны отобразите общую сумму привлечённых инвестиций, которые получили компании, зарегистрированные в этой стране. Страну, в которой зарегистрирована компания, можно определить по коду страны. Отсортируйте данные по убыванию суммы."
   ]
  },
  {
   "cell_type": "code",
   "execution_count": null,
   "id": "d75cb31f",
   "metadata": {},
   "outputs": [],
   "source": [
    "SELECT country_code,\n",
    "      SUM(funding_total)\n",
    "FROM company\n",
    "GROUP BY country_code\n",
    "ORDER BY SUM(funding_total) DESC;"
   ]
  },
  {
   "cell_type": "markdown",
   "id": "6ff56799",
   "metadata": {},
   "source": [
    "Составьте таблицу, в которую войдёт дата проведения раунда, а также минимальное и максимальное значения суммы инвестиций, привлечённых в эту дату.\\\n",
    "Оставьте в итоговой таблице только те записи, в которых минимальное значение суммы инвестиций не равно нулю и не равно максимальному значению."
   ]
  },
  {
   "cell_type": "code",
   "execution_count": null,
   "id": "49900b91",
   "metadata": {},
   "outputs": [],
   "source": [
    "SELECT funded_at,\n",
    "       MIN(raised_amount),\n",
    "       MAX(raised_amount)\n",
    "FROM  funding_round\n",
    "GROUP BY funded_at\n",
    "HAVING MIN(raised_amount) <> 0\n",
    "      AND MIN(raised_amount) <> MAX(raised_amount);"
   ]
  },
  {
   "cell_type": "markdown",
   "id": "2752c4fd",
   "metadata": {},
   "source": [
    "Создайте поле с категориями:\n",
    "* Для фондов, которые инвестируют в 100 и более компаний, назначьте категорию `high_activity`.\n",
    "* Для фондов, которые инвестируют в 20 и более компаний до 100, назначьте категорию `middle_activity`.\n",
    "* Если количество инвестируемых компаний фонда не достигает 20, назначьте категорию `low_activity`.\n",
    "\n",
    "Отобразите все поля таблицы fund и новое поле с категориями."
   ]
  },
  {
   "cell_type": "code",
   "execution_count": null,
   "id": "675ddfda",
   "metadata": {},
   "outputs": [],
   "source": [
    "SELECT *,\n",
    "       CASE\n",
    "           WHEN invested_companies >= 100 THEN 'high_activity'\n",
    "           WHEN invested_companies BETWEEN 20 AND 99 THEN 'middle_activity'\n",
    "           WHEN invested_companies < 20 THEN 'low_activity'\n",
    "       END\n",
    "FROM fund;"
   ]
  },
  {
   "cell_type": "markdown",
   "id": "ccb57c55",
   "metadata": {},
   "source": [
    "Для каждой из категорий, назначенных в предыдущем задании, посчитайте округлённое до ближайшего целого числа среднее количество инвестиционных раундов, в которых фонд принимал участие.\\\n",
    "Выведите на экран категории и среднее число инвестиционных раундов. Отсортируйте таблицу по возрастанию среднего."
   ]
  },
  {
   "cell_type": "code",
   "execution_count": null,
   "id": "eb225c14",
   "metadata": {},
   "outputs": [],
   "source": [
    "WITH\n",
    "#категории подзапрос 1\n",
    "category AS (SELECT *,\n",
    "             CASE\n",
    "                 WHEN invested_companies>=100 THEN 'high_activity'\n",
    "                 WHEN invested_companies>=20 THEN 'middle_activity'\n",
    "                 ELSE 'low_activity'\n",
    "             END AS activity\n",
    "      FROM fund)\n",
    "\n",
    "#основной запрос\n",
    "SELECT activity,\n",
    "       ROUND(AVG(investment_rounds))\n",
    "FROM category\n",
    "GROUP BY activity\n",
    "ORDER BY ROUND(AVG(investment_rounds));"
   ]
  },
  {
   "cell_type": "markdown",
   "id": "7f961fca",
   "metadata": {},
   "source": [
    "Проанализируйте, в каких странах находятся фонды, которые чаще всего инвестируют в стартапы.\\\n",
    "Для каждой страны посчитайте минимальное, максимальное и среднее число компаний, в которые инвестировали фонды этой страны, основанные с 2010 по 2012 год включительно. Исключите страны с фондами, у которых минимальное число компаний, получивших инвестиции, равно нулю. Выгрузите десять самых активных стран-инвесторов.\\\n",
    "Отсортируйте таблицу по среднему количеству компаний от большего к меньшему, а затем по коду страны в лексикографическом порядке."
   ]
  },
  {
   "cell_type": "code",
   "execution_count": null,
   "id": "8c812dd2",
   "metadata": {},
   "outputs": [],
   "source": [
    "SELECT country_code,\n",
    "       MIN(invested_companies),\n",
    "       MAX(invested_companies),\n",
    "       AVG(invested_companies)\n",
    "FROM fund\n",
    "WHERE EXTRACT(YEAR FROM founded_at) BETWEEN 2010 AND 2012\n",
    "GROUP BY country_code\n",
    "HAVING MIN(invested_companies) <> 0\n",
    "ORDER BY AVG(invested_companies) DESC,\n",
    "         country_code\n",
    "LIMIT 10;"
   ]
  },
  {
   "cell_type": "markdown",
   "id": "9e8654ec",
   "metadata": {},
   "source": [
    "Отобразите имя и фамилию всех сотрудников стартапов. Добавьте поле с названием учебного заведения, которое окончил сотрудник, если эта информация известна."
   ]
  },
  {
   "cell_type": "code",
   "execution_count": null,
   "id": "d3f7e05e",
   "metadata": {},
   "outputs": [],
   "source": [
    "SELECT people.first_name,\n",
    "       people.last_name,\n",
    "       education.instituition\n",
    "FROM people \n",
    "LEFT OUTER JOIN education ON people.id = education.person_id;"
   ]
  },
  {
   "cell_type": "markdown",
   "id": "c1031540",
   "metadata": {},
   "source": [
    "Для каждой компании найдите количество учебных заведений, которые окончили её сотрудники. Выведите название компании и число уникальных названий учебных заведений. Составьте топ-5 компаний по количеству университетов."
   ]
  },
  {
   "cell_type": "code",
   "execution_count": null,
   "id": "83418e88",
   "metadata": {},
   "outputs": [],
   "source": [
    "SELECT comp.name,\n",
    "       COUNT(DISTINCT e.instituition)\n",
    "FROM company AS comp\n",
    "LEFT OUTER JOIN people AS peop ON comp.id=peop.company_id\n",
    "INNER JOIN education AS e ON peop.id=e.person_id\n",
    "GROUP BY comp.name\n",
    "ORDER BY COUNT(DISTINCT e.instituition) DESC\n",
    "LIMIT 5;"
   ]
  },
  {
   "cell_type": "markdown",
   "id": "b1a6ae78",
   "metadata": {},
   "source": [
    "Составьте список с уникальными названиями закрытых компаний, для которых первый раунд финансирования оказался последним."
   ]
  },
  {
   "cell_type": "code",
   "execution_count": null,
   "id": "54968f38",
   "metadata": {},
   "outputs": [],
   "source": [
    "SELECT DISTINCT name\n",
    "FROM company\n",
    "WHERE status LIKE 'closed'\n",
    "      AND id IN (SELECT company_id\n",
    "                FROM funding_round\n",
    "                WHERE is_first_round = 1\n",
    "                      AND is_last_round = 1);"
   ]
  },
  {
   "cell_type": "markdown",
   "id": "32451440",
   "metadata": {},
   "source": [
    "Составьте список уникальных номеров сотрудников, которые работают в компаниях, отобранных в предыдущем задании."
   ]
  },
  {
   "cell_type": "code",
   "execution_count": null,
   "id": "ee8c4e11",
   "metadata": {},
   "outputs": [],
   "source": [
    "WITH\n",
    "#подзапрос ликвид.компании с 1 раундом финансирования\n",
    "closed_comp AS (SELECT DISTINCT name,\n",
    "                id\n",
    "               FROM company\n",
    "               WHERE status LIKE 'closed'\n",
    "                     AND id IN (SELECT company_id\n",
    "                               FROM funding_round\n",
    "                               WHERE is_first_round = 1\n",
    "                                     AND is_last_round = 1))\n",
    "#основной запрос\n",
    "SELECT DISTINCT people.id\n",
    "FROM people\n",
    "INNER JOIN closed_comp ON people.company_id=closed_comp.id;"
   ]
  },
  {
   "cell_type": "markdown",
   "id": "6084f14f",
   "metadata": {},
   "source": [
    "Составьте таблицу, куда войдут уникальные пары с номерами сотрудников из предыдущей задачи и учебным заведением, которое окончил сотрудник."
   ]
  },
  {
   "cell_type": "code",
   "execution_count": null,
   "id": "cb8fa899",
   "metadata": {},
   "outputs": [],
   "source": [
    "WITH\n",
    "#подзапрос ликвид.компании с 1 раундом финансирования\n",
    "closed_comp AS (SELECT DISTINCT name,\n",
    "                id\n",
    "               FROM company\n",
    "               WHERE status LIKE 'closed'\n",
    "                     AND id IN (SELECT company_id\n",
    "                               FROM funding_round\n",
    "                               WHERE is_first_round = 1\n",
    "                                     AND is_last_round = 1)),\n",
    "#сотрудники, которые работали в закрывшихся компаниях с 1 раундом\n",
    "staff AS (SELECT DISTINCT people.id AS staff_id\n",
    "          FROM people\n",
    "          INNER JOIN closed_comp ON people.company_id=closed_comp.id)\n",
    "          \n",
    "#основной запрос\n",
    "SELECT DISTINCT staff.staff_id,\n",
    "       education.instituition\n",
    "FROM staff\n",
    "INNER JOIN education ON staff.staff_id=education.person_id\n",
    "WHERE education.instituition IS NOT NULL;"
   ]
  },
  {
   "cell_type": "markdown",
   "id": "7f9adece",
   "metadata": {},
   "source": [
    "Посчитайте количество учебных заведений для каждого сотрудника из предыдущего задания. При подсчёте учитывайте, что некоторые сотрудники могли окончить одно и то же заведение дважды."
   ]
  },
  {
   "cell_type": "code",
   "execution_count": null,
   "id": "7b52a9da",
   "metadata": {},
   "outputs": [],
   "source": [
    "WITH\n",
    "#подзапрос ликвид.компании с 1 раундом финансирования\n",
    "closed_comp AS (SELECT DISTINCT name,\n",
    "                id\n",
    "               FROM company\n",
    "               WHERE status LIKE 'closed'\n",
    "                     AND id IN (SELECT company_id\n",
    "                               FROM funding_round\n",
    "                               WHERE is_first_round = 1\n",
    "                                     AND is_last_round = 1)),\n",
    "#сотрудники, которые работали в закрывшихся компаниях с 1 раундом\n",
    "staff AS (SELECT DISTINCT people.id AS staff_id\n",
    "          FROM people\n",
    "          INNER JOIN closed_comp ON people.company_id=closed_comp.id)\n",
    "          \n",
    "#основной запрос\n",
    "SELECT DISTINCT staff.staff_id,\n",
    "       COUNT(education.instituition)\n",
    "FROM staff\n",
    "INNER JOIN education ON staff.staff_id=education.person_id\n",
    "WHERE education.instituition IS NOT NULL\n",
    "GROUP BY staff.staff_id;"
   ]
  },
  {
   "cell_type": "markdown",
   "id": "b616ffc0",
   "metadata": {},
   "source": [
    "Дополните предыдущий запрос и выведите среднее число учебных заведений (всех, не только уникальных), которые окончили сотрудники разных компаний. Нужно вывести только одну запись, группировка здесь не понадобится."
   ]
  },
  {
   "cell_type": "code",
   "execution_count": null,
   "id": "d4a1bf58",
   "metadata": {},
   "outputs": [],
   "source": [
    "WITH\n",
    "#подзапрос ликвид.компании с 1 раундом финансирования\n",
    "closed_comp AS (SELECT DISTINCT name,\n",
    "                id\n",
    "               FROM company\n",
    "               WHERE status LIKE 'closed'\n",
    "                     AND id IN (SELECT company_id\n",
    "                               FROM funding_round\n",
    "                               WHERE is_first_round = 1\n",
    "                                     AND is_last_round = 1)),\n",
    "#сотрудники, которые работали в закрывшихся компаниях с 1 раундом\n",
    "staff AS (SELECT DISTINCT people.id AS staff_id\n",
    "          FROM people\n",
    "          INNER JOIN closed_comp ON people.company_id=closed_comp.id),\n",
    "          \n",
    "#подзапрос НЕ уникальные пары ВУЗ и сотрудники\n",
    "res AS (SELECT staff.staff_id,\n",
    "        COUNT(education.instituition)\n",
    "        FROM staff\n",
    "        INNER JOIN education ON staff.staff_id=education.person_id\n",
    "        WHERE education.instituition IS NOT NULL\n",
    "        GROUP BY staff.staff_id)\n",
    "\n",
    "#основной запрос\n",
    "SELECT AVG(res.count)\n",
    "FROM res;"
   ]
  },
  {
   "cell_type": "markdown",
   "id": "76ed7696",
   "metadata": {},
   "source": [
    "Напишите похожий запрос: выведите среднее число учебных заведений (всех, не только уникальных), которые окончили сотрудники Facebook*.\n",
    "*(сервис, запрещённый на территории РФ)"
   ]
  },
  {
   "cell_type": "code",
   "execution_count": null,
   "id": "13b0eecd",
   "metadata": {},
   "outputs": [],
   "source": [
    "WITH\n",
    "#подзапрос ликвид.компании с 1 раундом финансирования\n",
    "closed_comp AS (SELECT DISTINCT name,\n",
    "                                id\n",
    "                FROM company\n",
    "                WHERE name LIKE 'Facebook'),\n",
    "#сотрудники, которые работали в закрывшихся компаниях с 1 раундом\n",
    "staff AS (SELECT DISTINCT people.id AS staff_id\n",
    "          FROM people\n",
    "          INNER JOIN closed_comp ON people.company_id=closed_comp.id),\n",
    "          \n",
    "#подзапрос НЕ уникальные пары ВУЗ и сотрудники\n",
    "res AS (SELECT staff.staff_id,\n",
    "        COUNT(education.instituition)\n",
    "        FROM staff\n",
    "        INNER JOIN education ON staff.staff_id=education.person_id\n",
    "        WHERE education.instituition IS NOT NULL\n",
    "        GROUP BY staff.staff_id)\n",
    "\n",
    "#основной запрос\n",
    "SELECT AVG(res.count)\n",
    "FROM res;"
   ]
  },
  {
   "cell_type": "markdown",
   "id": "1d017603",
   "metadata": {},
   "source": [
    "Составьте таблицу из полей:\n",
    "* `name_of_fund` — название фонда;\n",
    "* `name_of_company` — название компании;\n",
    "* `amount` — сумма инвестиций, которую привлекла компания в раунде.\n",
    "\n",
    "В таблицу войдут данные о компаниях, в истории которых было больше шести важных этапов, а раунды финансирования проходили с 2012 по 2013 год включительно."
   ]
  },
  {
   "cell_type": "code",
   "execution_count": null,
   "id": "685a8f76",
   "metadata": {},
   "outputs": [],
   "source": [
    "SELECT fund.name AS name_of_fund,\n",
    "       company.name AS name_of_company,\n",
    "       funding_round.raised_amount AS amount\n",
    "FROM investment\n",
    "INNER JOIN company ON investment.company_id=company.id\n",
    "INNER JOIN funding_round ON funding_round.id=investment.funding_round_id\n",
    "INNER JOIN fund ON investment.fund_id=fund.id\n",
    "WHERE EXTRACT(YEAR FROM funding_round.funded_at) BETWEEN 2012 AND 2013\n",
    "      AND company.milestones >6;"
   ]
  },
  {
   "cell_type": "markdown",
   "id": "ec85a7f5",
   "metadata": {},
   "source": [
    "Выгрузите таблицу, в которой будут такие поля:\n",
    "* название компании-покупателя;\n",
    "* сумма сделки;\n",
    "* название компании, которую купили;\n",
    "* сумма инвестиций, вложенных в купленную компанию;\n",
    "* доля, которая отображает, во сколько раз сумма покупки превысила сумму вложенных в компанию инвестиций, округлённая до ближайшего целого числа.\n",
    "\n",
    "Не учитывайте те сделки, в которых сумма покупки равна нулю. Если сумма инвестиций в компанию равна нулю, исключите такую компанию из таблицы. \n",
    "Отсортируйте таблицу по сумме сделки от большей к меньшей, а затем по названию купленной компании в лексикографическом порядке. Ограничьте таблицу первыми десятью записями."
   ]
  },
  {
   "cell_type": "code",
   "execution_count": null,
   "id": "59e7292d",
   "metadata": {},
   "outputs": [],
   "source": [
    "WITH\n",
    "acquisition AS (SELECT acquiring_company_id,\n",
    "                price_amount,\n",
    "                acquired_company_id\n",
    "                FROM acquisition\n",
    "                WHERE price_amount <> 0),\n",
    "\n",
    "company AS (SELECT id,\n",
    "                   name,\n",
    "                   funding_total\n",
    "            FROM company),\n",
    "            --WHERE funding_total <> 0),\n",
    "\n",
    "funding_round AS (SELECT company_id\n",
    "                  FROM funding_round\n",
    "                  WHERE raised_amount <> 0),\n",
    "\n",
    "acquired_company_dict AS (SELECT company.name AS acquired_company_name,\n",
    "                                 acquisition.acquired_company_id\n",
    "                          FROM acquisition \n",
    "                          LEFT OUTER JOIN company \n",
    "                               ON acquisition.acquired_company_id=company.id),\n",
    "\n",
    "acquiring_company_dict AS (SELECT company.name AS acquiring_company_name,\n",
    "                                  acquisition.acquiring_company_id\n",
    "                          FROM acquisition \n",
    "                          LEFT OUTER JOIN company \n",
    "                               ON acquisition.acquiring_company_id=company.id)\n",
    "\n",
    "#основной запрос\n",
    "SELECT DISTINCT acquiring_company_name,\n",
    "       price_amount,\n",
    "       acquired_company_name,\n",
    "       funding_total,\n",
    "       ROUND(acquisition.price_amount / company.funding_total)\n",
    "FROM acquisition\n",
    "    LEFT OUTER JOIN funding_round \n",
    "    ON funding_round.company_id=acquisition.acquired_company_id\n",
    "    LEFT OUTER JOIN acquiring_company_dict \n",
    "    ON acquisition.acquiring_company_id=acquiring_company_dict.acquiring_company_id\n",
    "    LEFT OUTER JOIN acquired_company_dict\n",
    "    ON acquisition.acquired_company_id=acquired_company_dict.acquired_company_id\n",
    "    LEFT OUTER JOIN company ON company.id=acquisition.acquired_company_id\n",
    "WHERE funding_total <> 0\n",
    "ORDER BY price_amount DESC,\n",
    "         acquired_company_name\n",
    "LIMIT 10;"
   ]
  },
  {
   "cell_type": "markdown",
   "id": "d2b957b3",
   "metadata": {},
   "source": [
    "Выгрузите таблицу, в которую войдут названия компаний из категории `social`, получившие финансирование с 2010 по 2013 год включительно. Проверьте, что сумма инвестиций не равна нулю. Выведите также номер месяца, в котором проходил раунд финансирования."
   ]
  },
  {
   "cell_type": "code",
   "execution_count": null,
   "id": "dfc85ff4",
   "metadata": {},
   "outputs": [],
   "source": [
    "WITH\n",
    "fund AS (\n",
    "    SELECT\n",
    "        company_id,\n",
    "        EXTRACT(MONTH FROM funded_at) AS month\n",
    "    FROM\n",
    "        funding_round\n",
    "    WHERE\n",
    "        EXTRACT(YEAR FROM funded_at) BETWEEN 2010 AND 2013\n",
    "        AND\n",
    "        raised_amount > 0\n",
    "),\n",
    "com AS (\n",
    "    SELECT id, name FROM\n",
    "        company\n",
    "    WHERE\n",
    "        category_code = 'social'\n",
    ")\n",
    "\n",
    "#основной запрос\n",
    "SELECT com.name, fund.month\n",
    "FROM fund INNER JOIN com ON fund.company_id = com.id\n",
    "ORDER BY month, name;"
   ]
  },
  {
   "cell_type": "markdown",
   "id": "857b3189",
   "metadata": {},
   "source": [
    "Отберите данные по месяцам с 2010 по 2013 год, когда проходили инвестиционные раунды. Сгруппируйте данные по номеру месяца и получите таблицу, в которой будут поля:\n",
    "* номер месяца, в котором проходили раунды;\n",
    "* количество уникальных названий фондов из США, которые инвестировали в этом месяце;\n",
    "* количество компаний, купленных за этот месяц;\n",
    "* общая сумма сделок по покупкам в этом месяце."
   ]
  },
  {
   "cell_type": "code",
   "execution_count": null,
   "id": "cbc0b07c",
   "metadata": {},
   "outputs": [],
   "source": [
    "WITH\n",
    "funding_round AS \n",
    "                (SELECT \n",
    "                        company_id,\n",
    "                        id AS funding_round_id,\n",
    "                        EXTRACT(MONTH FROM funded_at) AS month_round\n",
    "                FROM funding_round\n",
    "                WHERE EXTRACT(YEAR FROM funded_at) BETWEEN 2010 AND 2013),\n",
    "\n",
    "acquisition AS \n",
    "                (SELECT EXTRACT(MONTH FROM acquired_at) AS month_purchase,\n",
    "                       COUNT(acquired_company_id), --компании, которые купили\n",
    "                       SUM(price_amount) AS total_amount\n",
    "                FROM acquisition\n",
    "                WHERE EXTRACT(YEAR FROM acquired_at) BETWEEN 2010 AND 2013\n",
    "                GROUP BY month_purchase),\n",
    "\n",
    "funds_name AS \n",
    "                (SELECT funding_round_id,\n",
    "                        fund.name AS fund_name\n",
    "                FROM investment\n",
    "                LEFT JOIN fund ON fund.id=investment.fund_id\n",
    "                WHERE country_code LIKE 'USA'),\n",
    "                --GROUP BY funding_round_id),\n",
    "                 \n",
    "count_USA_name AS\n",
    "                (SELECT funding_round.month_round,\n",
    "                       COUNT(DISTINCT funds_name.fund_name) AS count_USA_name\n",
    "                FROM funding_round\n",
    "                LEFT JOIN funds_name \n",
    "                     ON funding_round.funding_round_id=funds_name.funding_round_id\n",
    "                GROUP BY funding_round.month_round)\n",
    "\n",
    "#основной запрос\n",
    "SELECT count_USA_name.month_round,\n",
    "        count_USA_name.count_usa_name,\n",
    "        acquisition.count,\n",
    "        acquisition.total_amount\n",
    "FROM count_USA_name\n",
    "LEFT JOIN acquisition ON count_USA_name.month_round=acquisition.month_purchase"
   ]
  },
  {
   "cell_type": "markdown",
   "id": "77e9e5f6",
   "metadata": {},
   "source": [
    "Составьте сводную таблицу и выведите среднюю сумму инвестиций для стран, в которых есть стартапы, зарегистрированные в 2011, 2012 и 2013 годах. Данные за каждый год должны быть в отдельном поле.\\\n",
    "Отсортируйте таблицу по среднему значению инвестиций за 2011 год от большего к меньшему."
   ]
  },
  {
   "cell_type": "code",
   "execution_count": null,
   "id": "22400328",
   "metadata": {},
   "outputs": [],
   "source": [
    "WITH\n",
    "year_2011 AS \n",
    "    (SELECT country_code,\n",
    "            AVG(funding_total) AS year_2011\n",
    "    FROM company\n",
    "    WHERE EXTRACT(YEAR FROM founded_at) = 2011\n",
    "    GROUP BY country_code),\n",
    "\n",
    "year_2012 AS \n",
    "    (SELECT country_code,\n",
    "            AVG(funding_total) AS year_2012\n",
    "    FROM company\n",
    "    WHERE EXTRACT(YEAR FROM founded_at) = 2012\n",
    "    GROUP BY country_code),\n",
    "\n",
    "year_2013 AS \n",
    "    (SELECT country_code,\n",
    "            AVG(funding_total) AS year_2013\n",
    "    FROM company\n",
    "    WHERE EXTRACT(YEAR FROM founded_at) = 2013\n",
    "    GROUP BY country_code)\n",
    "\n",
    "#основной запрос\n",
    "SELECT year_2011.country_code,\n",
    "       year_2011.year_2011,\n",
    "       year_2012.year_2012,\n",
    "       year_2013.year_2013\n",
    "FROM year_2011\n",
    "INNER JOIN year_2012 ON year_2011.country_code=year_2012.country_code\n",
    "INNER JOIN year_2013 ON year_2011.country_code=year_2013.country_code\n",
    "ORDER BY year_2011.year_2011 DESC"
   ]
  }
 ],
 "metadata": {
  "kernelspec": {
   "display_name": "Python 3 (ipykernel)",
   "language": "python",
   "name": "python3"
  },
  "language_info": {
   "codemirror_mode": {
    "name": "ipython",
    "version": 3
   },
   "file_extension": ".py",
   "mimetype": "text/x-python",
   "name": "python",
   "nbconvert_exporter": "python",
   "pygments_lexer": "ipython3",
   "version": "3.9.13"
  },
  "toc": {
   "base_numbering": 1,
   "nav_menu": {},
   "number_sections": true,
   "sideBar": true,
   "skip_h1_title": true,
   "title_cell": "Table of Contents",
   "title_sidebar": "Contents",
   "toc_cell": false,
   "toc_position": {
    "height": "calc(100% - 180px)",
    "left": "10px",
    "top": "150px",
    "width": "263.797px"
   },
   "toc_section_display": true,
   "toc_window_display": false
  }
 },
 "nbformat": 4,
 "nbformat_minor": 5
}
